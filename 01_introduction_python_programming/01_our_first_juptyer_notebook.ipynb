{
 "cells": [
  {
   "cell_type": "markdown",
   "metadata": {
    "slideshow": {
     "slide_type": "slide"
    }
   },
   "source": [
    "# Python code in Jupyter notebooks\n",
    "Python code can be written in \".py\" files, which can be executed from command line. Furthermore, for academic purposes, [Jupyter notebooks](https://jupyter-notebook.readthedocs.io/en/stable/) are often used to document what code does and add additional explanation and link to resources.\n",
    "\n",
    "See also\n",
    "* [Python 3 documentation](https://docs.python.org/3)\n",
    "* [Python fundamentals by the Carpentries](https://swcarpentry.github.io/python-novice-inflammation/)\n",
    "* [Python tutorials for image processing and machine learning by Digital Sreeni](https://www.youtube.com/playlist?list=PLZsOBAyNTZwYHBIlu_PUO19M7aHMgwBJr)\n",
    "\n",
    "Let's start with some python code, in a Jupyter notebook code cell. You can double click in this cell, change the code and execute it by hitting SHIFT+ENTER:"
   ]
  },
  {
   "cell_type": "code",
   "execution_count": 2,
   "metadata": {},
   "outputs": [
    {
     "name": "stdout",
     "output_type": "stream",
     "text": [
      "Hello world\n"
     ]
    }
   ],
   "source": [
    "print(\"Hello world\")"
   ]
  },
  {
   "cell_type": "markdown",
   "metadata": {},
   "source": [
    "* When working with Jupyter notebooks, obviously SHIFT-ENTER is **the** short cut people use all the time. \n",
    "* If you want to \"leave\" a cell without executing it, you can also hit ESCAPE. \n",
    "* You can add a new cell **a**bove the current cell by hitting A and **b**elow by hitting B. \n",
    "* You can delete cells by hitting D.\n",
    "\n",
    "There are more shortcuts. You can see them all in the menu above Help > Keyboard shortcuts or by hitting H.\n",
    "\n",
    "Try it out!"
   ]
  },
  {
   "cell_type": "code",
   "execution_count": null,
   "metadata": {},
   "outputs": [],
   "source": []
  },
  {
   "cell_type": "code",
   "execution_count": null,
   "metadata": {},
   "outputs": [],
   "source": []
  },
  {
   "cell_type": "code",
   "execution_count": null,
   "metadata": {},
   "outputs": [],
   "source": []
  },
  {
   "cell_type": "markdown",
   "metadata": {
    "slideshow": {
     "slide_type": "slide"
    }
   },
   "source": [
    "## Markdown documentation in Jupyter notebooks\n",
    "Markdown is a coding language for describing the **formating** ~of~ *text*. In order to see the markdown code which describes this text, double click this cell in your jupyter notebook. Hit SHIFT+ENTER to return to the viewing mode.\n",
    "\n",
    "* Bullet point\n",
    "* More bullet points\n",
    "  * Deeper bullet points\n",
    "\n",
    "1. List entry\n",
    "2. Another list entry\n",
    "4. More list entries\n",
    "8. [Markdown cheatsheet](https://github.com/adam-p/markdown-here/wiki/Markdown-Cheatsheet)"
   ]
  },
  {
   "cell_type": "markdown",
   "metadata": {},
   "source": [
    "# Exercise\n",
    "Add a new python code cell below and use the `print` command to print your name."
   ]
  }
 ],
 "metadata": {
  "kernelspec": {
   "display_name": "Python 3 (ipykernel)",
   "language": "python",
   "name": "python3"
  },
  "language_info": {
   "codemirror_mode": {
    "name": "ipython",
    "version": 3
   },
   "file_extension": ".py",
   "mimetype": "text/x-python",
   "name": "python",
   "nbconvert_exporter": "python",
   "pygments_lexer": "ipython3",
   "version": "3.9.10"
  }
 },
 "nbformat": 4,
 "nbformat_minor": 4
}
