{
 "cells": [
  {
   "cell_type": "markdown",
   "id": "bottom-favorite",
   "metadata": {},
   "source": [
    "# Basic types in python\n",
    "We already learned there are numbers in python which can be stored in variables. We can also print out the type of a vairable.\n",
    "\n",
    "See also\n",
    "* [Built-in types in python](https://docs.python.org/3/library/stdtypes.html)\n",
    "* [Basic types in python](https://realpython.com/python-data-types/)\n",
    "\n",
    "This is an integer number:"
   ]
  },
  {
   "cell_type": "code",
   "execution_count": 1,
   "id": "strange-pencil",
   "metadata": {},
   "outputs": [],
   "source": [
    "a = 5"
   ]
  },
  {
   "cell_type": "code",
   "execution_count": 2,
   "id": "western-depth",
   "metadata": {},
   "outputs": [
    {
     "data": {
      "text/plain": [
       "int"
      ]
     },
     "execution_count": 2,
     "metadata": {},
     "output_type": "execute_result"
    }
   ],
   "source": [
    "type(a)"
   ]
  },
  {
   "cell_type": "markdown",
   "id": "other-socket",
   "metadata": {},
   "source": [
    "And this is a floating point variable:"
   ]
  },
  {
   "cell_type": "code",
   "execution_count": 3,
   "id": "expanded-atlantic",
   "metadata": {},
   "outputs": [],
   "source": [
    "b = 3.5"
   ]
  },
  {
   "cell_type": "code",
   "execution_count": 4,
   "id": "declared-stadium",
   "metadata": {},
   "outputs": [
    {
     "data": {
      "text/plain": [
       "float"
      ]
     },
     "execution_count": 4,
     "metadata": {},
     "output_type": "execute_result"
    }
   ],
   "source": [
    "type(b)"
   ]
  },
  {
   "cell_type": "markdown",
   "id": "speaking-satin",
   "metadata": {},
   "source": [
    "When combining variables of different types, Python makes a decision which type the new variable should have"
   ]
  },
  {
   "cell_type": "code",
   "execution_count": 5,
   "id": "strange-maria",
   "metadata": {},
   "outputs": [],
   "source": [
    "c = a + b"
   ]
  },
  {
   "cell_type": "code",
   "execution_count": 6,
   "id": "patient-insider",
   "metadata": {},
   "outputs": [
    {
     "data": {
      "text/plain": [
       "float"
      ]
     },
     "execution_count": 6,
     "metadata": {},
     "output_type": "execute_result"
    }
   ],
   "source": [
    "type(c)"
   ]
  },
  {
   "cell_type": "markdown",
   "id": "integrated-politics",
   "metadata": {},
   "source": [
    "# Strings\n",
    "Variables can also hold text. We call them a \"string\" in this case:"
   ]
  },
  {
   "cell_type": "code",
   "execution_count": 7,
   "id": "severe-democracy",
   "metadata": {},
   "outputs": [],
   "source": [
    "first_name = \"Robert\"\n",
    "last_name = 'Haase'"
   ]
  },
  {
   "cell_type": "markdown",
   "id": "scenic-consensus",
   "metadata": {},
   "source": [
    "Strings can be concatenated using the `+` operator:"
   ]
  },
  {
   "cell_type": "code",
   "execution_count": 8,
   "id": "capable-vegetable",
   "metadata": {},
   "outputs": [
    {
     "data": {
      "text/plain": [
       "'RobertHaase'"
      ]
     },
     "execution_count": 8,
     "metadata": {},
     "output_type": "execute_result"
    }
   ],
   "source": [
    "first_name + last_name"
   ]
  },
  {
   "cell_type": "code",
   "execution_count": 9,
   "id": "configured-bacteria",
   "metadata": {},
   "outputs": [
    {
     "data": {
      "text/plain": [
       "'Robert Haase'"
      ]
     },
     "execution_count": 9,
     "metadata": {},
     "output_type": "execute_result"
    }
   ],
   "source": [
    "first_name + \" \" + last_name"
   ]
  },
  {
   "cell_type": "code",
   "execution_count": 10,
   "id": "5d94516d",
   "metadata": {},
   "outputs": [
    {
     "name": "stdout",
     "output_type": "stream",
     "text": [
      "She said 'Hi'.\n"
     ]
    }
   ],
   "source": [
    "text = \"She said 'Hi'.\"\n",
    "print(text)"
   ]
  },
  {
   "cell_type": "code",
   "execution_count": 11,
   "id": "8a0ce0be",
   "metadata": {},
   "outputs": [
    {
     "name": "stdout",
     "output_type": "stream",
     "text": [
      "He said \"How are you?\".\n"
     ]
    }
   ],
   "source": [
    "text = 'He said \"How are you?\".'\n",
    "print(text)"
   ]
  },
  {
   "cell_type": "markdown",
   "id": "b2aad18a",
   "metadata": {},
   "source": [
    "## Combining strings and numbers"
   ]
  },
  {
   "cell_type": "markdown",
   "id": "beneficial-willow",
   "metadata": {},
   "source": [
    "When combining variables of numeric types and string types, errors may appear:"
   ]
  },
  {
   "cell_type": "code",
   "execution_count": 12,
   "id": "naughty-panic",
   "metadata": {},
   "outputs": [
    {
     "ename": "TypeError",
     "evalue": "can only concatenate str (not \"int\") to str",
     "output_type": "error",
     "traceback": [
      "\u001b[1;31m---------------------------------------------------------------------------\u001b[0m",
      "\u001b[1;31mTypeError\u001b[0m                                 Traceback (most recent call last)",
      "Input \u001b[1;32mIn [12]\u001b[0m, in \u001b[0;36m<module>\u001b[1;34m\u001b[0m\n\u001b[1;32m----> 1\u001b[0m \u001b[43mfirst_name\u001b[49m\u001b[43m \u001b[49m\u001b[38;5;241;43m+\u001b[39;49m\u001b[43m \u001b[49m\u001b[43ma\u001b[49m\n",
      "\u001b[1;31mTypeError\u001b[0m: can only concatenate str (not \"int\") to str"
     ]
    }
   ],
   "source": [
    "first_name + a"
   ]
  },
  {
   "cell_type": "markdown",
   "id": "whole-disabled",
   "metadata": {},
   "source": [
    "Those can be prevented by converting the numeric variable to a string type using the `str()` function:"
   ]
  },
  {
   "cell_type": "code",
   "execution_count": 13,
   "id": "mental-curve",
   "metadata": {},
   "outputs": [
    {
     "data": {
      "text/plain": [
       "'Robert5'"
      ]
     },
     "execution_count": 13,
     "metadata": {},
     "output_type": "execute_result"
    }
   ],
   "source": [
    "first_name + str(a)"
   ]
  },
  {
   "cell_type": "markdown",
   "id": "significant-church",
   "metadata": {},
   "source": [
    "You can also convert strings to numbers in case they contain numbers:"
   ]
  },
  {
   "cell_type": "code",
   "execution_count": 14,
   "id": "optical-maker",
   "metadata": {},
   "outputs": [],
   "source": [
    "d = \"5\""
   ]
  },
  {
   "cell_type": "code",
   "execution_count": 15,
   "id": "continent-march",
   "metadata": {},
   "outputs": [
    {
     "data": {
      "text/plain": [
       "5"
      ]
     },
     "execution_count": 15,
     "metadata": {},
     "output_type": "execute_result"
    }
   ],
   "source": [
    "int(d)"
   ]
  },
  {
   "cell_type": "code",
   "execution_count": 16,
   "id": "becoming-moisture",
   "metadata": {},
   "outputs": [
    {
     "data": {
      "text/plain": [
       "10"
      ]
     },
     "execution_count": 16,
     "metadata": {},
     "output_type": "execute_result"
    }
   ],
   "source": [
    "a + int(d)"
   ]
  },
  {
   "cell_type": "markdown",
   "id": "unnecessary-brazilian",
   "metadata": {},
   "source": [
    "If the string does not contain a number, an error message may appear:"
   ]
  },
  {
   "cell_type": "code",
   "execution_count": 17,
   "id": "professional-guyana",
   "metadata": {},
   "outputs": [
    {
     "ename": "ValueError",
     "evalue": "invalid literal for int() with base 10: 'hello'",
     "output_type": "error",
     "traceback": [
      "\u001b[1;31m---------------------------------------------------------------------------\u001b[0m",
      "\u001b[1;31mValueError\u001b[0m                                Traceback (most recent call last)",
      "Input \u001b[1;32mIn [17]\u001b[0m, in \u001b[0;36m<module>\u001b[1;34m\u001b[0m\n\u001b[1;32m----> 1\u001b[0m \u001b[38;5;28;43mint\u001b[39;49m\u001b[43m(\u001b[49m\u001b[38;5;124;43m\"\u001b[39;49m\u001b[38;5;124;43mhello\u001b[39;49m\u001b[38;5;124;43m\"\u001b[39;49m\u001b[43m)\u001b[49m\n",
      "\u001b[1;31mValueError\u001b[0m: invalid literal for int() with base 10: 'hello'"
     ]
    }
   ],
   "source": [
    "int(\"hello\")"
   ]
  },
  {
   "cell_type": "code",
   "execution_count": 18,
   "id": "consolidated-arrow",
   "metadata": {},
   "outputs": [
    {
     "ename": "ValueError",
     "evalue": "invalid literal for int() with base 10: ''",
     "output_type": "error",
     "traceback": [
      "\u001b[1;31m---------------------------------------------------------------------------\u001b[0m",
      "\u001b[1;31mValueError\u001b[0m                                Traceback (most recent call last)",
      "Input \u001b[1;32mIn [18]\u001b[0m, in \u001b[0;36m<module>\u001b[1;34m\u001b[0m\n\u001b[1;32m----> 1\u001b[0m \u001b[38;5;28;43mint\u001b[39;49m\u001b[43m(\u001b[49m\u001b[38;5;124;43m\"\u001b[39;49m\u001b[38;5;124;43m\"\u001b[39;49m\u001b[43m)\u001b[49m\n",
      "\u001b[1;31mValueError\u001b[0m: invalid literal for int() with base 10: ''"
     ]
    }
   ],
   "source": [
    "int(\"\")"
   ]
  },
  {
   "cell_type": "code",
   "execution_count": 19,
   "id": "outstanding-punishment",
   "metadata": {},
   "outputs": [
    {
     "data": {
      "text/plain": [
       "5"
      ]
     },
     "execution_count": 19,
     "metadata": {},
     "output_type": "execute_result"
    }
   ],
   "source": [
    "int(\"5\")"
   ]
  },
  {
   "cell_type": "markdown",
   "id": "bace6f17-fbfe-4a31-be97-7c274b24dba3",
   "metadata": {},
   "source": [
    "`f`ormatting string in python can also be done like the following, simplifying our life."
   ]
  },
  {
   "cell_type": "code",
   "execution_count": 20,
   "id": "49a3d501-a741-4f29-93b8-5aa8f7d688e3",
   "metadata": {},
   "outputs": [
    {
     "data": {
      "text/plain": [
       "'Our lecturer today is Robert Haase'"
      ]
     },
     "execution_count": 20,
     "metadata": {},
     "output_type": "execute_result"
    }
   ],
   "source": [
    "f\"Our lecturer today is {first_name} {last_name}\""
   ]
  },
  {
   "cell_type": "markdown",
   "id": "offshore-grenada",
   "metadata": {},
   "source": [
    "# Exercise\n",
    "[Marie Curie's](https://en.wikipedia.org/wiki/Marie_Curie) name and birthdate are stored in variables. Concatenate them in one string variable and print it out. The output should be \"Marie Curie, * 7 November 1867\""
   ]
  },
  {
   "cell_type": "code",
   "execution_count": 21,
   "id": "nasty-guarantee",
   "metadata": {},
   "outputs": [],
   "source": [
    "first_name = \"Marie\"\n",
    "last_name = \"Curie\"\n",
    "\n",
    "birthday_day = 7\n",
    "birthday_month = \"November\"\n",
    "birthday_year = 1867"
   ]
  },
  {
   "cell_type": "code",
   "execution_count": null,
   "id": "modified-advancement",
   "metadata": {},
   "outputs": [],
   "source": []
  }
 ],
 "metadata": {
  "kernelspec": {
   "display_name": "Python 3 (ipykernel)",
   "language": "python",
   "name": "python3"
  },
  "language_info": {
   "codemirror_mode": {
    "name": "ipython",
    "version": 3
   },
   "file_extension": ".py",
   "mimetype": "text/x-python",
   "name": "python",
   "nbconvert_exporter": "python",
   "pygments_lexer": "ipython3",
   "version": "3.9.10"
  }
 },
 "nbformat": 4,
 "nbformat_minor": 5
}
