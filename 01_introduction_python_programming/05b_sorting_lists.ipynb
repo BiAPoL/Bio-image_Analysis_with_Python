{
 "cells": [
  {
   "cell_type": "markdown",
   "id": "2bac9780-3f38-4f74-9a22-577e2a4c6643",
   "metadata": {},
   "source": [
    "# Sorting lists\n",
    "When working with simple forms of data, e.g. a list of measurements, it might be useful to sort them. With this, we could for example quickly access the smallest numbers in a list.\n",
    "\n",
    "Let's start again with a list of numbers"
   ]
  },
  {
   "cell_type": "code",
   "execution_count": 1,
   "id": "24617c60-0f20-4d12-ae69-b99630fbd919",
   "metadata": {},
   "outputs": [
    {
     "data": {
      "text/plain": [
       "[34, 0, 65, 23, 51, 9, 50, 78, 34, 100]"
      ]
     },
     "execution_count": 1,
     "metadata": {},
     "output_type": "execute_result"
    }
   ],
   "source": [
    "data = [34, 0, 65, 23, 51, 9, 50, 78, 34, 100]\n",
    "data"
   ]
  },
  {
   "cell_type": "markdown",
   "id": "21077e88-518e-4f68-94b8-2d77e87b4058",
   "metadata": {},
   "source": [
    "There is the [sort](https://docs.python.org/3/library/stdtypes.html?highlight=sort#list.sort) operation, which actually modifies a list:"
   ]
  },
  {
   "cell_type": "code",
   "execution_count": 2,
   "id": "b6ea27f0-1a39-4750-be11-f32302f9221a",
   "metadata": {},
   "outputs": [
    {
     "data": {
      "text/plain": [
       "[0, 9, 23, 34, 34, 50, 51, 65, 78, 100]"
      ]
     },
     "execution_count": 2,
     "metadata": {},
     "output_type": "execute_result"
    }
   ],
   "source": [
    "data.sort()\n",
    "data"
   ]
  },
  {
   "cell_type": "markdown",
   "id": "047fd778-15dc-4d31-8029-f403ad4f555a",
   "metadata": {},
   "source": [
    "Hence, we should execute Jupyter notebook cells in order because the `data` variable is afterwards modified (we should do this anyway).\n",
    "\n",
    "After sorting, this will give us the three smallest entries in the list:"
   ]
  },
  {
   "cell_type": "code",
   "execution_count": 3,
   "id": "37a90146-5349-483f-a59f-65a085e11210",
   "metadata": {},
   "outputs": [
    {
     "data": {
      "text/plain": [
       "[0, 9, 23]"
      ]
     },
     "execution_count": 3,
     "metadata": {},
     "output_type": "execute_result"
    }
   ],
   "source": [
    "data[:3]"
   ]
  },
  {
   "cell_type": "markdown",
   "id": "ed4fa049-f856-4dce-9611-bfd15aea4b0f",
   "metadata": {},
   "source": [
    "And this will give us the three largest numbers:"
   ]
  },
  {
   "cell_type": "code",
   "execution_count": 4,
   "id": "a7cf8c3e-6728-4b2a-aa55-09fb813ca566",
   "metadata": {},
   "outputs": [
    {
     "data": {
      "text/plain": [
       "[65, 78, 100]"
      ]
     },
     "execution_count": 4,
     "metadata": {},
     "output_type": "execute_result"
    }
   ],
   "source": [
    "data[-3:]"
   ]
  },
  {
   "cell_type": "markdown",
   "id": "59652f9a-e7f8-430a-af79-80d91a902bef",
   "metadata": {},
   "source": [
    "## Exercise\n",
    "Find out the [median](https://en.wikipedia.org/wiki/Median) of these two lists of numbers:"
   ]
  },
  {
   "cell_type": "code",
   "execution_count": 5,
   "id": "50f4cac1-b627-45af-a966-908e09812cfe",
   "metadata": {},
   "outputs": [],
   "source": [
    "data1 = [6, 4, 3, 4, 8, 10]"
   ]
  },
  {
   "cell_type": "code",
   "execution_count": null,
   "id": "5f05c6d8-1c7f-491c-8ff5-6a4f4375a6f5",
   "metadata": {},
   "outputs": [],
   "source": []
  },
  {
   "cell_type": "code",
   "execution_count": 6,
   "id": "6b3c6eec-c6af-451a-bf3f-098463166531",
   "metadata": {},
   "outputs": [],
   "source": [
    "data2 = [6, 4, 3, 4, 8, 10, 8]"
   ]
  },
  {
   "cell_type": "code",
   "execution_count": null,
   "id": "3cec52eb-8d46-4431-8f28-387e98e8091c",
   "metadata": {},
   "outputs": [],
   "source": []
  },
  {
   "cell_type": "markdown",
   "id": "773affe3-8022-45ef-a7cf-c9a14e46d713",
   "metadata": {},
   "source": [
    "Print out the smallest three numbers in this list:"
   ]
  },
  {
   "cell_type": "code",
   "execution_count": 7,
   "id": "80e825b9-e41b-479e-89a3-88e17c68b210",
   "metadata": {},
   "outputs": [],
   "source": [
    "data3 = [45, 23, 32, 45, 84, 37, 27, 92, 19, 29, 32, 40, 29, 20, 47, 28, 28, 19, 10, 29, 65, 23]"
   ]
  },
  {
   "cell_type": "code",
   "execution_count": null,
   "id": "f28d4aee-4cba-43fa-ab6d-adec918818b1",
   "metadata": {},
   "outputs": [],
   "source": []
  }
 ],
 "metadata": {
  "kernelspec": {
   "display_name": "Python 3 (ipykernel)",
   "language": "python",
   "name": "python3"
  },
  "language_info": {
   "codemirror_mode": {
    "name": "ipython",
    "version": 3
   },
   "file_extension": ".py",
   "mimetype": "text/x-python",
   "name": "python",
   "nbconvert_exporter": "python",
   "pygments_lexer": "ipython3",
   "version": "3.9.10"
  }
 },
 "nbformat": 4,
 "nbformat_minor": 5
}
