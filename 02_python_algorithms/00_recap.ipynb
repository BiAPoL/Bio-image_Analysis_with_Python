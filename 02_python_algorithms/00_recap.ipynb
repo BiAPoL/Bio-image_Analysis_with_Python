{
 "cells": [
  {
   "cell_type": "markdown",
   "id": "c3cbc71d-e366-4d5a-8c99-11cfbec20952",
   "metadata": {},
   "source": [
    "# Recap reading exercises\n",
    "Before executing the following Python code, try to predict its output. If your prediction is wrong, modify the code to better understand what the code is doing."
   ]
  },
  {
   "cell_type": "code",
   "execution_count": null,
   "id": "dec01838-b647-4379-ace8-899eaac3fadb",
   "metadata": {},
   "outputs": [],
   "source": [
    "x"
   ]
  },
  {
   "cell_type": "code",
   "execution_count": null,
   "id": "85132c2a-779a-473c-973f-6e217386e1bb",
   "metadata": {},
   "outputs": [],
   "source": [
    "alphabet = \"ABCDEFGHIJKLMNOPQRSTUVWXYZ\""
   ]
  },
  {
   "cell_type": "code",
   "execution_count": null,
   "id": "41abc578-5ae5-4ec0-b3e3-b061549565e8",
   "metadata": {},
   "outputs": [],
   "source": [
    "alphabet[0:3]"
   ]
  },
  {
   "cell_type": "code",
   "execution_count": null,
   "id": "b2871d23-206e-4081-b268-7a9f73e6a8b7",
   "metadata": {},
   "outputs": [],
   "source": [
    "alphabet[-3:]"
   ]
  },
  {
   "cell_type": "code",
   "execution_count": null,
   "id": "eb84f710-2458-4d3b-9db4-f063dddc48b1",
   "metadata": {},
   "outputs": [],
   "source": [
    "alphabet[::2]"
   ]
  },
  {
   "cell_type": "code",
   "execution_count": null,
   "id": "d31fe125-50b9-4864-8250-b57aa04c5875",
   "metadata": {},
   "outputs": [],
   "source": [
    "message = (\n",
    "    alphabet[7] + \n",
    "    alphabet[0] + \n",
    "    alphabet[15] + \n",
    "    alphabet[15] + \n",
    "    alphabet[-2] + \n",
    "    \" \" + \n",
    "    alphabet[4] +\n",
    "    alphabet[0] +\n",
    "    alphabet[18] + \n",
    "    alphabet[19] + \n",
    "    alphabet[4] +\n",
    "    alphabet[17]\n",
    ")\n",
    "message"
   ]
  },
  {
   "cell_type": "code",
   "execution_count": null,
   "id": "0d52e916-5284-4539-a15e-8b44e4a5575b",
   "metadata": {},
   "outputs": [],
   "source": [
    "message[0:5] * 5"
   ]
  },
  {
   "cell_type": "markdown",
   "id": "868924b5-ee7c-419c-a50b-05ca78d62578",
   "metadata": {},
   "source": [
    "# Recap writing exercises"
   ]
  },
  {
   "cell_type": "markdown",
   "id": "d271645d-a6ea-43fe-8f70-0b93680c2b82",
   "metadata": {},
   "source": [
    "Formulate Python code for setting a variable `numbers` to a list containing all numbers between 0 and 30 that are divisible by 2 and smaller than 10 or larger than 20."
   ]
  },
  {
   "cell_type": "code",
   "execution_count": null,
   "id": "32f1eb87-44aa-4088-94df-7b0795a9e76e",
   "metadata": {},
   "outputs": [],
   "source": []
  },
  {
   "cell_type": "markdown",
   "id": "76032ad9-8e42-461d-ad3b-d73a9832530f",
   "metadata": {},
   "source": [
    "The following list of `counts` is given. Write Python code so that the total sum of all array elements is 10. Do not change the Python code which is already written."
   ]
  },
  {
   "cell_type": "code",
   "execution_count": null,
   "id": "5fa57bf4-15c7-4c1c-b8b8-9f8770d74940",
   "metadata": {},
   "outputs": [],
   "source": [
    "counts = [1, 6, 3, 4]"
   ]
  },
  {
   "cell_type": "code",
   "execution_count": null,
   "id": "120ba559-cd90-4a5d-8cac-75bac9779b04",
   "metadata": {},
   "outputs": [],
   "source": []
  },
  {
   "cell_type": "code",
   "execution_count": null,
   "id": "3cccd1e0-6086-4cc7-9d54-2496aafb21bf",
   "metadata": {},
   "outputs": [],
   "source": [
    "sum(counts)"
   ]
  },
  {
   "cell_type": "markdown",
   "id": "ff08eb1c-349d-486a-a616-5aea1a745240",
   "metadata": {},
   "source": [
    "Write a Python dictionary `en_de_dictionary` for translating these terms from English to German:\n",
    "    \n",
    "| English | German  |\n",
    "|---------|---------|\n",
    "| Easter  | Ostern  |\n",
    "| Egg     | Ei      |\n",
    "| Happy   | Frohe   |\n",
    "| Rabbit  | Hase    |   "
   ]
  },
  {
   "cell_type": "code",
   "execution_count": null,
   "id": "22d54c94-b99f-4134-b145-bce74bf38750",
   "metadata": {},
   "outputs": [],
   "source": []
  },
  {
   "cell_type": "markdown",
   "id": "10f8660c-741e-4340-b650-a2fc73b4a09e",
   "metadata": {},
   "source": [
    "Use the dictionary to translate this short text."
   ]
  },
  {
   "cell_type": "code",
   "execution_count": null,
   "id": "332bf359-21d2-4ede-aa02-fed798070de4",
   "metadata": {},
   "outputs": [],
   "source": [
    "text = ['Happy', 'Easter']"
   ]
  },
  {
   "cell_type": "code",
   "execution_count": null,
   "id": "02c490c8-8445-49ec-94b8-709eb28500bc",
   "metadata": {},
   "outputs": [],
   "source": []
  },
  {
   "cell_type": "markdown",
   "id": "02804216-c2ae-4c6f-981a-94623629712f",
   "metadata": {},
   "source": [
    "Hint: Save a single word from the text in a new variable and then search for this variable in the dictionary."
   ]
  },
  {
   "cell_type": "code",
   "execution_count": null,
   "id": "572d862f-e1ab-4777-9b4c-727e131d9adf",
   "metadata": {},
   "outputs": [],
   "source": []
  }
 ],
 "metadata": {
  "kernelspec": {
   "display_name": "Python 3 (ipykernel)",
   "language": "python",
   "name": "python3"
  },
  "language_info": {
   "codemirror_mode": {
    "name": "ipython",
    "version": 3
   },
   "file_extension": ".py",
   "mimetype": "text/x-python",
   "name": "python",
   "nbconvert_exporter": "python",
   "pygments_lexer": "ipython3",
   "version": "3.9.15"
  }
 },
 "nbformat": 4,
 "nbformat_minor": 5
}
