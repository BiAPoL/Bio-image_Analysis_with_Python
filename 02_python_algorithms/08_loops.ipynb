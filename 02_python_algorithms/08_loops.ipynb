{
 "cells": [
  {
   "cell_type": "markdown",
   "metadata": {},
   "source": [
    "# Loops\n",
    "If you want code to be executed repeatedly, you can make use of loops.\n",
    "\n",
    "See also\n",
    "* [Python loops Tutorial](https://www.youtube.com/watch?v=4dN4Cn4u2M0)\n",
    "* [Python for loops](https://www.w3schools.com/python/python_for_loops.asp)"
   ]
  },
  {
   "cell_type": "markdown",
   "metadata": {},
   "source": [
    "## For loops\n",
    "For looping over a range of numbers, we can use a simple `for` loop and the [range](https://www.w3schools.com/python/ref_func_range.asp) function.\n",
    "\n",
    "In the following cell, the `print(i)` command will be executed a couple of times for different values of `i`. We **i**terate over a range of values: "
   ]
  },
  {
   "cell_type": "code",
   "execution_count": 1,
   "metadata": {},
   "outputs": [
    {
     "name": "stdout",
     "output_type": "stream",
     "text": [
      "0\n",
      "1\n",
      "2\n",
      "3\n",
      "4\n"
     ]
    }
   ],
   "source": [
    "for i in range(0, 5):\n",
    "    print(i)"
   ]
  },
  {
   "cell_type": "markdown",
   "metadata": {},
   "source": [
    "Note that the above code that is indented will only be excuted for the first given number (0) and continue until the last number (5) but not including it.\n",
    "\n",
    "You can also loop over a range of numbers with a defined step, for example step 3:"
   ]
  },
  {
   "cell_type": "code",
   "execution_count": 2,
   "metadata": {},
   "outputs": [
    {
     "name": "stdout",
     "output_type": "stream",
     "text": [
      "0\n",
      "3\n",
      "6\n",
      "9\n"
     ]
    }
   ],
   "source": [
    "for i in range(0, 10, 3):\n",
    "    print(i)"
   ]
  },
  {
   "cell_type": "markdown",
   "metadata": {},
   "source": [
    "Iterating over arrays allows you to do something with all array elements:"
   ]
  },
  {
   "cell_type": "code",
   "execution_count": 3,
   "metadata": {},
   "outputs": [
    {
     "name": "stdout",
     "output_type": "stream",
     "text": [
      "Dog\n",
      "Cat\n",
      "Mouse\n"
     ]
    }
   ],
   "source": [
    "for animal in [\"Dog\", \"Cat\", \"Mouse\"]:\n",
    "    print(animal)"
   ]
  },
  {
   "cell_type": "markdown",
   "metadata": {},
   "source": [
    "You can iterate over two arrays in parallel, pair-wise like this:"
   ]
  },
  {
   "cell_type": "code",
   "execution_count": 4,
   "metadata": {},
   "outputs": [
    {
     "name": "stdout",
     "output_type": "stream",
     "text": [
      "Paired measurements: 1 and 4\n",
      "Paired measurements: 9 and 5\n",
      "Paired measurements: 7 and 5\n",
      "Paired measurements: 1 and 7\n",
      "Paired measurements: 2 and 4\n",
      "Paired measurements: 8 and 5\n",
      "Paired measurements: 9 and 4\n",
      "Paired measurements: 2 and 6\n",
      "Paired measurements: 1 and 6\n",
      "Paired measurements: 7 and 5\n",
      "Paired measurements: 8 and 4\n"
     ]
    }
   ],
   "source": [
    "# going through arrays pair-wise\n",
    "measurement_1 = [1, 9, 7, 1, 2, 8, 9, 2, 1, 7, 8]\n",
    "measurement_2 = [4, 5, 5, 7, 4, 5, 4, 6, 6, 5, 4]\n",
    "\n",
    "for m_1, m_2 in zip(measurement_1, measurement_2):\n",
    "    print(\"Paired measurements: \" + str(m_1) + \" and \" + str(m_2))"
   ]
  },
  {
   "cell_type": "markdown",
   "metadata": {},
   "source": [
    "If you want to know the index of the element in the list as well, use the [enumerate](https://realpython.com/python-enumerate/) function:"
   ]
  },
  {
   "cell_type": "code",
   "execution_count": 5,
   "metadata": {},
   "outputs": [
    {
     "name": "stdout",
     "output_type": "stream",
     "text": [
      "The animal number 0 in the list is Dog\n",
      "The animal number 1 in the list is Cat\n",
      "The animal number 2 in the list is Mouse\n"
     ]
    }
   ],
   "source": [
    "# numbering and iterating through collections\n",
    "for index, animal in enumerate([\"Dog\", \"Cat\", \"Mouse\"]):\n",
    "    print(\"The animal number \" + str(index) + \" in the list is \" + animal)\n"
   ]
  },
  {
   "cell_type": "markdown",
   "metadata": {},
   "source": [
    "## Generating lists in loops\n",
    "One can generate lists using for loops. The conventional way of doing this involves multiple lines of code:"
   ]
  },
  {
   "cell_type": "code",
   "execution_count": 6,
   "metadata": {},
   "outputs": [
    {
     "name": "stdout",
     "output_type": "stream",
     "text": [
      "[0, 2, 4, 6, 8]\n"
     ]
    }
   ],
   "source": [
    "# we start with an empty list\n",
    "numbers = []\n",
    "\n",
    "# and add elements\n",
    "for i in range(0, 5):\n",
    "    numbers.append(i * 2)\n",
    "    \n",
    "print(numbers)"
   ]
  },
  {
   "cell_type": "markdown",
   "metadata": {},
   "source": [
    "One can also write that shorter. The underlying concept is called [generators](https://wiki.python.org/moin/Generators)."
   ]
  },
  {
   "cell_type": "code",
   "execution_count": 7,
   "metadata": {},
   "outputs": [
    {
     "name": "stdout",
     "output_type": "stream",
     "text": [
      "[0, 2, 4, 6, 8]\n"
     ]
    }
   ],
   "source": [
    "numbers = [i * 2 for i in range(0, 5)]\n",
    "\n",
    "print(numbers)"
   ]
  },
  {
   "cell_type": "markdown",
   "metadata": {},
   "source": [
    "The conventional combination involving an if-statements looks like this:"
   ]
  },
  {
   "cell_type": "code",
   "execution_count": 8,
   "metadata": {},
   "outputs": [
    {
     "name": "stdout",
     "output_type": "stream",
     "text": [
      "[2, 6]\n"
     ]
    }
   ],
   "source": [
    "# we start with an empty list\n",
    "numbers = []\n",
    "\n",
    "# and add elements\n",
    "for i in range(0, 5):\n",
    "    # check if the number is odd\n",
    "    if i % 2:\n",
    "        numbers.append(i * 2)\n",
    "    \n",
    "print(numbers)"
   ]
  },
  {
   "cell_type": "markdown",
   "metadata": {},
   "source": [
    "And the short version like this:"
   ]
  },
  {
   "cell_type": "code",
   "execution_count": 9,
   "metadata": {},
   "outputs": [
    {
     "name": "stdout",
     "output_type": "stream",
     "text": [
      "[2, 6]\n"
     ]
    }
   ],
   "source": [
    "numbers = [i * 2 for i in range(0, 5) if i % 2]\n",
    "\n",
    "print(numbers)"
   ]
  },
  {
   "cell_type": "markdown",
   "metadata": {},
   "source": [
    "## While loops\n",
    "Another way of looping is using the `while` loop. It works by checking a condition, similar to the `if` statement. It will interrupt execution as soon as the condition is no longer true:"
   ]
  },
  {
   "cell_type": "code",
   "execution_count": 10,
   "metadata": {},
   "outputs": [
    {
     "name": "stdout",
     "output_type": "stream",
     "text": [
      "512.0\n",
      "256.0\n",
      "128.0\n",
      "64.0\n",
      "32.0\n",
      "16.0\n",
      "8.0\n",
      "4.0\n",
      "2.0\n",
      "1.0\n"
     ]
    }
   ],
   "source": [
    "number = 1024\n",
    "\n",
    "while (number > 1):\n",
    "    number = number / 2\n",
    "    print(number)"
   ]
  },
  {
   "cell_type": "markdown",
   "metadata": {},
   "source": [
    "## Interrupting loops\n",
    "You can interrupt loops at specific points in your code using the `break` command:"
   ]
  },
  {
   "cell_type": "code",
   "execution_count": 11,
   "metadata": {},
   "outputs": [
    {
     "name": "stdout",
     "output_type": "stream",
     "text": [
      "512.0\n",
      "256.0\n",
      "128.0\n",
      "64.0\n",
      "32.0\n",
      "16.0\n",
      "8.0\n",
      "4.0\n",
      "2.0\n",
      "1.0\n",
      "0.5\n"
     ]
    }
   ],
   "source": [
    "number = 1024\n",
    "\n",
    "while (True):\n",
    "    number = number / 2\n",
    "    print(number)\n",
    "    \n",
    "    if number < 1:\n",
    "        break;"
   ]
  },
  {
   "cell_type": "code",
   "execution_count": 12,
   "metadata": {},
   "outputs": [
    {
     "name": "stdout",
     "output_type": "stream",
     "text": [
      "0\n",
      "1\n",
      "2\n",
      "3\n",
      "4\n",
      "5\n",
      "6\n"
     ]
    }
   ],
   "source": [
    "for i in range(10):\n",
    "    print(i)\n",
    "    if i > 5:\n",
    "        break"
   ]
  },
  {
   "cell_type": "markdown",
   "metadata": {},
   "source": [
    "## Skipping iterations in loops\n",
    "If you want to skip iterations, you can use the `continue` statement. That often makes sense in combination with an `if`:"
   ]
  },
  {
   "cell_type": "code",
   "execution_count": 13,
   "metadata": {},
   "outputs": [
    {
     "name": "stdout",
     "output_type": "stream",
     "text": [
      "0\n",
      "1\n",
      "2\n",
      "7\n",
      "8\n",
      "9\n"
     ]
    }
   ],
   "source": [
    "for i in range(0, 10):\n",
    "    if i >= 3 and i <= 6:\n",
    "        continue\n",
    "    print(i)"
   ]
  },
  {
   "cell_type": "markdown",
   "metadata": {},
   "source": [
    "## Exercise 1\n",
    "Assume you have a list of filenames and you want to do something with them, for example print them out. Program a for loop which prints out all file names which end with \"tif\"."
   ]
  },
  {
   "cell_type": "code",
   "execution_count": 14,
   "metadata": {},
   "outputs": [],
   "source": [
    "file_names = ['dataset1.tif', 'dataset2.tif', 'summary.csv', 'readme.md', 'blobs.tif']"
   ]
  },
  {
   "cell_type": "code",
   "execution_count": null,
   "metadata": {},
   "outputs": [],
   "source": []
  },
  {
   "cell_type": "markdown",
   "metadata": {},
   "source": [
    "## Exercise 2\n",
    "Assume you have a list of circle radii. Make a table (dictionary) with two columns: radius and area."
   ]
  },
  {
   "cell_type": "code",
   "execution_count": 15,
   "metadata": {},
   "outputs": [],
   "source": [
    "radii = [3, 15, 67, 33, 12, 8, 12, 9, 22]"
   ]
  },
  {
   "cell_type": "code",
   "execution_count": null,
   "metadata": {},
   "outputs": [],
   "source": []
  }
 ],
 "metadata": {
  "kernelspec": {
   "display_name": "Python 3 (ipykernel)",
   "language": "python",
   "name": "python3"
  },
  "language_info": {
   "codemirror_mode": {
    "name": "ipython",
    "version": 3
   },
   "file_extension": ".py",
   "mimetype": "text/x-python",
   "name": "python",
   "nbconvert_exporter": "python",
   "pygments_lexer": "ipython3",
   "version": "3.9.15"
  },
  "toc": {
   "base_numbering": 1,
   "nav_menu": {},
   "number_sections": false,
   "sideBar": false,
   "skip_h1_title": false,
   "title_cell": "Table of Contents",
   "title_sidebar": "Contents",
   "toc_cell": false,
   "toc_position": {},
   "toc_section_display": false,
   "toc_window_display": false
  }
 },
 "nbformat": 4,
 "nbformat_minor": 4
}
