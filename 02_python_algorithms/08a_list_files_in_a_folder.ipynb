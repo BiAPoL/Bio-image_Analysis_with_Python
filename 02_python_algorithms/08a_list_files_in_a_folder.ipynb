{
 "cells": [
  {
   "cell_type": "markdown",
   "metadata": {},
   "source": [
    "# How process files in a folder\n",
    "\n",
    "In this notebook we will program a loop which walks over a folder of images. Furthermore, the loop will call a python function that analyses the images one by one. Hence, we will process all images in that folder using the same procedure.\n",
    "\n",
    "See also\n",
    "* [Working with files in python](https://realpython.com/working-with-files-in-python/)\n",
    "* [Iterate over files in a directory](https://newbedev.com/how-to-iterate-over-files-in-a-given-directory)"
   ]
  },
  {
   "cell_type": "code",
   "execution_count": 1,
   "metadata": {},
   "outputs": [],
   "source": [
    "import os"
   ]
  },
  {
   "cell_type": "markdown",
   "metadata": {},
   "source": [
    "For demonstration purposes, we reuse a folder of images showing banana-slices imaged using magnetic resonance imaging (Courtesy of Nasreddin Abolmaali, OncoRay, TU Dresden)"
   ]
  },
  {
   "cell_type": "code",
   "execution_count": 2,
   "metadata": {},
   "outputs": [
    {
     "data": {
      "text/plain": [
       "['banana0002.tif',\n",
       " 'banana0003.tif',\n",
       " 'banana0004.tif',\n",
       " 'banana0005.tif',\n",
       " 'banana0006.tif',\n",
       " 'banana0007.tif',\n",
       " 'banana0008.tif',\n",
       " 'banana0009.tif',\n",
       " 'banana0010.tif',\n",
       " 'banana0011.tif',\n",
       " 'banana0012.tif',\n",
       " 'banana0013.tif',\n",
       " 'banana0014.tif',\n",
       " 'banana0015.tif',\n",
       " 'banana0016.tif',\n",
       " 'banana0017.tif',\n",
       " 'banana0018.tif',\n",
       " 'banana0019.tif',\n",
       " 'banana0020.tif',\n",
       " 'banana0021.tif',\n",
       " 'banana0022.tif',\n",
       " 'banana0023.tif',\n",
       " 'banana0024.tif',\n",
       " 'banana0025.tif',\n",
       " 'banana0026.tif',\n",
       " 'image_source.txt']"
      ]
     },
     "execution_count": 2,
     "metadata": {},
     "output_type": "execute_result"
    }
   ],
   "source": [
    "# define the location of the folder to go through\n",
    "directory = 'banana/'\n",
    "\n",
    "# get a list of files in that folder\n",
    "file_list = os.listdir(directory)\n",
    "\n",
    "file_list"
   ]
  },
  {
   "cell_type": "markdown",
   "metadata": {},
   "source": [
    "Obviously, there are not just images in that folder. We can filter that list with a short for-statement:"
   ]
  },
  {
   "cell_type": "code",
   "execution_count": 3,
   "metadata": {},
   "outputs": [
    {
     "data": {
      "text/plain": [
       "['banana0002.tif',\n",
       " 'banana0003.tif',\n",
       " 'banana0004.tif',\n",
       " 'banana0005.tif',\n",
       " 'banana0006.tif',\n",
       " 'banana0007.tif',\n",
       " 'banana0008.tif',\n",
       " 'banana0009.tif',\n",
       " 'banana0010.tif',\n",
       " 'banana0011.tif',\n",
       " 'banana0012.tif',\n",
       " 'banana0013.tif',\n",
       " 'banana0014.tif',\n",
       " 'banana0015.tif',\n",
       " 'banana0016.tif',\n",
       " 'banana0017.tif',\n",
       " 'banana0018.tif',\n",
       " 'banana0019.tif',\n",
       " 'banana0020.tif',\n",
       " 'banana0021.tif',\n",
       " 'banana0022.tif',\n",
       " 'banana0023.tif',\n",
       " 'banana0024.tif',\n",
       " 'banana0025.tif',\n",
       " 'banana0026.tif']"
      ]
     },
     "execution_count": 3,
     "metadata": {},
     "output_type": "execute_result"
    }
   ],
   "source": [
    "image_file_list = [file for file in file_list if file.endswith(\".tif\")]\n",
    "\n",
    "image_file_list"
   ]
  },
  {
   "cell_type": "markdown",
   "metadata": {},
   "source": [
    "Alternatively, we can also write a longer for-loop and check if files are images. This code does exactly the same, it is just written in a different way."
   ]
  },
  {
   "cell_type": "code",
   "execution_count": 4,
   "metadata": {},
   "outputs": [
    {
     "name": "stdout",
     "output_type": "stream",
     "text": [
      "banana0002.tif\n",
      "banana0003.tif\n",
      "banana0004.tif\n",
      "banana0005.tif\n",
      "banana0006.tif\n",
      "banana0007.tif\n",
      "banana0008.tif\n",
      "banana0009.tif\n",
      "banana0010.tif\n",
      "banana0011.tif\n",
      "banana0012.tif\n",
      "banana0013.tif\n",
      "banana0014.tif\n",
      "banana0015.tif\n",
      "banana0016.tif\n",
      "banana0017.tif\n",
      "banana0018.tif\n",
      "banana0019.tif\n",
      "banana0020.tif\n",
      "banana0021.tif\n",
      "banana0022.tif\n",
      "banana0023.tif\n",
      "banana0024.tif\n",
      "banana0025.tif\n",
      "banana0026.tif\n"
     ]
    }
   ],
   "source": [
    "# go through all files in the folder\n",
    "for file in file_list:\n",
    "    # if the filename is of a tif-image, print it out\n",
    "    if file.endswith(\".tif\"):\n",
    "        print(file)"
   ]
  },
  {
   "cell_type": "markdown",
   "metadata": {},
   "source": [
    "## Exercises\n",
    "Write code that prints out the number of TIF images in that folder."
   ]
  },
  {
   "cell_type": "code",
   "execution_count": null,
   "metadata": {},
   "outputs": [],
   "source": []
  },
  {
   "cell_type": "markdown",
   "metadata": {},
   "source": [
    "Write code that prints out the number of files in that folder which are no TIF images."
   ]
  },
  {
   "cell_type": "code",
   "execution_count": null,
   "metadata": {},
   "outputs": [],
   "source": []
  }
 ],
 "metadata": {
  "kernelspec": {
   "display_name": "Python 3 (ipykernel)",
   "language": "python",
   "name": "python3"
  },
  "language_info": {
   "codemirror_mode": {
    "name": "ipython",
    "version": 3
   },
   "file_extension": ".py",
   "mimetype": "text/x-python",
   "name": "python",
   "nbconvert_exporter": "python",
   "pygments_lexer": "ipython3",
   "version": "3.9.15"
  },
  "toc": {
   "base_numbering": 1,
   "nav_menu": {},
   "number_sections": false,
   "sideBar": false,
   "skip_h1_title": false,
   "title_cell": "Table of Contents",
   "title_sidebar": "Contents",
   "toc_cell": false,
   "toc_position": {},
   "toc_section_display": false,
   "toc_window_display": false
  }
 },
 "nbformat": 4,
 "nbformat_minor": 4
}
