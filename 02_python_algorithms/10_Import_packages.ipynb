{
 "cells": [
  {
   "cell_type": "markdown",
   "id": "10cc5ddb-417d-43cd-ba12-e4c781850d67",
   "metadata": {},
   "source": [
    "# Importing functions and packages\n",
    "\n",
    "Very often, we need tools that are not directly provided by the default Python library. In that case we need to import the necessary functions from modules or packages into our notebooks or scripts. Some modules come directly with the Python distribution (like the math module seen in the [Basic math in python](Math_in_python.ipynb)), and some others like Numpy, scikit-image etc. are external packages installed with pip or conda. When it comes to import they work in the same way, and we have multiple ways of importing single functions or groups of them."
   ]
  },
  {
   "cell_type": "markdown",
   "id": "ab468beb-e517-4468-86bb-bf6b8ba96a9f",
   "metadata": {},
   "source": [
    "## Basic import\n",
    "\n",
    "The basic import statment uses the key-words ```import``` and the module name. For example with the basic Python module ```pathlib``` that deals with file paths and names:"
   ]
  },
  {
   "cell_type": "code",
   "execution_count": 13,
   "id": "d00dce4e-c426-484c-bd41-2905dc99f59c",
   "metadata": {},
   "outputs": [],
   "source": [
    "import pathlib"
   ]
  },
  {
   "cell_type": "markdown",
   "id": "130dff08-9326-4df4-999f-fb98d1172617",
   "metadata": {},
   "source": [
    "If we want to import an external package we need to make sure it is actually installed, otherwise we get an error message:"
   ]
  },
  {
   "cell_type": "code",
   "execution_count": 14,
   "id": "3d20edb7-7cec-4ea0-a46a-51f7584bf635",
   "metadata": {},
   "outputs": [
    {
     "ename": "ModuleNotFoundError",
     "evalue": "No module named 'absent_package'",
     "output_type": "error",
     "traceback": [
      "\u001b[0;31m---------------------------------------------------------------------------\u001b[0m",
      "\u001b[0;31mModuleNotFoundError\u001b[0m                       Traceback (most recent call last)",
      "Input \u001b[0;32mIn [14]\u001b[0m, in \u001b[0;36m<cell line: 1>\u001b[0;34m()\u001b[0m\n\u001b[0;32m----> 1\u001b[0m \u001b[38;5;28;01mimport\u001b[39;00m \u001b[38;5;21;01mabsent_package\u001b[39;00m\n",
      "\u001b[0;31mModuleNotFoundError\u001b[0m: No module named 'absent_package'"
     ]
    }
   ],
   "source": [
    "import absent_package"
   ]
  },
  {
   "cell_type": "markdown",
   "id": "e8cfed05-6309-4c37-8ee1-a0ab74a70552",
   "metadata": {},
   "source": [
    "If you have a missing package, you can install it directly from the notebook using pip or conda. For example if Numpy is not installed yet you could execute:"
   ]
  },
  {
   "cell_type": "code",
   "execution_count": 1,
   "id": "6cb89fc2-a2c1-44ca-915c-bfd9f185a368",
   "metadata": {},
   "outputs": [
    {
     "name": "stdout",
     "output_type": "stream",
     "text": [
      "Retrieving notices: ...working... done\n",
      "Collecting package metadata (current_repodata.json): ...working... done\n",
      "Solving environment: ...working... done\n",
      "\n",
      "## Package Plan ##\n",
      "\n",
      "  environment location: C:\\Users\\haase\\mambaforge\\envs\\bio39\n",
      "\n",
      "  added / updated specs:\n",
      "    - numpy\n",
      "\n",
      "\n",
      "The following packages will be downloaded:\n",
      "\n",
      "    package                    |            build\n",
      "    ---------------------------|-----------------\n",
      "    lazy_loader-0.2            |     pyhd8ed1ab_0          13 KB  conda-forge\n",
      "    napari-segment-blobs-and-things-with-membranes-0.3.4|     pyhd8ed1ab_0          17 KB  conda-forge\n",
      "    napari-skimage-regionprops-0.9.0|     pyhd8ed1ab_0          32 KB  conda-forge\n",
      "    nbformat-5.8.0             |     pyhd8ed1ab_0          98 KB  conda-forge\n",
      "    pyclesperanto-prototype-0.23.6|     pyhd8ed1ab_0         212 KB  conda-forge\n",
      "    scikit-image-0.20.0        |   py39h1679cfb_0         9.5 MB  conda-forge\n",
      "    stackview-0.6.0            |     pyhd8ed1ab_0          25 KB  conda-forge\n",
      "    ------------------------------------------------------------\n",
      "                                           Total:         9.9 MB\n",
      "\n",
      "The following NEW packages will be INSTALLED:\n",
      "\n",
      "  lazy_loader        conda-forge/noarch::lazy_loader-0.2-pyhd8ed1ab_0 \n",
      "  napari-accelerate~ conda-forge/noarch::napari-accelerated-pixel-and-object-classification-0.12.3-pyhd8ed1ab_0 \n",
      "  napari-clusters-p~ conda-forge/noarch::napari-clusters-plotter-0.6.1-pyhd8ed1ab_0 \n",
      "  napari-pyclespera~ conda-forge/noarch::napari-pyclesperanto-assistant-0.22.1-pyhd8ed1ab_0 \n",
      "  napari-segment-bl~ conda-forge/noarch::napari-segment-blobs-and-things-with-membranes-0.3.4-pyhd8ed1ab_0 \n",
      "  napari-skimage-re~ conda-forge/noarch::napari-skimage-regionprops-0.9.0-pyhd8ed1ab_0 \n",
      "  napari-tools-menu  conda-forge/noarch::napari-tools-menu-0.1.19-pyhd8ed1ab_0 \n",
      "  nbformat           conda-forge/noarch::nbformat-5.8.0-pyhd8ed1ab_0 \n",
      "  pyclesperanto-pro~ conda-forge/noarch::pyclesperanto-prototype-0.23.6-pyhd8ed1ab_0 \n",
      "  pygments           conda-forge/noarch::pygments-2.14.0-pyhd8ed1ab_0 \n",
      "  scikit-image       conda-forge/win-64::scikit-image-0.20.0-py39h1679cfb_0 \n",
      "  stackview          conda-forge/noarch::stackview-0.6.0-pyhd8ed1ab_0 \n",
      "\n",
      "\n",
      "\n",
      "Downloading and Extracting Packages\n",
      "\n",
      "stackview-0.6.0      | 25 KB     |            |   0% \n",
      "\n",
      "pyclesperanto-protot | 212 KB    |            |   0% \u001b[A\n",
      "\n",
      "\n",
      "lazy_loader-0.2      | 13 KB     |            |   0% \u001b[A\u001b[A\n",
      "\n",
      "\n",
      "\n",
      "scikit-image-0.20.0  | 9.5 MB    |            |   0% \u001b[A\u001b[A\u001b[A\n",
      "\n",
      "\n",
      "\n",
      "\n",
      "napari-segment-blobs | 17 KB     |            |   0% \u001b[A\u001b[A\u001b[A\u001b[A\n",
      "\n",
      "\n",
      "\n",
      "\n",
      "\n",
      "nbformat-5.8.0       | 98 KB     |            |   0% \u001b[A\u001b[A\u001b[A\u001b[A\u001b[A\n",
      "\n",
      "\n",
      "\n",
      "\n",
      "\n",
      "\n",
      "napari-skimage-regio | 32 KB     |            |   0% \u001b[A\u001b[A\u001b[A\u001b[A\u001b[A\u001b[A\n",
      "\n",
      "pyclesperanto-protot | 212 KB    | 7          |   8% \u001b[A\n",
      "\n",
      "\n",
      "\n",
      "\n",
      "napari-segment-blobs | 17 KB     | #########1 |  92% \u001b[A\u001b[A\u001b[A\u001b[A\n",
      "\n",
      "\n",
      "lazy_loader-0.2      | 13 KB     | ########## | 100% \u001b[A\u001b[A\n",
      "\n",
      "\n",
      "\n",
      "scikit-image-0.20.0  | 9.5 MB    |            |   0% \u001b[A\u001b[A\u001b[A\n",
      "stackview-0.6.0      | 25 KB     | ######5    |  65% \n",
      "\n",
      "\n",
      "\n",
      "\n",
      "napari-segment-blobs | 17 KB     | ########## | 100% \u001b[A\u001b[A\u001b[A\u001b[A\n",
      "\n",
      "\n",
      "\n",
      "\n",
      "\n",
      "nbformat-5.8.0       | 98 KB     | #6         |  16% \u001b[A\u001b[A\u001b[A\u001b[A\u001b[A\n",
      "\n",
      "\n",
      "\n",
      "\n",
      "\n",
      "\n",
      "napari-skimage-regio | 32 KB     | #####      |  50% \u001b[A\u001b[A\u001b[A\u001b[A\u001b[A\u001b[A\n",
      "\n",
      "\n",
      "lazy_loader-0.2      | 13 KB     | ########## | 100% \u001b[A\u001b[A\n",
      "\n",
      "\n",
      "\n",
      "scikit-image-0.20.0  | 9.5 MB    | 5          |   5% \u001b[A\u001b[A\u001b[A\n",
      "stackview-0.6.0      | 25 KB     | ########## | 100% \n",
      "stackview-0.6.0      | 25 KB     | ########## | 100% \n",
      "\n",
      "\n",
      "\n",
      "scikit-image-0.20.0  | 9.5 MB    | #          |  11% \u001b[A\u001b[A\u001b[A\n",
      "\n",
      "pyclesperanto-protot | 212 KB    | ########## | 100% \u001b[A\n",
      "\n",
      "pyclesperanto-protot | 212 KB    | ########## | 100% \u001b[A\n",
      "\n",
      "\n",
      "\n",
      "scikit-image-0.20.0  | 9.5 MB    | ###8       |  39% \u001b[A\u001b[A\u001b[A\n",
      "\n",
      "\n",
      "\n",
      "\n",
      "\n",
      "\n",
      "napari-skimage-regio | 32 KB     | ########## | 100% \u001b[A\u001b[A\u001b[A\u001b[A\u001b[A\u001b[A\n",
      "\n",
      "\n",
      "\n",
      "\n",
      "\n",
      "\n",
      "napari-skimage-regio | 32 KB     | ########## | 100% \u001b[A\u001b[A\u001b[A\u001b[A\u001b[A\u001b[A\n",
      "\n",
      "\n",
      "\n",
      "\n",
      "\n",
      "nbformat-5.8.0       | 98 KB     | ########## | 100% \u001b[A\u001b[A\u001b[A\u001b[A\u001b[A\n",
      "\n",
      "\n",
      "\n",
      "\n",
      "\n",
      "nbformat-5.8.0       | 98 KB     | ########## | 100% \u001b[A\u001b[A\u001b[A\u001b[A\u001b[A\n",
      "\n",
      "\n",
      "\n",
      "scikit-image-0.20.0  | 9.5 MB    | #####1     |  51% \u001b[A\u001b[A\u001b[A\n",
      "\n",
      "\n",
      "\n",
      "scikit-image-0.20.0  | 9.5 MB    | ######1    |  61% \u001b[A\u001b[A\u001b[A\n",
      "\n",
      "\n",
      "\n",
      "scikit-image-0.20.0  | 9.5 MB    | #######    |  70% \u001b[A\u001b[A\u001b[A\n",
      "\n",
      "\n",
      "\n",
      "scikit-image-0.20.0  | 9.5 MB    | #######8   |  78% \u001b[A\u001b[A\u001b[A\n",
      "\n",
      "\n",
      "\n",
      "scikit-image-0.20.0  | 9.5 MB    | ########6  |  86% \u001b[A\u001b[A\u001b[A\n",
      "\n",
      "\n",
      "\n",
      "scikit-image-0.20.0  | 9.5 MB    | #########4 |  94% \u001b[A\u001b[A\u001b[A\n",
      "\n",
      "\n",
      "\n",
      "scikit-image-0.20.0  | 9.5 MB    | ########## | 100% \u001b[A\u001b[A\u001b[A\n",
      "                                                     \n",
      "\n",
      "\n",
      "                                                     \u001b[A\n",
      "\n",
      "\n",
      "                                                     \u001b[A\u001b[A\n",
      "\n",
      "\n",
      "\n",
      "                                                     \u001b[A\u001b[A\u001b[A\n",
      "\n",
      "\n",
      "\n",
      "\n",
      "                                                     \u001b[A\u001b[A\u001b[A\u001b[A\n",
      "\n",
      "\n",
      "\n",
      "\n",
      "\n",
      "                                                     \u001b[A\u001b[A\u001b[A\u001b[A\u001b[A\n",
      "\n",
      "\n",
      "\n",
      "\n",
      "\n",
      "\n",
      "                                                     \u001b[A\u001b[A\u001b[A\u001b[A\u001b[A\u001b[A\n",
      "\n",
      "Preparing transaction: ...working... done\n",
      "Verifying transaction: ...working... done\n",
      "Executing transaction: ...working... done\n",
      "\n",
      "C:\\structure\\code\\Bio-image_Analysis_with_Python\\02_python_algorithms>set \"OCL_ICD_FILENAMES=\" \n",
      "\n",
      "Note: you may need to restart the kernel to use updated packages.\n"
     ]
    },
    {
     "name": "stderr",
     "output_type": "stream",
     "text": [
      "\n",
      "The environment is inconsistent, please check the package plan carefully\n",
      "The following packages are causing the inconsistency:\n",
      "\n",
      "  - conda-forge/noarch::apoc-backend==0.12.0=pyhd8ed1ab_0\n",
      "  - conda-forge/noarch::devbio-napari==0.8.1=win_h08f2357_0\n",
      "  - conda-forge/noarch::ipycanvas==0.13.1=pyhd8ed1ab_0\n",
      "  - conda-forge/noarch::ipyevents==2.0.1=pyhd8ed1ab_0\n",
      "  - conda-forge/noarch::ipykernel==6.19.2=pyh025b116_0\n",
      "  - conda-forge/noarch::ipython==8.7.0=pyh08f2357_0\n",
      "  - conda-forge/noarch::ipywidgets==8.0.4=pyhd8ed1ab_0\n",
      "  - conda-forge/win-64::jupyter==1.0.0=py39hcbf5309_8\n",
      "  - conda-forge/noarch::jupyterlab==3.5.3=pyhd8ed1ab_0\n",
      "  - conda-forge/noarch::jupyterlab_pygments==0.2.2=pyhd8ed1ab_0\n",
      "  - conda-forge/noarch::jupyterlab_server==2.19.0=pyhd8ed1ab_0\n",
      "  - conda-forge/noarch::jupyter_console==6.4.4=pyhd8ed1ab_0\n",
      "  - conda-forge/noarch::jupyter_server==1.23.3=pyhd8ed1ab_0\n",
      "  - conda-forge/noarch::jupytext==1.14.4=pyhcff175f_0\n",
      "  - conda-forge/noarch::magicgui==0.6.1=pyhd8ed1ab_0\n",
      "  - conda-forge/noarch::napari==0.4.17=pyh275ddea_0_pyqt\n",
      "  - conda-forge/noarch::napari-3d-ortho-viewer==0.0.1=pyhd8ed1ab_0\n",
      "  - conda-forge/noarch::napari-animation==0.0.5=pyhd8ed1ab_0\n",
      "  - conda-forge/noarch::napari-assistant==0.4.4=pyhd8ed1ab_0\n",
      "  - conda-forge/noarch::napari-blob-detection==0.0.2=pyhd8ed1ab_0\n",
      "  - conda-forge/noarch::napari-brightness-contrast==0.1.8=pyhd8ed1ab_0\n",
      "  - conda-forge/noarch::napari-console==0.0.7=pyhd8ed1ab_0\n",
      "  - conda-forge/noarch::napari-crop==0.1.6=pyhd8ed1ab_0\n",
      "  - conda-forge/noarch::napari-curtain==0.1.1=pyhd8ed1ab_0\n",
      "  - conda-forge/noarch::napari-czifile2==0.2.7=pyhd8ed1ab_0\n",
      "  - conda-forge/noarch::napari-folder-browser==0.1.3=pyhd8ed1ab_0\n",
      "  - conda-forge/noarch::napari-layer-details-display==0.1.4=pyhd8ed1ab_0\n",
      "  - conda-forge/noarch::napari-mouse-controls==0.1.3=pyhd8ed1ab_0\n",
      "  - conda-forge/noarch::napari-plot-profile==0.2.2=pyhd8ed1ab_0\n",
      "  - conda-forge/noarch::napari-plugin-search==0.1.3=pyhd8ed1ab_0\n",
      "  - conda-forge/noarch::napari-pystackreg==0.1.4=pyhd8ed1ab_0\n",
      "  - conda-forge/noarch::napari-roi==0.1.7=pyhd8ed1ab_0\n",
      "  - conda-forge/noarch::napari-simpleitk-image-processing==0.4.5=pyhd8ed1ab_0\n",
      "  - conda-forge/noarch::napari-tabu==0.1.5=pyhd8ed1ab_0\n",
      "  - conda-forge/noarch::napari-time-slicer==0.4.9=pyhd8ed1ab_1\n",
      "  - conda-forge/noarch::napari-workflow-inspector==0.2.2=pyhd8ed1ab_0\n",
      "  - conda-forge/noarch::napari-workflow-optimizer==0.1.4=pyhd8ed1ab_0\n",
      "  - conda-forge/noarch::napari-workflows==0.2.8=pyhd8ed1ab_0\n",
      "  - conda-forge/noarch::nbclassic==0.4.8=pyhd8ed1ab_0\n",
      "  - conda-forge/noarch::nbclient==0.7.2=pyhd8ed1ab_0\n",
      "  - conda-forge/noarch::nbconvert==7.2.6=pyhd8ed1ab_0\n",
      "  - conda-forge/noarch::nbconvert-core==7.2.6=pyhd8ed1ab_0\n",
      "  - conda-forge/noarch::nbconvert-pandoc==7.2.6=pyhd8ed1ab_0\n",
      "  - conda-forge/noarch::notebook==6.5.2=pyha770c72_1\n",
      "  - conda-forge/noarch::notebook-shim==0.2.2=pyhd8ed1ab_0\n",
      "  - conda-forge/noarch::npe2==0.6.1=pyhd8ed1ab_1\n",
      "  - conda-forge/noarch::numpydoc==1.5.0=pyhd8ed1ab_0\n",
      "  - conda-forge/noarch::platymatch==0.0.3=pyhd8ed1ab_0\n",
      "  - conda-forge/noarch::qtconsole==5.4.0=pyhd8ed1ab_0\n",
      "  - conda-forge/noarch::qtconsole-base==5.4.0=pyha770c72_0\n",
      "  - conda-forge/noarch::rich==13.3.1=pyhd8ed1ab_0\n",
      "  - conda-forge/noarch::sphinx==4.5.0=pyh6c4a22f_0\n",
      "  - conda-forge/noarch::superqt==0.4.1=pyhd8ed1ab_0\n",
      "  - conda-forge/noarch::the-segmentation-game==0.2.0=pyhd8ed1ab_0\n",
      "\n",
      "\n",
      "==> WARNING: A newer version of conda exists. <==\n",
      "  current version: 22.11.1\n",
      "  latest version: 23.3.1\n",
      "\n",
      "Please update conda by running\n",
      "\n",
      "    $ conda update -n base -c conda-forge conda\n",
      "\n",
      "Or to minimize the number of packages updated during conda update use\n",
      "\n",
      "     conda install conda=23.3.1\n",
      "\n",
      "\n"
     ]
    }
   ],
   "source": [
    "conda install -c conda-forge numpy"
   ]
  },
  {
   "cell_type": "markdown",
   "id": "adbad354-b227-41d1-bc97-7b4a386dc8cc",
   "metadata": {},
   "source": [
    "## Alternative import formulation\n",
    "\n",
    "Using the simple formulation above, we get access to functions directly attached to the main package. Let's import the Numpy package that we will use later to handle image. We can import it:"
   ]
  },
  {
   "cell_type": "code",
   "execution_count": 15,
   "id": "c5374a88-b2cf-4963-b076-616bfaeb6aff",
   "metadata": {},
   "outputs": [],
   "source": [
    "import numpy"
   ]
  },
  {
   "cell_type": "markdown",
   "id": "caf83b1e-76e7-4a2b-aabb-2180dae9148f",
   "metadata": {},
   "source": [
    "and now we get e.g. access to the cosine function of Numpy by simply using the dot notation:"
   ]
  },
  {
   "cell_type": "code",
   "execution_count": 16,
   "id": "952e16a1-9684-4867-9273-247ad6707eeb",
   "metadata": {},
   "outputs": [
    {
     "data": {
      "text/plain": [
       "-0.9999987317275395"
      ]
     },
     "execution_count": 16,
     "metadata": {},
     "output_type": "execute_result"
    }
   ],
   "source": [
    "numpy.cos(3.14)"
   ]
  },
  {
   "cell_type": "markdown",
   "id": "f73a553c-1cec-4ad8-a8f9-6601d03e788f",
   "metadata": {},
   "source": [
    "To find all functions available in a package or a module, you typically have to go to its documentation and look for the *Application Programming Interface* or *API*. For example here we find a description of all mathematical functions (including the cosine) of Numpy: https://numpy.org/doc/stable/reference/routines.math.html"
   ]
  },
  {
   "cell_type": "markdown",
   "id": "42490a15-3988-4359-a1c6-9a9c588a3c0e",
   "metadata": {},
   "source": [
    "### Name shortening\n",
    "\n",
    "If we use a package regularly, we might not want to write the full package name every time we need a function from it. To avoid that we can abbreviate it at the time of import using the ```as``` statement:"
   ]
  },
  {
   "cell_type": "code",
   "execution_count": 17,
   "id": "f3ab4b68-d1a6-4708-aafb-a95c9efee4a8",
   "metadata": {},
   "outputs": [],
   "source": [
    "import numpy as np"
   ]
  },
  {
   "cell_type": "code",
   "execution_count": 18,
   "id": "b19bb26d-d119-4120-8152-0336c949c069",
   "metadata": {},
   "outputs": [
    {
     "data": {
      "text/plain": [
       "-0.9999987317275395"
      ]
     },
     "execution_count": 18,
     "metadata": {},
     "output_type": "execute_result"
    }
   ],
   "source": [
    "np.cos(3.14)"
   ]
  },
  {
   "cell_type": "markdown",
   "id": "60f63fce-d4dc-42ff-b4e7-4b168d709bab",
   "metadata": {},
   "source": [
    "### Specific functions\n",
    "\n",
    "If we only need a specific function from a package, we can also just import it using the ```from``` statement. For examample if we want to only import the ```np.cos``` function above:"
   ]
  },
  {
   "cell_type": "code",
   "execution_count": 19,
   "id": "918ca0db-90e9-47b3-9c53-4652049843f1",
   "metadata": {},
   "outputs": [],
   "source": [
    "from numpy import cos"
   ]
  },
  {
   "cell_type": "code",
   "execution_count": 20,
   "id": "8374d32d-7a48-43cb-ad55-b564f87cc2b4",
   "metadata": {},
   "outputs": [
    {
     "data": {
      "text/plain": [
       "-0.9999987317275395"
      ]
     },
     "execution_count": 20,
     "metadata": {},
     "output_type": "execute_result"
    }
   ],
   "source": [
    "cos(3.14)"
   ]
  },
  {
   "cell_type": "markdown",
   "id": "23644840-840f-4ecd-b09a-4fee262678ce",
   "metadata": {},
   "source": [
    "Of course in this case, unless we find the specfiic line where the function is imported, we don't know that ```cos``` necessarily belongs to Numpy as we could also have defined such a function in the notebook. If we want to import **all** functions from a package we can also use the ```*``` sign:"
   ]
  },
  {
   "cell_type": "code",
   "execution_count": 21,
   "id": "5809f8eb-1a81-46d5-aaff-11c9e672ef47",
   "metadata": {},
   "outputs": [],
   "source": [
    "from numpy import *"
   ]
  },
  {
   "cell_type": "markdown",
   "id": "a708b3c9-08d6-4dc9-a902-fc996e0ea1c7",
   "metadata": {},
   "source": [
    "Here we have for example access to the sine function withouth having explicitly imported it:"
   ]
  },
  {
   "cell_type": "code",
   "execution_count": 22,
   "id": "79ddc559-52ac-4cc2-acaf-19d2ccc3c4a6",
   "metadata": {},
   "outputs": [
    {
     "data": {
      "text/plain": [
       "0.0015926529164868282"
      ]
     },
     "execution_count": 22,
     "metadata": {},
     "output_type": "execute_result"
    }
   ],
   "source": [
    "sin(3.14)"
   ]
  },
  {
   "cell_type": "markdown",
   "id": "7461b9f0-c58e-4b31-8cc4-cf0dd15069c6",
   "metadata": {},
   "source": [
    "As you can see, with this solution we have *no idea* what we actually imported in our notebook, which can lead to unwanted effects like re-using a function name. **If you don't have a specific reason to use this import variant, we strongly discourage its use.**"
   ]
  },
  {
   "cell_type": "markdown",
   "id": "ba26add4-d1dd-4123-90da-38d0b8d61409",
   "metadata": {},
   "source": [
    "## Sub-modules\n",
    "\n",
    "In larger packages like Numpy, some functions are directly accessible from the main package (like ```np.cos```) and others with more specialized tasks are grouped together by topic or domain into submodules. For example Numpy has a submodule dedicated to distributions called ```random```. All the points seen above are still valide here. \n",
    "\n",
    "We use the dot notation to access functions, but now need to also specify the submodule name. For example the ```normal``` function that generates numbers drawn from a normal distribution:"
   ]
  },
  {
   "cell_type": "code",
   "execution_count": 31,
   "id": "108d12fd-041a-4f48-9f92-58479d5eb9cd",
   "metadata": {},
   "outputs": [
    {
     "data": {
      "text/plain": [
       "1.8077301364791438"
      ]
     },
     "execution_count": 31,
     "metadata": {},
     "output_type": "execute_result"
    }
   ],
   "source": [
    "np.random.normal()"
   ]
  },
  {
   "cell_type": "markdown",
   "id": "ff382ef6-de48-49b7-968b-7120fb505367",
   "metadata": {},
   "source": [
    "We can shorten the function call by importing only the sub-module:"
   ]
  },
  {
   "cell_type": "code",
   "execution_count": 32,
   "id": "e60dc664-f66a-475c-86d5-44cdc8448826",
   "metadata": {},
   "outputs": [],
   "source": [
    "from numpy import random"
   ]
  },
  {
   "cell_type": "code",
   "execution_count": 33,
   "id": "8c8470b2-882f-4cda-8c1f-795c22db05ab",
   "metadata": {},
   "outputs": [
    {
     "data": {
      "text/plain": [
       "0.0909924357071552"
      ]
     },
     "execution_count": 33,
     "metadata": {},
     "output_type": "execute_result"
    }
   ],
   "source": [
    "random.normal()"
   ]
  },
  {
   "cell_type": "markdown",
   "id": "f7e64bd9-1127-43cb-96db-60a12a56ea48",
   "metadata": {},
   "source": [
    "and we can further shorten by importing just the function:"
   ]
  },
  {
   "cell_type": "code",
   "execution_count": 34,
   "id": "eb009d0d-5b8f-49ab-8a5e-d16c972837b8",
   "metadata": {},
   "outputs": [],
   "source": [
    "from numpy.random import normal"
   ]
  },
  {
   "cell_type": "code",
   "execution_count": 35,
   "id": "5533cd1d-1f0e-47d7-acb5-ad0ea6772019",
   "metadata": {},
   "outputs": [
    {
     "data": {
      "text/plain": [
       "0.0038794083334154307"
      ]
     },
     "execution_count": 35,
     "metadata": {},
     "output_type": "execute_result"
    }
   ],
   "source": [
    "normal()"
   ]
  },
  {
   "cell_type": "markdown",
   "id": "af135b70-e8a0-4d33-8f05-885ddc6855b5",
   "metadata": {},
   "source": [
    "Finally we can rename using the ```as``` statement:"
   ]
  },
  {
   "cell_type": "code",
   "execution_count": 36,
   "id": "ef43be12-dc16-4b52-a009-72bf4d798c8e",
   "metadata": {},
   "outputs": [],
   "source": [
    "from numpy import random as rd"
   ]
  },
  {
   "cell_type": "code",
   "execution_count": 37,
   "id": "7988aa15-b136-4f58-a553-29ccfa9a9634",
   "metadata": {},
   "outputs": [
    {
     "data": {
      "text/plain": [
       "-0.6781586087709578"
      ]
     },
     "execution_count": 37,
     "metadata": {},
     "output_type": "execute_result"
    }
   ],
   "source": [
    "rd.normal()"
   ]
  },
  {
   "cell_type": "markdown",
   "id": "cc770a20-0014-4b6c-b12e-3fa6b1d72f22",
   "metadata": {},
   "source": [
    "## Exercise\n",
    "\n",
    "The Numpy package has a linear algebra submodule called ```linalg```. The following code computes the norm of a vector: ```np.linalg.norm([1,2])```. Try to:\n",
    "- import just the sub-module and call the same function\n",
    "- import just the ```norm``` function and call it\n",
    " "
   ]
  }
 ],
 "metadata": {
  "kernelspec": {
   "display_name": "Python 3 (ipykernel)",
   "language": "python",
   "name": "python3"
  },
  "language_info": {
   "codemirror_mode": {
    "name": "ipython",
    "version": 3
   },
   "file_extension": ".py",
   "mimetype": "text/x-python",
   "name": "python",
   "nbconvert_exporter": "python",
   "pygments_lexer": "ipython3",
   "version": "3.9.15"
  }
 },
 "nbformat": 4,
 "nbformat_minor": 5
}
