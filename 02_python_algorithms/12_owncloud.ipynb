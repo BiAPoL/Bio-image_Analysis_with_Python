{
 "cells": [
  {
   "cell_type": "markdown",
   "id": "5c7694cc-a6a8-455b-9d07-6cf52c9940b4",
   "metadata": {},
   "source": [
    "# Accessing image files in the owncloud\n",
    "This notebook we will demonstrate how to download files from an owncloud server. More detailed example code is available [here](https://haesleinhuepf.github.io/BioImageAnalysisNotebooks/03_advanced_python/owncloud.html).\n",
    "\n",
    "**Important note:** NEVER save your passwords in Python code."
   ]
  },
  {
   "cell_type": "markdown",
   "id": "4b0fd94c-11bb-44da-b12e-a86046ec3e0f",
   "metadata": {},
   "source": [
    "Before we can execute the code, we may have to install a Python library for working with the owncloud, such as [pyocclient](https://github.com/owncloud/pyocclient)."
   ]
  },
  {
   "cell_type": "code",
   "execution_count": 1,
   "id": "531d3ff3-8d2d-49a7-a85b-f93ffa09d5c3",
   "metadata": {},
   "outputs": [
    {
     "name": "stdout",
     "output_type": "stream",
     "text": [
      "Requirement already satisfied: pyocclient in c:\\users\\haase\\mambaforge\\envs\\bio39\\lib\\site-packages (0.6)\n",
      "Requirement already satisfied: requests>=2.0.1 in c:\\users\\haase\\mambaforge\\envs\\bio39\\lib\\site-packages (from pyocclient) (2.28.2)\n",
      "Requirement already satisfied: six in c:\\users\\haase\\mambaforge\\envs\\bio39\\lib\\site-packages (from pyocclient) (1.16.0)\n",
      "Requirement already satisfied: charset-normalizer<4,>=2 in c:\\users\\haase\\mambaforge\\envs\\bio39\\lib\\site-packages (from requests>=2.0.1->pyocclient) (2.1.1)\n",
      "Requirement already satisfied: idna<4,>=2.5 in c:\\users\\haase\\mambaforge\\envs\\bio39\\lib\\site-packages (from requests>=2.0.1->pyocclient) (3.4)\n",
      "Requirement already satisfied: certifi>=2017.4.17 in c:\\users\\haase\\mambaforge\\envs\\bio39\\lib\\site-packages (from requests>=2.0.1->pyocclient) (2022.12.7)\n",
      "Requirement already satisfied: urllib3<1.27,>=1.21.1 in c:\\users\\haase\\mambaforge\\envs\\bio39\\lib\\site-packages (from requests>=2.0.1->pyocclient) (1.26.13)\n"
     ]
    }
   ],
   "source": [
    "!pip install pyocclient"
   ]
  },
  {
   "cell_type": "code",
   "execution_count": 2,
   "id": "558d6ae7-dead-4181-ae8b-bae3fa02cf64",
   "metadata": {},
   "outputs": [],
   "source": [
    "import ipywidgets as widgets\n",
    "import owncloud"
   ]
  },
  {
   "cell_type": "markdown",
   "id": "040f6ba3-ad0e-4640-86f0-29e7e39390fc",
   "metadata": {},
   "source": [
    "## Login\n",
    "After executing the next cell locally, you will see three input fields where you can enter the server url, username and password.\n",
    "\n",
    "![](login.png)"
   ]
  },
  {
   "cell_type": "code",
   "execution_count": 4,
   "id": "005749f6-513f-442e-83bc-24ebc27e6458",
   "metadata": {},
   "outputs": [
    {
     "data": {
      "application/vnd.jupyter.widget-view+json": {
       "model_id": "29f263a592134a79840aab21a10f9d59",
       "version_major": 2,
       "version_minor": 0
      },
      "text/plain": [
       "VBox(children=(Text(value='https://cloudstore.zih.tu-dresden.de', description='Server'), Text(value='', descri…"
      ]
     },
     "execution_count": 4,
     "metadata": {},
     "output_type": "execute_result"
    }
   ],
   "source": [
    "server_widget = widgets.Text(value='https://cloudstore.zih.tu-dresden.de', description='Server')\n",
    "username_widget = widgets.Text(description='Username:')\n",
    "password_widget = widgets.Password(description='Password')\n",
    "\n",
    "widgets.VBox([server_widget, username_widget, password_widget])"
   ]
  },
  {
   "cell_type": "markdown",
   "id": "b6818166-4d90-4572-a83c-4ffcc94766ff",
   "metadata": {},
   "source": [
    "**Do NOT hit Shift-Enter after entering username and password**"
   ]
  },
  {
   "cell_type": "code",
   "execution_count": 6,
   "id": "4d904fd9-acbe-4d9c-9b28-a1073bc128cc",
   "metadata": {},
   "outputs": [],
   "source": [
    "if username_widget.value == '':\n",
    "    raise RuntimeError('Enter username and password above')"
   ]
  },
  {
   "cell_type": "code",
   "execution_count": 7,
   "id": "daab6956-fa31-4660-be02-0dee8712e8dd",
   "metadata": {},
   "outputs": [],
   "source": [
    "oc = owncloud.Client(server_widget.value)\n",
    "oc.login(username_widget.value, password_widget.value)"
   ]
  },
  {
   "cell_type": "markdown",
   "id": "497c9fc3-9f1d-4150-b760-e865068aa2e8",
   "metadata": {},
   "source": [
    "A typical error message is 401: Access denied. Check your username and password."
   ]
  },
  {
   "cell_type": "code",
   "execution_count": 10,
   "id": "ebdafdee-0237-44d6-bc0d-793047973dd2",
   "metadata": {},
   "outputs": [],
   "source": [
    "# For safety reasons we reset the password now, after we logged in successfully.\n",
    "password_widget.value = \"\""
   ]
  },
  {
   "cell_type": "markdown",
   "id": "b07f6c44-887e-41e2-8345-eeff4681e061",
   "metadata": {},
   "source": [
    "## Browsing the remote server\n",
    "To see if the connection was successful, we can just list the files in a given folder."
   ]
  },
  {
   "cell_type": "code",
   "execution_count": 11,
   "id": "815f1c03-e403-459b-8635-759ff750a732",
   "metadata": {},
   "outputs": [
    {
     "name": "stdout",
     "output_type": "stream",
     "text": [
      "/BiAPoL/\n",
      "/Documents/\n",
      "/Nextcloud Manual.pdf\n",
      "/Nextcloud intro.mp4\n",
      "/Nextcloud.png\n",
      "/Photos/\n",
      "/Projects/\n",
      "/Shared/\n",
      "/Software/\n"
     ]
    }
   ],
   "source": [
    "# enter a folder on the owncloud drive that exists. '/' is the root folder.\n",
    "remote_folder = \"/\"\n",
    "\n",
    "for f in oc.list(remote_folder):\n",
    "    print (f.path)"
   ]
  },
  {
   "cell_type": "markdown",
   "id": "c08c077f-7c76-40a3-97d2-a16f435cf8c4",
   "metadata": {},
   "source": [
    "## Retrieving a file\n",
    "We can download a file to a local directory."
   ]
  },
  {
   "cell_type": "code",
   "execution_count": 12,
   "id": "9e989c43-684e-41b6-af53-68515cfc3be2",
   "metadata": {},
   "outputs": [
    {
     "data": {
      "text/plain": [
       "True"
      ]
     },
     "execution_count": 12,
     "metadata": {},
     "output_type": "execute_result"
    }
   ],
   "source": [
    "# enter the source file here\n",
    "remote_source_file = '/Nextcloud Manual.pdf'\n",
    "# enter the destination\n",
    "local_file = 'Nextcloud Manual.pdf'\n",
    "\n",
    "oc.get_file(remote_path=remote_source_file, \n",
    "            local_file=local_file)"
   ]
  },
  {
   "cell_type": "markdown",
   "id": "ca5f185d-2fb6-4a3f-8f71-9a0df23fe599",
   "metadata": {},
   "source": [
    "The PDF is now located in the same folder as this notebook.\n",
    "\n",
    "## Exercise\n",
    "Can you also download `Nextcloud.png` using Python code?"
   ]
  },
  {
   "cell_type": "code",
   "execution_count": null,
   "id": "4e3f6bc8-85cf-44dd-bf6e-e260352e2c89",
   "metadata": {},
   "outputs": [],
   "source": []
  }
 ],
 "metadata": {
  "kernelspec": {
   "display_name": "Python 3 (ipykernel)",
   "language": "python",
   "name": "python3"
  },
  "language_info": {
   "codemirror_mode": {
    "name": "ipython",
    "version": 3
   },
   "file_extension": ".py",
   "mimetype": "text/x-python",
   "name": "python",
   "nbconvert_exporter": "python",
   "pygments_lexer": "ipython3",
   "version": "3.9.15"
  }
 },
 "nbformat": 4,
 "nbformat_minor": 5
}
