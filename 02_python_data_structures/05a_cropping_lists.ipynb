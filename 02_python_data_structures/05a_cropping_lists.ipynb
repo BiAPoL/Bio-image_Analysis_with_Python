{
 "cells": [
  {
   "cell_type": "markdown",
   "id": "2bac9780-3f38-4f74-9a22-577e2a4c6643",
   "metadata": {},
   "source": [
    "# Cropping lists\n",
    "A common task in Python is to crop out parts of lists and tuples, for example to access specific parts from lists.\n",
    "\n",
    "Let's start with a list of numbers"
   ]
  },
  {
   "cell_type": "code",
   "execution_count": 1,
   "id": "24617c60-0f20-4d12-ae69-b99630fbd919",
   "metadata": {},
   "outputs": [],
   "source": [
    "data = ['A', 'B', 'C', 'D', 'E', 'F', 'G', 'H', 'I']"
   ]
  },
  {
   "cell_type": "markdown",
   "id": "21077e88-518e-4f68-94b8-2d77e87b4058",
   "metadata": {},
   "source": [
    "We can determine how many elements are in `data`:"
   ]
  },
  {
   "cell_type": "code",
   "execution_count": 2,
   "id": "c4a74ad5-2503-4644-8dae-58b6cc80bd07",
   "metadata": {},
   "outputs": [
    {
     "data": {
      "text/plain": [
       "9"
      ]
     },
     "execution_count": 2,
     "metadata": {},
     "output_type": "execute_result"
    }
   ],
   "source": [
    "len(data)"
   ]
  },
  {
   "cell_type": "markdown",
   "id": "f19975f2-66ae-40fe-a129-baa8a5c3271e",
   "metadata": {},
   "source": [
    "As shown earlier, we can access specific elements by passing an index. Counting the element-index starts at 0."
   ]
  },
  {
   "cell_type": "code",
   "execution_count": 3,
   "id": "aeed7787-440f-4e82-aacc-9f42b2489c5b",
   "metadata": {},
   "outputs": [
    {
     "data": {
      "text/plain": [
       "'A'"
      ]
     },
     "execution_count": 3,
     "metadata": {},
     "output_type": "execute_result"
    }
   ],
   "source": [
    "data[0]"
   ]
  },
  {
   "cell_type": "code",
   "execution_count": 4,
   "id": "45e19fb5-5f11-405a-8cbb-2a4f8e7d1789",
   "metadata": {},
   "outputs": [
    {
     "data": {
      "text/plain": [
       "'B'"
      ]
     },
     "execution_count": 4,
     "metadata": {},
     "output_type": "execute_result"
    }
   ],
   "source": [
    "data[1]"
   ]
  },
  {
   "cell_type": "markdown",
   "id": "59396d59-dedd-45ff-b7b0-5bd3f9221c2d",
   "metadata": {},
   "source": [
    "We can also pass negative indices. This will access elements from the end of the list. The last element has index -1."
   ]
  },
  {
   "cell_type": "code",
   "execution_count": 5,
   "id": "d4a46ce7-8956-477f-9279-84e6a23b973e",
   "metadata": {},
   "outputs": [
    {
     "data": {
      "text/plain": [
       "'I'"
      ]
     },
     "execution_count": 5,
     "metadata": {},
     "output_type": "execute_result"
    }
   ],
   "source": [
    "data[-1]"
   ]
  },
  {
   "cell_type": "code",
   "execution_count": 6,
   "id": "b3498523-4dde-4054-83e0-f9c86c6a23c2",
   "metadata": {},
   "outputs": [
    {
     "data": {
      "text/plain": [
       "'H'"
      ]
     },
     "execution_count": 6,
     "metadata": {},
     "output_type": "execute_result"
    }
   ],
   "source": [
    "data[-2]"
   ]
  },
  {
   "cell_type": "markdown",
   "id": "3d7b3fa8-fe48-44ca-9397-ed009c8f7683",
   "metadata": {},
   "source": [
    "## Selecting ranges in lists\n",
    "We can also generate a new list that contains the first three elements. Therefore, we pass a range in form `[start:end]`. The first element has index `start` and the last element of the new list will be just before `end`."
   ]
  },
  {
   "cell_type": "code",
   "execution_count": 7,
   "id": "d066c8a8-eea4-4983-981d-86379fc370e0",
   "metadata": {},
   "outputs": [
    {
     "data": {
      "text/plain": [
       "['A', 'B', 'C', 'D', 'E', 'F', 'G', 'H', 'I']"
      ]
     },
     "execution_count": 7,
     "metadata": {},
     "output_type": "execute_result"
    }
   ],
   "source": [
    "data"
   ]
  },
  {
   "cell_type": "code",
   "execution_count": 8,
   "id": "eac82998-e516-4013-b791-e371d4281618",
   "metadata": {},
   "outputs": [
    {
     "data": {
      "text/plain": [
       "['A', 'B']"
      ]
     },
     "execution_count": 8,
     "metadata": {},
     "output_type": "execute_result"
    }
   ],
   "source": [
    "data[0:2]"
   ]
  },
  {
   "cell_type": "code",
   "execution_count": 9,
   "id": "7d950d4f-77bf-4c7c-9ac8-b6f1b8c0468f",
   "metadata": {},
   "outputs": [
    {
     "data": {
      "text/plain": [
       "['A', 'B', 'C']"
      ]
     },
     "execution_count": 9,
     "metadata": {},
     "output_type": "execute_result"
    }
   ],
   "source": [
    "data[0:3]"
   ]
  },
  {
   "cell_type": "code",
   "execution_count": 10,
   "id": "34a11701-eef3-4b1a-8a7d-9523a1aa8a72",
   "metadata": {},
   "outputs": [
    {
     "data": {
      "text/plain": [
       "['B']"
      ]
     },
     "execution_count": 10,
     "metadata": {},
     "output_type": "execute_result"
    }
   ],
   "source": [
    "data[1:2]"
   ]
  },
  {
   "cell_type": "markdown",
   "id": "82a94b37-d7bc-43cf-a15f-e8f8d1df18b5",
   "metadata": {},
   "source": [
    "Furthermore, we don't have to specify either `start` or `end` if we want to select all entries in a list from the start or until the end."
   ]
  },
  {
   "cell_type": "code",
   "execution_count": 11,
   "id": "cbd78a00-ef91-4dea-b033-89c83d8f9e76",
   "metadata": {},
   "outputs": [
    {
     "data": {
      "text/plain": [
       "['A', 'B', 'C', 'D', 'E', 'F', 'G', 'H', 'I']"
      ]
     },
     "execution_count": 11,
     "metadata": {},
     "output_type": "execute_result"
    }
   ],
   "source": [
    "data"
   ]
  },
  {
   "cell_type": "code",
   "execution_count": 12,
   "id": "18ed61b1-bf09-47a9-a875-89eac6955a20",
   "metadata": {},
   "outputs": [
    {
     "data": {
      "text/plain": [
       "['A', 'B']"
      ]
     },
     "execution_count": 12,
     "metadata": {},
     "output_type": "execute_result"
    }
   ],
   "source": [
    "data[:2]"
   ]
  },
  {
   "cell_type": "code",
   "execution_count": 13,
   "id": "cfeaca31-83a9-4710-b565-8a6250166989",
   "metadata": {},
   "outputs": [
    {
     "data": {
      "text/plain": [
       "['A', 'B', 'C']"
      ]
     },
     "execution_count": 13,
     "metadata": {},
     "output_type": "execute_result"
    }
   ],
   "source": [
    "data[:3]"
   ]
  },
  {
   "cell_type": "code",
   "execution_count": 14,
   "id": "34c44699-364a-4697-9341-e0583cc7830e",
   "metadata": {},
   "outputs": [
    {
     "data": {
      "text/plain": [
       "['C', 'D', 'E', 'F', 'G', 'H', 'I']"
      ]
     },
     "execution_count": 14,
     "metadata": {},
     "output_type": "execute_result"
    }
   ],
   "source": [
    "data[2:]"
   ]
  },
  {
   "cell_type": "code",
   "execution_count": 15,
   "id": "d88f089f-c23e-4e68-b788-925f122ebc9d",
   "metadata": {},
   "outputs": [
    {
     "data": {
      "text/plain": [
       "['D', 'E', 'F', 'G', 'H', 'I']"
      ]
     },
     "execution_count": 15,
     "metadata": {},
     "output_type": "execute_result"
    }
   ],
   "source": [
    "data[3:]"
   ]
  },
  {
   "cell_type": "markdown",
   "id": "917d4bdd-c547-4e29-92da-3db5f097be05",
   "metadata": {},
   "source": [
    "This also works with negative indices"
   ]
  },
  {
   "cell_type": "code",
   "execution_count": 16,
   "id": "e40e6e8a-1cd6-4c8d-a1d1-c1230d93671c",
   "metadata": {},
   "outputs": [
    {
     "data": {
      "text/plain": [
       "['H', 'I']"
      ]
     },
     "execution_count": 16,
     "metadata": {},
     "output_type": "execute_result"
    }
   ],
   "source": [
    "data[-2:]"
   ]
  },
  {
   "cell_type": "code",
   "execution_count": 17,
   "id": "bb6bce2d-171f-4c3e-97a5-f6fe23d83757",
   "metadata": {},
   "outputs": [
    {
     "data": {
      "text/plain": [
       "['A', 'B', 'C', 'D', 'E', 'F', 'G']"
      ]
     },
     "execution_count": 17,
     "metadata": {},
     "output_type": "execute_result"
    }
   ],
   "source": [
    "data[:-2]"
   ]
  },
  {
   "cell_type": "code",
   "execution_count": 18,
   "id": "a3800ca6-c1b2-4706-a808-6569abfb4d4f",
   "metadata": {},
   "outputs": [
    {
     "data": {
      "text/plain": [
       "['C', 'D']"
      ]
     },
     "execution_count": 18,
     "metadata": {},
     "output_type": "execute_result"
    }
   ],
   "source": [
    "data[-7:-5]"
   ]
  },
  {
   "cell_type": "code",
   "execution_count": 19,
   "id": "c24ee9fc-f793-4d40-9dc9-83e0cf78023d",
   "metadata": {},
   "outputs": [
    {
     "data": {
      "text/plain": [
       "[]"
      ]
     },
     "execution_count": 19,
     "metadata": {},
     "output_type": "execute_result"
    }
   ],
   "source": [
    "data[-5:-7]"
   ]
  },
  {
   "cell_type": "markdown",
   "id": "2d3fc7e4-c8d3-43a4-99c0-07fb7245e7ba",
   "metadata": {},
   "source": [
    "## Stepping over entries in lists\n",
    "The `:` can also be used to provide a step length using the syntax `[start:end:step]`."
   ]
  },
  {
   "cell_type": "code",
   "execution_count": 20,
   "id": "d065f055-233b-4d79-8cc6-c6a4c4430409",
   "metadata": {},
   "outputs": [
    {
     "data": {
      "text/plain": [
       "['A', 'B', 'C', 'D', 'E', 'F', 'G', 'H', 'I']"
      ]
     },
     "execution_count": 20,
     "metadata": {},
     "output_type": "execute_result"
    }
   ],
   "source": [
    "data"
   ]
  },
  {
   "cell_type": "markdown",
   "id": "4102c548-c0d1-4bda-a389-fa1f4512c2ab",
   "metadata": {},
   "source": [
    "For example we can select every seceond element starting at the first:"
   ]
  },
  {
   "cell_type": "code",
   "execution_count": 21,
   "id": "bdc30d02-ea6c-4979-b995-b79c022838f4",
   "metadata": {},
   "outputs": [
    {
     "data": {
      "text/plain": [
       "['A', 'C', 'E', 'G', 'I']"
      ]
     },
     "execution_count": 21,
     "metadata": {},
     "output_type": "execute_result"
    }
   ],
   "source": [
    "data[0:10:2]"
   ]
  },
  {
   "cell_type": "code",
   "execution_count": 22,
   "id": "3c6f8f4e-e8eb-45c6-9123-596460ff416d",
   "metadata": {},
   "outputs": [
    {
     "data": {
      "text/plain": [
       "['A', 'C', 'E', 'G', 'I']"
      ]
     },
     "execution_count": 22,
     "metadata": {},
     "output_type": "execute_result"
    }
   ],
   "source": [
    "data[::2]"
   ]
  },
  {
   "cell_type": "markdown",
   "id": "e8138c6e-5aa8-4b1c-8e27-e02195519992",
   "metadata": {},
   "source": [
    "We can also start at the second element (index 1):"
   ]
  },
  {
   "cell_type": "code",
   "execution_count": 23,
   "id": "56271034-0907-45fa-8e13-24c72fd2f4eb",
   "metadata": {},
   "outputs": [
    {
     "data": {
      "text/plain": [
       "['B', 'D', 'F', 'H']"
      ]
     },
     "execution_count": 23,
     "metadata": {},
     "output_type": "execute_result"
    }
   ],
   "source": [
    "data[1::2]"
   ]
  },
  {
   "cell_type": "markdown",
   "id": "cff1fe60-af80-4c56-af96-eaa00a8730e5",
   "metadata": {},
   "source": [
    "Also negative stepping works"
   ]
  },
  {
   "cell_type": "code",
   "execution_count": 24,
   "id": "e1e0e6cd-525e-4788-9264-74cfe7bd031a",
   "metadata": {},
   "outputs": [
    {
     "data": {
      "text/plain": [
       "['I', 'H', 'G', 'F', 'E', 'D', 'C', 'B', 'A']"
      ]
     },
     "execution_count": 24,
     "metadata": {},
     "output_type": "execute_result"
    }
   ],
   "source": [
    "data[::-1]"
   ]
  },
  {
   "cell_type": "code",
   "execution_count": 25,
   "id": "4bca95ae-438c-45aa-aca8-3619f7e62a00",
   "metadata": {},
   "outputs": [
    {
     "data": {
      "text/plain": [
       "['I', 'G', 'E', 'C', 'A']"
      ]
     },
     "execution_count": 25,
     "metadata": {},
     "output_type": "execute_result"
    }
   ],
   "source": [
    "data[::-2]"
   ]
  },
  {
   "cell_type": "markdown",
   "id": "c15bacf5-69b7-44d2-b9c7-ab6a696ca985",
   "metadata": {},
   "source": [
    "## Tuples\n",
    "All the introduced concepts above also work with tuples"
   ]
  },
  {
   "cell_type": "code",
   "execution_count": 26,
   "id": "34acbd72-3b4d-4abd-bf3c-5ffd79866f77",
   "metadata": {},
   "outputs": [
    {
     "data": {
      "text/plain": [
       "('A', 'B', 'C', 'D', 'E', 'F', 'G', 'H', 'I')"
      ]
     },
     "execution_count": 26,
     "metadata": {},
     "output_type": "execute_result"
    }
   ],
   "source": [
    "immutable_data = tuple(data)\n",
    "immutable_data"
   ]
  },
  {
   "cell_type": "code",
   "execution_count": 27,
   "id": "861cc342-f201-45df-b652-8a1046094859",
   "metadata": {},
   "outputs": [
    {
     "data": {
      "text/plain": [
       "('A', 'B', 'C', 'D', 'E')"
      ]
     },
     "execution_count": 27,
     "metadata": {},
     "output_type": "execute_result"
    }
   ],
   "source": [
    "immutable_data[:5]"
   ]
  },
  {
   "cell_type": "markdown",
   "id": "8e1f7ae9-c81b-4216-94a8-528a50dbe4f4",
   "metadata": {},
   "source": [
    "## Exercises\n",
    "Please print out the first four characters of `data` in reverse order."
   ]
  },
  {
   "cell_type": "code",
   "execution_count": null,
   "id": "24759c70-7de0-4b3d-bbb1-b1332585bf49",
   "metadata": {},
   "outputs": [],
   "source": []
  },
  {
   "cell_type": "markdown",
   "id": "b040aaa2-026f-4e90-9c12-25c97e14120d",
   "metadata": {},
   "source": [
    "Please print out every third character starting with `D`."
   ]
  },
  {
   "cell_type": "code",
   "execution_count": null,
   "id": "1d19c119-8c63-48f4-a053-6c682cebeeb6",
   "metadata": {},
   "outputs": [],
   "source": []
  },
  {
   "cell_type": "markdown",
   "id": "60d89b07-a770-4165-871e-349bea769ae5",
   "metadata": {},
   "source": [
    "Please print out the seond-last character in `data`."
   ]
  },
  {
   "cell_type": "code",
   "execution_count": null,
   "id": "f8e22a26-b9a2-4a84-b6f8-7c71d9d8195b",
   "metadata": {},
   "outputs": [],
   "source": []
  },
  {
   "cell_type": "markdown",
   "id": "0e9c248c-4a61-4652-b508-a82dc4ab3d96",
   "metadata": {},
   "source": [
    "Please select the three charactes `G`, `D` and `A` from `data` using a single python command."
   ]
  },
  {
   "cell_type": "code",
   "execution_count": null,
   "id": "730cd539-8409-4870-a453-71891bab8e82",
   "metadata": {},
   "outputs": [],
   "source": []
  }
 ],
 "metadata": {
  "kernelspec": {
   "display_name": "Python 3 (ipykernel)",
   "language": "python",
   "name": "python3"
  },
  "language_info": {
   "codemirror_mode": {
    "name": "ipython",
    "version": 3
   },
   "file_extension": ".py",
   "mimetype": "text/x-python",
   "name": "python",
   "nbconvert_exporter": "python",
   "pygments_lexer": "ipython3",
   "version": "3.9.10"
  }
 },
 "nbformat": 4,
 "nbformat_minor": 5
}
