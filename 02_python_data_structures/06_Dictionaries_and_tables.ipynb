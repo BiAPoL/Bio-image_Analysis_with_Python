{
 "cells": [
  {
   "cell_type": "markdown",
   "id": "strange-soundtrack",
   "metadata": {},
   "source": [
    "# Dictionaries\n",
    "Dictionaries are data structures that hold key-value pairs, written as `key:value`. \n",
    "\n",
    "See also\n",
    "* [Dictionaries in python](https://www.w3schools.com/python/python_dictionaries.asp)\n",
    "* [Dictionary keys as list](https://stackoverflow.com/questions/16819222/how-to-return-dictionary-keys-as-a-list-in-python)\n",
    "\n",
    "You can define dictionary like this:"
   ]
  },
  {
   "cell_type": "code",
   "execution_count": 1,
   "id": "transparent-external",
   "metadata": {},
   "outputs": [],
   "source": [
    "german_english_dictionary = {'Vorlesung':'Lecture', 'Gleichung':'Equation'}"
   ]
  },
  {
   "cell_type": "markdown",
   "id": "premier-address",
   "metadata": {},
   "source": [
    "For readers convenience, consider writing them like this:"
   ]
  },
  {
   "cell_type": "code",
   "execution_count": 2,
   "id": "constitutional-civilian",
   "metadata": {},
   "outputs": [],
   "source": [
    "german_english_dictionary = {\n",
    "    'Vorlesung':'Lecture', \n",
    "    'Gleichung':'Equation'\n",
    "}"
   ]
  },
  {
   "cell_type": "code",
   "execution_count": 3,
   "id": "fitted-mirror",
   "metadata": {},
   "outputs": [
    {
     "data": {
      "text/plain": [
       "{'Vorlesung': 'Lecture', 'Gleichung': 'Equation'}"
      ]
     },
     "execution_count": 3,
     "metadata": {},
     "output_type": "execute_result"
    }
   ],
   "source": [
    "german_english_dictionary"
   ]
  },
  {
   "cell_type": "markdown",
   "id": "accepted-inspection",
   "metadata": {},
   "source": [
    "If you want to access a given entry in the dictionary, you can address it using square brackets and the key:"
   ]
  },
  {
   "cell_type": "code",
   "execution_count": 4,
   "id": "varying-machine",
   "metadata": {},
   "outputs": [
    {
     "data": {
      "text/plain": [
       "'Lecture'"
      ]
     },
     "execution_count": 4,
     "metadata": {},
     "output_type": "execute_result"
    }
   ],
   "source": [
    "german_english_dictionary['Vorlesung']"
   ]
  },
  {
   "cell_type": "markdown",
   "id": "secure-seventh",
   "metadata": {},
   "source": [
    "You can add elements to the dictionary:"
   ]
  },
  {
   "cell_type": "code",
   "execution_count": 5,
   "id": "aboriginal-shareware",
   "metadata": {},
   "outputs": [],
   "source": [
    "german_english_dictionary['Tag'] = 'Day'"
   ]
  },
  {
   "cell_type": "code",
   "execution_count": 6,
   "id": "motivated-immune",
   "metadata": {},
   "outputs": [
    {
     "data": {
      "text/plain": [
       "{'Vorlesung': 'Lecture', 'Gleichung': 'Equation', 'Tag': 'Day'}"
      ]
     },
     "execution_count": 6,
     "metadata": {},
     "output_type": "execute_result"
    }
   ],
   "source": [
    "german_english_dictionary"
   ]
  },
  {
   "cell_type": "markdown",
   "id": "lovely-investment",
   "metadata": {},
   "source": [
    "You can also retrieve a list of all keys in the dictionary:"
   ]
  },
  {
   "cell_type": "code",
   "execution_count": 7,
   "id": "certain-devon",
   "metadata": {},
   "outputs": [],
   "source": [
    "keys = list(german_english_dictionary.keys())"
   ]
  },
  {
   "cell_type": "code",
   "execution_count": 8,
   "id": "middle-homeless",
   "metadata": {},
   "outputs": [
    {
     "data": {
      "text/plain": [
       "['Vorlesung', 'Gleichung', 'Tag']"
      ]
     },
     "execution_count": 8,
     "metadata": {},
     "output_type": "execute_result"
    }
   ],
   "source": [
    "keys"
   ]
  },
  {
   "cell_type": "code",
   "execution_count": 9,
   "id": "novel-overall",
   "metadata": {},
   "outputs": [
    {
     "data": {
      "text/plain": [
       "'Gleichung'"
      ]
     },
     "execution_count": 9,
     "metadata": {},
     "output_type": "execute_result"
    }
   ],
   "source": [
    "keys[1]"
   ]
  },
  {
   "cell_type": "markdown",
   "id": "modified-mambo",
   "metadata": {},
   "source": [
    "# Tables\n",
    "Tables *can* be expressed as dictionaries with arrays as elements."
   ]
  },
  {
   "cell_type": "code",
   "execution_count": 10,
   "id": "acceptable-cornell",
   "metadata": {},
   "outputs": [],
   "source": [
    "measurements_week = {\n",
    "    'Monday':   [2.3, 3.1, 5.6],\n",
    "    'Tuesday':  [1.8, 7.0, 4.3],\n",
    "    'Wednesday':[4.5, 1.5, 3.2],\n",
    "    'Thursday': [1.9, 2.0, 6.4],\n",
    "    'Friday':   [4.4, 2.3, 5.4]\n",
    "}"
   ]
  },
  {
   "cell_type": "code",
   "execution_count": 11,
   "id": "expired-ambassador",
   "metadata": {},
   "outputs": [
    {
     "data": {
      "text/plain": [
       "{'Monday': [2.3, 3.1, 5.6],\n",
       " 'Tuesday': [1.8, 7.0, 4.3],\n",
       " 'Wednesday': [4.5, 1.5, 3.2],\n",
       " 'Thursday': [1.9, 2.0, 6.4],\n",
       " 'Friday': [4.4, 2.3, 5.4]}"
      ]
     },
     "execution_count": 11,
     "metadata": {},
     "output_type": "execute_result"
    }
   ],
   "source": [
    "measurements_week"
   ]
  },
  {
   "cell_type": "code",
   "execution_count": 12,
   "id": "permanent-judges",
   "metadata": {},
   "outputs": [
    {
     "data": {
      "text/plain": [
       "[2.3, 3.1, 5.6]"
      ]
     },
     "execution_count": 12,
     "metadata": {},
     "output_type": "execute_result"
    }
   ],
   "source": [
    "measurements_week['Monday']"
   ]
  },
  {
   "cell_type": "markdown",
   "id": "3b3990ef-7dbf-4f36-81b0-92113250a86d",
   "metadata": {},
   "source": [
    "Using the [pandas](https://pandas.pydata.org/) library, you can visualize tables nicely."
   ]
  },
  {
   "cell_type": "code",
   "execution_count": 13,
   "id": "9fa496a3-b834-48b7-b647-f7a675f8244c",
   "metadata": {},
   "outputs": [
    {
     "data": {
      "text/html": [
       "<div>\n",
       "<style scoped>\n",
       "    .dataframe tbody tr th:only-of-type {\n",
       "        vertical-align: middle;\n",
       "    }\n",
       "\n",
       "    .dataframe tbody tr th {\n",
       "        vertical-align: top;\n",
       "    }\n",
       "\n",
       "    .dataframe thead th {\n",
       "        text-align: right;\n",
       "    }\n",
       "</style>\n",
       "<table border=\"1\" class=\"dataframe\">\n",
       "  <thead>\n",
       "    <tr style=\"text-align: right;\">\n",
       "      <th></th>\n",
       "      <th>Monday</th>\n",
       "      <th>Tuesday</th>\n",
       "      <th>Wednesday</th>\n",
       "      <th>Thursday</th>\n",
       "      <th>Friday</th>\n",
       "    </tr>\n",
       "  </thead>\n",
       "  <tbody>\n",
       "    <tr>\n",
       "      <th>0</th>\n",
       "      <td>2.3</td>\n",
       "      <td>1.8</td>\n",
       "      <td>4.5</td>\n",
       "      <td>1.9</td>\n",
       "      <td>4.4</td>\n",
       "    </tr>\n",
       "    <tr>\n",
       "      <th>1</th>\n",
       "      <td>3.1</td>\n",
       "      <td>7.0</td>\n",
       "      <td>1.5</td>\n",
       "      <td>2.0</td>\n",
       "      <td>2.3</td>\n",
       "    </tr>\n",
       "    <tr>\n",
       "      <th>2</th>\n",
       "      <td>5.6</td>\n",
       "      <td>4.3</td>\n",
       "      <td>3.2</td>\n",
       "      <td>6.4</td>\n",
       "      <td>5.4</td>\n",
       "    </tr>\n",
       "  </tbody>\n",
       "</table>\n",
       "</div>"
      ],
      "text/plain": [
       "   Monday  Tuesday  Wednesday  Thursday  Friday\n",
       "0     2.3      1.8        4.5       1.9     4.4\n",
       "1     3.1      7.0        1.5       2.0     2.3\n",
       "2     5.6      4.3        3.2       6.4     5.4"
      ]
     },
     "execution_count": 13,
     "metadata": {},
     "output_type": "execute_result"
    }
   ],
   "source": [
    "import pandas\n",
    "\n",
    "pandas.DataFrame(measurements_week)"
   ]
  },
  {
   "cell_type": "markdown",
   "id": "positive-motel",
   "metadata": {},
   "source": [
    "You can also store variables in such _tables_:"
   ]
  },
  {
   "cell_type": "code",
   "execution_count": 14,
   "id": "announced-smart",
   "metadata": {},
   "outputs": [],
   "source": [
    "width1 = 5\n",
    "height1 = 3\n",
    "\n",
    "width2 = 2\n",
    "height2 = 4\n",
    "\n",
    "area1 = width1 * height1\n",
    "area2 = width2 * height2\n",
    "\n",
    "rectangles = {\n",
    "    \"width\": [width1, width2],\n",
    "    \"height\": [height1, height2],\n",
    "    \"area\": [area1, area2]\n",
    "}"
   ]
  },
  {
   "cell_type": "code",
   "execution_count": 15,
   "id": "happy-advisory",
   "metadata": {},
   "outputs": [
    {
     "data": {
      "text/plain": [
       "{'width': [5, 2], 'height': [3, 4], 'area': [15, 8]}"
      ]
     },
     "execution_count": 15,
     "metadata": {},
     "output_type": "execute_result"
    }
   ],
   "source": [
    "rectangles"
   ]
  },
  {
   "cell_type": "code",
   "execution_count": 16,
   "id": "37c2dd05-9ac4-4154-9764-8eacee19825d",
   "metadata": {},
   "outputs": [
    {
     "data": {
      "text/html": [
       "<div>\n",
       "<style scoped>\n",
       "    .dataframe tbody tr th:only-of-type {\n",
       "        vertical-align: middle;\n",
       "    }\n",
       "\n",
       "    .dataframe tbody tr th {\n",
       "        vertical-align: top;\n",
       "    }\n",
       "\n",
       "    .dataframe thead th {\n",
       "        text-align: right;\n",
       "    }\n",
       "</style>\n",
       "<table border=\"1\" class=\"dataframe\">\n",
       "  <thead>\n",
       "    <tr style=\"text-align: right;\">\n",
       "      <th></th>\n",
       "      <th>width</th>\n",
       "      <th>height</th>\n",
       "      <th>area</th>\n",
       "    </tr>\n",
       "  </thead>\n",
       "  <tbody>\n",
       "    <tr>\n",
       "      <th>0</th>\n",
       "      <td>5</td>\n",
       "      <td>3</td>\n",
       "      <td>15</td>\n",
       "    </tr>\n",
       "    <tr>\n",
       "      <th>1</th>\n",
       "      <td>2</td>\n",
       "      <td>4</td>\n",
       "      <td>8</td>\n",
       "    </tr>\n",
       "  </tbody>\n",
       "</table>\n",
       "</div>"
      ],
      "text/plain": [
       "   width  height  area\n",
       "0      5       3    15\n",
       "1      2       4     8"
      ]
     },
     "execution_count": 16,
     "metadata": {},
     "output_type": "execute_result"
    }
   ],
   "source": [
    "pandas.DataFrame(rectangles)"
   ]
  },
  {
   "cell_type": "markdown",
   "id": "alike-leisure",
   "metadata": {},
   "source": [
    "# Exercise\n",
    "You just measured the radius of three [circles](https://en.wikipedia.org/wiki/Circle). Write them into a table and add a column with corresponding circle area measurements."
   ]
  },
  {
   "cell_type": "code",
   "execution_count": 17,
   "id": "distinguished-simulation",
   "metadata": {},
   "outputs": [],
   "source": [
    "r1 = 12\n",
    "r2 = 8\n",
    "r3 = 15"
   ]
  },
  {
   "cell_type": "code",
   "execution_count": null,
   "id": "compound-crawford",
   "metadata": {},
   "outputs": [],
   "source": []
  },
  {
   "cell_type": "markdown",
   "id": "e149f372-736a-48ec-b43d-5ddcdf1b06ab",
   "metadata": {},
   "source": [
    "What is the datatype of `measurements_week`?"
   ]
  },
  {
   "cell_type": "code",
   "execution_count": null,
   "id": "a9de459d-b0bd-4836-9d5b-5cd44672eb50",
   "metadata": {},
   "outputs": [],
   "source": []
  },
  {
   "cell_type": "markdown",
   "id": "891c0e6a-188c-48f0-a14a-eae7be9c5cc3",
   "metadata": {},
   "source": [
    "What is the datatype of `measurements_week['Monday']`?"
   ]
  },
  {
   "cell_type": "code",
   "execution_count": null,
   "id": "e695dcb4-b38b-495d-bb61-8f20765a363a",
   "metadata": {},
   "outputs": [],
   "source": []
  }
 ],
 "metadata": {
  "kernelspec": {
   "display_name": "Python 3 (ipykernel)",
   "language": "python",
   "name": "python3"
  },
  "language_info": {
   "codemirror_mode": {
    "name": "ipython",
    "version": 3
   },
   "file_extension": ".py",
   "mimetype": "text/x-python",
   "name": "python",
   "nbconvert_exporter": "python",
   "pygments_lexer": "ipython3",
   "version": "3.9.10"
  }
 },
 "nbformat": 4,
 "nbformat_minor": 5
}
