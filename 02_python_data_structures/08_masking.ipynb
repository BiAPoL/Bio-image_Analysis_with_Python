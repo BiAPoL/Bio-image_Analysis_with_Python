{
 "cells": [
  {
   "cell_type": "markdown",
   "id": "8109deef-c7bd-49eb-bd9b-4277c4d4ef87",
   "metadata": {},
   "source": [
    "# Masking numpy arrays\n",
    "Masking is the term used for selecting entries in arrays, e.g. depending on its content.\n",
    "In order to do this, we need to use [numpy arrays](https://numpy.org/doc/stable/user/basics.creation.html).\n",
    "\n",
    "First, we define a numpy array. Per definition it contains numbers:"
   ]
  },
  {
   "cell_type": "code",
   "execution_count": 1,
   "id": "396bbd4b-d770-4507-9d85-737437a0eacd",
   "metadata": {},
   "outputs": [
    {
     "data": {
      "text/plain": [
       "array([ 1, 17, 25,  3,  5, 26, 12])"
      ]
     },
     "execution_count": 1,
     "metadata": {},
     "output_type": "execute_result"
    }
   ],
   "source": [
    "import numpy\n",
    "measurements = numpy.asarray([1, 17, 25, 3, 5, 26, 12])\n",
    "measurements"
   ]
  },
  {
   "cell_type": "markdown",
   "id": "8f7900e2-54d5-493c-a401-4f066c54369b",
   "metadata": {},
   "source": [
    "Next, we create a mask, e.g. a mask that defines all measurements which are above a given threshold:"
   ]
  },
  {
   "cell_type": "code",
   "execution_count": 2,
   "id": "c40eca74-9d79-4659-b91e-aea0ae488dae",
   "metadata": {},
   "outputs": [
    {
     "data": {
      "text/plain": [
       "array([False,  True,  True, False, False,  True,  True])"
      ]
     },
     "execution_count": 2,
     "metadata": {},
     "output_type": "execute_result"
    }
   ],
   "source": [
    "mask = measurements > 10\n",
    "mask"
   ]
  },
  {
   "cell_type": "markdown",
   "id": "ed99a910-0dac-45ba-9c8b-78f654881906",
   "metadata": {},
   "source": [
    "We can apply that mask to our data to retrieve a new array that only contains masked values."
   ]
  },
  {
   "cell_type": "code",
   "execution_count": 3,
   "id": "94a8b9c4-aca8-47be-9b74-c305a82d4c41",
   "metadata": {},
   "outputs": [
    {
     "data": {
      "text/plain": [
       "array([17, 25, 26, 12])"
      ]
     },
     "execution_count": 3,
     "metadata": {},
     "output_type": "execute_result"
    }
   ],
   "source": [
    "measurements[mask]"
   ]
  },
  {
   "cell_type": "markdown",
   "id": "e2327ef7-c0c3-4c26-8e6c-3002a6abe439",
   "metadata": {},
   "source": [
    "## Exercises\n",
    "Create a new mask for all measurements below 20."
   ]
  },
  {
   "cell_type": "code",
   "execution_count": null,
   "id": "03f9825d-c806-4e85-b7ea-fa75b02e7299",
   "metadata": {},
   "outputs": [],
   "source": []
  },
  {
   "cell_type": "markdown",
   "id": "330a3186-c740-4be7-9eb9-91822d78e173",
   "metadata": {},
   "source": [
    "Apply the mask to retrieve a new array with numbers below 20."
   ]
  },
  {
   "cell_type": "code",
   "execution_count": null,
   "id": "78c9d414-310f-4771-aadc-a18032fe0408",
   "metadata": {},
   "outputs": [],
   "source": []
  },
  {
   "cell_type": "markdown",
   "id": "9d956a11-a549-4dda-bda1-25c3199a3cdc",
   "metadata": {},
   "source": [
    "Compute the average of all numbers below 20."
   ]
  },
  {
   "cell_type": "code",
   "execution_count": null,
   "id": "3a20c289-9191-47ba-bdac-aa1332d50c16",
   "metadata": {},
   "outputs": [],
   "source": []
  }
 ],
 "metadata": {
  "kernelspec": {
   "display_name": "Python 3 (ipykernel)",
   "language": "python",
   "name": "python3"
  },
  "language_info": {
   "codemirror_mode": {
    "name": "ipython",
    "version": 3
   },
   "file_extension": ".py",
   "mimetype": "text/x-python",
   "name": "python",
   "nbconvert_exporter": "python",
   "pygments_lexer": "ipython3",
   "version": "3.9.10"
  }
 },
 "nbformat": 4,
 "nbformat_minor": 5
}
