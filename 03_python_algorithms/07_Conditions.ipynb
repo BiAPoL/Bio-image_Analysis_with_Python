{
 "cells": [
  {
   "cell_type": "markdown",
   "id": "casual-purpose",
   "metadata": {},
   "source": [
    "# Conditions\n",
    "The `if` statement can be used to execute code conditionally. That means only if an expression is true. \n",
    "\n",
    "See also:\n",
    "* [if…elif…else in Python](https://www.datacamp.com/community/tutorials/elif-statements-python)\n",
    "\n",
    "Let's take a look at some expressions first"
   ]
  },
  {
   "cell_type": "code",
   "execution_count": 1,
   "id": "sensitive-graham",
   "metadata": {},
   "outputs": [
    {
     "data": {
      "text/plain": [
       "False"
      ]
     },
     "execution_count": 1,
     "metadata": {},
     "output_type": "execute_result"
    }
   ],
   "source": [
    "3 > 4"
   ]
  },
  {
   "cell_type": "code",
   "execution_count": 2,
   "id": "spare-official",
   "metadata": {},
   "outputs": [
    {
     "data": {
      "text/plain": [
       "False"
      ]
     },
     "execution_count": 2,
     "metadata": {},
     "output_type": "execute_result"
    }
   ],
   "source": [
    "a = 3\n",
    "b = 4\n",
    "\n",
    "a > b"
   ]
  },
  {
   "cell_type": "code",
   "execution_count": 3,
   "id": "olive-supervisor",
   "metadata": {},
   "outputs": [
    {
     "data": {
      "text/plain": [
       "True"
      ]
     },
     "execution_count": 3,
     "metadata": {},
     "output_type": "execute_result"
    }
   ],
   "source": [
    "a < b"
   ]
  },
  {
   "cell_type": "code",
   "execution_count": 4,
   "id": "gorgeous-summit",
   "metadata": {},
   "outputs": [
    {
     "data": {
      "text/plain": [
       "True"
      ]
     },
     "execution_count": 4,
     "metadata": {},
     "output_type": "execute_result"
    }
   ],
   "source": [
    "# not equal\n",
    "a != b"
   ]
  },
  {
   "cell_type": "code",
   "execution_count": 5,
   "id": "assisted-governor",
   "metadata": {},
   "outputs": [
    {
     "data": {
      "text/plain": [
       "False"
      ]
     },
     "execution_count": 5,
     "metadata": {},
     "output_type": "execute_result"
    }
   ],
   "source": [
    "# equal\n",
    "a == b"
   ]
  },
  {
   "cell_type": "code",
   "execution_count": 6,
   "id": "looking-activation",
   "metadata": {},
   "outputs": [],
   "source": [
    "# Note: Do not mix it up with this:\n",
    "a = b"
   ]
  },
  {
   "cell_type": "markdown",
   "id": "complimentary-blade",
   "metadata": {},
   "source": [
    "## The `if` statement\n",
    "After using `if` in combination with an expression, you need to put a colon `:` and following code must be indented:"
   ]
  },
  {
   "cell_type": "code",
   "execution_count": 7,
   "id": "cathedral-circumstances",
   "metadata": {},
   "outputs": [
    {
     "name": "stdout",
     "output_type": "stream",
     "text": [
      "Math is great.\n"
     ]
    }
   ],
   "source": [
    "if 3 < 4:\n",
    "    print(\"Math is great.\")"
   ]
  },
  {
   "cell_type": "code",
   "execution_count": 8,
   "id": "provincial-pulse",
   "metadata": {},
   "outputs": [],
   "source": [
    "if 3 > 4:\n",
    "    print(\"Math is weird.\")"
   ]
  },
  {
   "cell_type": "markdown",
   "id": "affecting-robert",
   "metadata": {},
   "source": [
    "You can also write more sophisticated comparisons:"
   ]
  },
  {
   "cell_type": "code",
   "execution_count": 9,
   "id": "noble-safety",
   "metadata": {},
   "outputs": [
    {
     "name": "stdout",
     "output_type": "stream",
     "text": [
      "C is between 4 and 20.\n"
     ]
    }
   ],
   "source": [
    "c = 10\n",
    "\n",
    "if 4 < c < 20:\n",
    "    print(\"C is between 4 and 20.\")"
   ]
  },
  {
   "cell_type": "markdown",
   "id": "minute-exclusion",
   "metadata": {},
   "source": [
    "Or combine expressions using `and` and `or`:"
   ]
  },
  {
   "cell_type": "code",
   "execution_count": 10,
   "id": "stuffed-intermediate",
   "metadata": {},
   "outputs": [],
   "source": [
    "if c > 4 and c < 10:\n",
    "    print(\"C is between 4 and 10.\")"
   ]
  },
  {
   "cell_type": "markdown",
   "id": "democratic-cutting",
   "metadata": {},
   "source": [
    "If you want to check if an element is in an array, do it like this:"
   ]
  },
  {
   "cell_type": "code",
   "execution_count": 11,
   "id": "disciplinary-spelling",
   "metadata": {},
   "outputs": [
    {
     "name": "stdout",
     "output_type": "stream",
     "text": [
      "Our list of animals contains a cat\n"
     ]
    }
   ],
   "source": [
    "animals = ['cat', 'dog', 'mouse']\n",
    "\n",
    "if 'cat' in animals:\n",
    "    print('Our list of animals contains a cat')"
   ]
  },
  {
   "cell_type": "markdown",
   "id": "vietnamese-instrument",
   "metadata": {},
   "source": [
    "You can also analyse strings. For example check if they start or end with certain characters:"
   ]
  },
  {
   "cell_type": "code",
   "execution_count": 12,
   "id": "demanding-scott",
   "metadata": {},
   "outputs": [
    {
     "name": "stdout",
     "output_type": "stream",
     "text": [
      "The file is an image!\n"
     ]
    }
   ],
   "source": [
    "filename = \"cells.tif\"\n",
    "\n",
    "if filename.endswith(\"tif\"):\n",
    "    print(\"The file is an image!\")"
   ]
  },
  {
   "cell_type": "code",
   "execution_count": 13,
   "id": "198e46ca-6cdf-434b-bc51-0b287235d09d",
   "metadata": {},
   "outputs": [
    {
     "name": "stdout",
     "output_type": "stream",
     "text": [
      "There are cells in the file!\n"
     ]
    }
   ],
   "source": [
    "if \"cells\" in filename:\n",
    "    print(\"There are cells in the file!\")"
   ]
  },
  {
   "cell_type": "markdown",
   "id": "naked-penny",
   "metadata": {},
   "source": [
    "## The `if-else` statement\n",
    "If you have two different pieces of code that should be executed alternatively, use `if-else`:"
   ]
  },
  {
   "cell_type": "code",
   "execution_count": 14,
   "id": "sophisticated-forum",
   "metadata": {},
   "outputs": [
    {
     "name": "stdout",
     "output_type": "stream",
     "text": [
      "We need to improve our quality.\n"
     ]
    }
   ],
   "source": [
    "quality_in_percent = 89\n",
    "\n",
    "if quality_in_percent > 90:    \n",
    "    print(\"Our quality is high enough.\")\n",
    "else:\n",
    "    print(\"We need to improve our quality.\")"
   ]
  },
  {
   "cell_type": "markdown",
   "id": "shared-ground",
   "metadata": {},
   "source": [
    "## The `elif` statement\n",
    "For executing code depending on multiple conditions, use the `elif`-statement:"
   ]
  },
  {
   "cell_type": "code",
   "execution_count": 15,
   "id": "compound-alliance",
   "metadata": {},
   "outputs": [
    {
     "name": "stdout",
     "output_type": "stream",
     "text": [
      "You scored 23 out of 30\n",
      "Your grade is 3\n"
     ]
    }
   ],
   "source": [
    "# determining the exam grade depending on \n",
    "number_of_correct_points = 23\n",
    "number_of_total_points = 30\n",
    "\n",
    "# compute percentage\n",
    "percentage = number_of_correct_points / number_of_total_points * 100\n",
    "\n",
    "if percentage > 95:\n",
    "    grade = 1\n",
    "elif percentage > 80:\n",
    "    grade = 2\n",
    "elif percentage > 60:\n",
    "    grade = 3\n",
    "elif percentage > 50:\n",
    "    grade = 4\n",
    "else:\n",
    "    grade = 5\n",
    "    \n",
    "print(\"You scored\", number_of_correct_points, \"out of\", number_of_total_points)\n",
    "print(\"Your grade is\", grade)"
   ]
  },
  {
   "cell_type": "markdown",
   "id": "italic-motor",
   "metadata": {},
   "source": [
    "## Exercise\n",
    "Write python code that prints out the daytime, e.g. \"morning\", \"noon\", \"afternoon\", \"evening\" and \"night\" depending on a given time."
   ]
  },
  {
   "cell_type": "code",
   "execution_count": 16,
   "id": "hawaiian-bryan",
   "metadata": {},
   "outputs": [],
   "source": [
    "# it's 12:15\n",
    "time_hours = 12\n",
    "time_minutes = 15"
   ]
  },
  {
   "cell_type": "code",
   "execution_count": null,
   "id": "biblical-style",
   "metadata": {},
   "outputs": [],
   "source": []
  }
 ],
 "metadata": {
  "kernelspec": {
   "display_name": "Python 3 (ipykernel)",
   "language": "python",
   "name": "python3"
  },
  "language_info": {
   "codemirror_mode": {
    "name": "ipython",
    "version": 3
   },
   "file_extension": ".py",
   "mimetype": "text/x-python",
   "name": "python",
   "nbconvert_exporter": "python",
   "pygments_lexer": "ipython3",
   "version": "3.9.10"
  }
 },
 "nbformat": 4,
 "nbformat_minor": 5
}
