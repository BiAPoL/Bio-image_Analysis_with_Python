{
 "cells": [
  {
   "cell_type": "markdown",
   "id": "cefd9144-3152-4563-8bc9-b0b1e2e6b0d4",
   "metadata": {},
   "source": [
    "# Histogram"
   ]
  },
  {
   "cell_type": "markdown",
   "id": "de1c329f-243f-40fd-826a-9ae75d2a6017",
   "metadata": {},
   "source": [
    "A histogram is a graph (usually displayed as bars) that displays how often an element appears in an array. For images, this means how often each pixel value shows up. It is usually displayed in every microscopy software.\n",
    "\n",
    "It is a useful additional tool to explore images."
   ]
  },
  {
   "cell_type": "markdown",
   "id": "8f575acb-c96d-4357-a162-f1bdba77c1aa",
   "metadata": {},
   "source": [
    "## Exploring the data"
   ]
  },
  {
   "cell_type": "markdown",
   "id": "54b1535f-5cdc-421b-9bfe-b8b6bdebb5ea",
   "metadata": {},
   "source": [
    "Before defining an image analysis workflow, it is really important to explore the data. The simplest way is, of course, displaying the images."
   ]
  },
  {
   "cell_type": "code",
   "execution_count": 1,
   "id": "dbb536a2-2f8c-4aee-9990-88f05e1a3a2a",
   "metadata": {},
   "outputs": [],
   "source": [
    "import numpy as np\n",
    "import matplotlib.pyplot as plt\n",
    "from skimage import data\n",
    "from skimage.io import imread\n",
    "from skimage.exposure import histogram"
   ]
  },
  {
   "cell_type": "markdown",
   "id": "ab5869b9-3e4f-4b21-ad17-bec9917cabb7",
   "metadata": {},
   "source": [
    "Take the following example. We will create an array withsome values:"
   ]
  },
  {
   "cell_type": "code",
   "execution_count": 2,
   "id": "5ac91e14-a4ff-4a4c-b949-deae6402101d",
   "metadata": {},
   "outputs": [],
   "source": [
    "array = np.ones((3,7))*64 # Creates a numpy array containing 'ones' and multiply it by 64\n",
    "array[:2,:4] = 60 # Atribute the value 60 to some pixels\n",
    "array[:,5:] = 192 # Atribute the value 192 to some pixels"
   ]
  },
  {
   "cell_type": "markdown",
   "id": "5f194438-9c47-4349-9c08-d5064ee99639",
   "metadata": {},
   "source": [
    "Since it is a small array, we can print it to check the values:"
   ]
  },
  {
   "cell_type": "code",
   "execution_count": 3,
   "id": "0bf58462-dfb2-41d6-b7a0-a036c1f86fa1",
   "metadata": {},
   "outputs": [
    {
     "name": "stdout",
     "output_type": "stream",
     "text": [
      "[[ 60.  60.  60.  60.  64. 192. 192.]\n",
      " [ 60.  60.  60.  60.  64. 192. 192.]\n",
      " [ 64.  64.  64.  64.  64. 192. 192.]]\n"
     ]
    }
   ],
   "source": [
    "print(array)"
   ]
  },
  {
   "cell_type": "markdown",
   "id": "7779d0be-4b84-4598-8b34-8af03ecafe95",
   "metadata": {},
   "source": [
    "Now, let's display it as an image."
   ]
  },
  {
   "cell_type": "code",
   "execution_count": 4,
   "id": "1c27787c-40b2-4127-8965-2df89467b528",
   "metadata": {},
   "outputs": [
    {
     "data": {
      "text/plain": [
       "<matplotlib.image.AxesImage at 0x1fa07def940>"
      ]
     },
     "execution_count": 4,
     "metadata": {},
     "output_type": "execute_result"
    },
    {
     "data": {
      "image/png": "[encoded data removed]",
      "text/plain": [
       "<Figure size 1440x720 with 1 Axes>"
      ]
     },
     "metadata": {
      "needs_background": "light"
     },
     "output_type": "display_data"
    }
   ],
   "source": [
    "plt.figure(figsize=(20,10))\n",
    "plt.imshow(array, cmap='gray', vmin=0, vmax=255) # vmin and vmax set the range of the colormap"
   ]
  },
  {
   "cell_type": "markdown",
   "id": "109a0b60-9a30-4ba2-9856-d24f2b531a5e",
   "metadata": {},
   "source": [
    "Which of these values occur more often? Unless we print the values or count them, it may be difficult to tell just by looking at it. Imagine for bigger images!\n",
    "\n",
    "For that, we can look at the pixel values from another perspective. One way to do that is to plot the image histogram."
   ]
  },
  {
   "cell_type": "markdown",
   "id": "05f5b531-fd22-4482-a951-e9309487b52f",
   "metadata": {},
   "source": [
    "## Histogram"
   ]
  },
  {
   "cell_type": "markdown",
   "id": "40f6ad88-1825-4cef-99e3-8bee16d08be5",
   "metadata": {},
   "source": [
    "Let's plot the histogram of the array/image we created before. We can do this with scikit-image and matplotlib."
   ]
  },
  {
   "cell_type": "markdown",
   "id": "b22dc8d5-52fa-4e79-8969-780d49044455",
   "metadata": {},
   "source": [
    "First, we use the `histogram()` function from scikit-image to get pixel values and pixel count."
   ]
  },
  {
   "cell_type": "code",
   "execution_count": 5,
   "id": "65d2e381-772a-4914-b185-b6bdf01de8c3",
   "metadata": {},
   "outputs": [],
   "source": [
    "piexl_counts, pixel_values = histogram(array)"
   ]
  },
  {
   "cell_type": "markdown",
   "id": "5a08dc6e-e5f0-4e38-b9db-68d26790eb86",
   "metadata": {},
   "source": [
    "Then we pass these results to `plt.bar()` function to plot the histogram as a bar graph."
   ]
  },
  {
   "cell_type": "code",
   "execution_count": 6,
   "id": "d85851e3-9f8d-48f4-8419-d9ab04a65adc",
   "metadata": {},
   "outputs": [
    {
     "data": {
      "text/plain": [
       "<BarContainer object of 256 artists>"
      ]
     },
     "execution_count": 6,
     "metadata": {},
     "output_type": "execute_result"
    },
    {
     "data": {
      "image/png": "[encoded data removed]",
      "text/plain": [
       "<Figure size 432x288 with 1 Axes>"
      ]
     },
     "metadata": {
      "needs_background": "light"
     },
     "output_type": "display_data"
    }
   ],
   "source": [
    "plt.bar(pixel_values, piexl_counts)"
   ]
  },
  {
   "cell_type": "markdown",
   "id": "c6b11938-ebdf-49f5-a4ee-885faaa7b659",
   "metadata": {},
   "source": [
    "Unlike in the image, just by looking at this graph we can clearly see that we have **three** differnt intensities, and that the the most frequent one is the value 60."
   ]
  },
  {
   "cell_type": "markdown",
   "id": "cf0b8ef0-6b57-4604-83af-d7712de6aa03",
   "metadata": {},
   "source": [
    "## Image Histogram"
   ]
  },
  {
   "cell_type": "markdown",
   "id": "a28862e1-0e65-4de3-aeed-7688c0434dc6",
   "metadata": {},
   "source": [
    "What about more complicated images?\n",
    "In that case, we may be able to differentiate background and foreground as two \"clusters\" of pixel values. Take the example below:"
   ]
  },
  {
   "cell_type": "code",
   "execution_count": 7,
   "id": "c7c9b4c3-82da-4333-aa1b-5b7078657600",
   "metadata": {},
   "outputs": [],
   "source": [
    "image_path = '../data/mitosis_mod.tif'"
   ]
  },
  {
   "cell_type": "code",
   "execution_count": 8,
   "id": "f8736aa1-a3e0-43d7-a738-3a46158de704",
   "metadata": {},
   "outputs": [],
   "source": [
    "image_cells = imread(image_path)"
   ]
  },
  {
   "cell_type": "code",
   "execution_count": 9,
   "id": "0a1b9a24-cc1e-4361-9974-4d7f4b525d81",
   "metadata": {},
   "outputs": [
    {
     "data": {
      "text/plain": [
       "<matplotlib.image.AxesImage at 0x1fa08123910>"
      ]
     },
     "execution_count": 9,
     "metadata": {},
     "output_type": "execute_result"
    },
    {
     "data": {
      "image/png": "[encoded data removed]",
      "text/plain": [
       "<Figure size 432x288 with 1 Axes>"
      ]
     },
     "metadata": {
      "needs_background": "light"
     },
     "output_type": "display_data"
    }
   ],
   "source": [
    "plt.imshow(image_cells, cmap='gray')"
   ]
  },
  {
   "cell_type": "code",
   "execution_count": 10,
   "id": "befa48e4-c093-49b2-b373-bc1e73029b2d",
   "metadata": {},
   "outputs": [
    {
     "data": {
      "text/plain": [
       "<BarContainer object of 248 artists>"
      ]
     },
     "execution_count": 10,
     "metadata": {},
     "output_type": "execute_result"
    },
    {
     "data": {
      "image/png": "[encoded data removed]",
      "text/plain": [
       "<Figure size 576x288 with 1 Axes>"
      ]
     },
     "metadata": {
      "needs_background": "light"
     },
     "output_type": "display_data"
    }
   ],
   "source": [
    "plt.figure(figsize=(8,4)) # Create an empty figure with a specific screen size\n",
    "pixel_counts, pixel_values = histogram(image_cells) # Calculate the image histogram\n",
    "plt.bar(pixel_values, pixel_counts, width=2) # Plot the histogram"
   ]
  },
  {
   "cell_type": "markdown",
   "id": "7ca71468-3d57-4b66-b5a9-d0055b04b030",
   "metadata": {},
   "source": [
    "The first big group to the left corresponds to small value pixels, which in this case is the background. There is a second cluster at between 70 and 150, which corresponds to the cells (foreground), because they are brighter than the background.\n",
    "\n",
    "Then there are small peak at the very end, more specifically, at 255. This is evidence that we have saturated pixels in the image, most likely corresponding to the dividing cells."
   ]
  }
 ],
 "metadata": {
  "kernelspec": {
   "display_name": "Python 3 (ipykernel)",
   "language": "python",
   "name": "python3"
  },
  "language_info": {
   "codemirror_mode": {
    "name": "ipython",
    "version": 3
   },
   "file_extension": ".py",
   "mimetype": "text/x-python",
   "name": "python",
   "nbconvert_exporter": "python",
   "pygments_lexer": "ipython3",
   "version": "3.9.12"
  }
 },
 "nbformat": 4,
 "nbformat_minor": 5
}
