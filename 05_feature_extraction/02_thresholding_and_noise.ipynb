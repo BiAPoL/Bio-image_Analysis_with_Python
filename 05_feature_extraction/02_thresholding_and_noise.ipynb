{
 "cells": [
  {
   "cell_type": "markdown",
   "id": "0877ee97-9097-4203-9d6e-b86b3adc6712",
   "metadata": {},
   "source": [
    "# Thresholding and noise\n",
    "\n",
    "In this exercise, we will try out different threshold methods, see how they react to noisy data - and how filtering can help to improve the results. To finish this excercise, have a look at the notebook's from [last week]('../04_image_processing_and_filters') - you may find some useful code!"
   ]
  },
  {
   "cell_type": "code",
   "execution_count": 1,
   "id": "96bb8728-eaf9-48aa-985b-f4eb94ed5c7f",
   "metadata": {},
   "outputs": [],
   "source": [
    "from skimage import data, filters, measure, util, morphology\n",
    "import matplotlib.pyplot as plt\n",
    "import napari\n",
    "import numpy as np"
   ]
  },
  {
   "cell_type": "markdown",
   "id": "a025cfa9-83c6-446b-9bf1-0855bb085e1a",
   "metadata": {},
   "source": [
    "## About pixel noise...\n",
    "\n",
    "Pixel noise can have very different characteristics - each of them requires a different type of image filtering to get rid of it. When we talk about noise, we typically differentiate between pixel noise and image noise, both of which have different origins and some subtypes. \n",
    "\n",
    "**Pixel noise**: This can, for instance, originate from electronic noise of the camera at the microscope and influences the pixels of the image individually."
   ]
  },
  {
   "cell_type": "code",
   "execution_count": 13,
   "id": "7ee6b688-fd76-4fe8-8068-d34e9c085639",
   "metadata": {},
   "outputs": [
    {
     "data": {
      "text/plain": [
       "array([[0., 0., 0., 0., 0.],\n",
       "       [0., 0., 0., 0., 0.],\n",
       "       [0., 0., 0., 0., 0.],\n",
       "       [0., 0., 0., 0., 0.],\n",
       "       [0., 0., 0., 0., 0.]])"
      ]
     },
     "execution_count": 13,
     "metadata": {},
     "output_type": "execute_result"
    }
   ],
   "source": [
    "data = np.zeros((5,5))\n",
    "data"
   ]
  },
  {
   "cell_type": "markdown",
   "id": "20b37f1d-7520-4d49-9d57-31267920af03",
   "metadata": {},
   "source": [
    "There are different types of pixel noise. *Gaussian noise*, for instance, adds a small value to every pixel according to a gaussian distribution. The gaussian filter provides a good way to deal with this."
   ]
  },
  {
   "cell_type": "code",
   "execution_count": 14,
   "id": "02deb22a-1a70-418c-b154-d4da62af99ed",
   "metadata": {},
   "outputs": [
    {
     "data": {
      "text/plain": [
       "array([[0.        , 0.        , 0.11628047, 0.01184722, 0.05113202],\n",
       "       [0.        , 0.13078862, 0.        , 0.        , 0.03313759],\n",
       "       [0.        , 0.12232928, 0.        , 0.15295342, 0.06675278],\n",
       "       [0.02888014, 0.1172457 , 0.1052611 , 0.11746526, 0.01738648],\n",
       "       [0.06713701, 0.05122907, 0.        , 0.12834537, 0.        ]])"
      ]
     },
     "execution_count": 14,
     "metadata": {},
     "output_type": "execute_result"
    }
   ],
   "source": [
    "data_gaussian_noise = util.random_noise(data, mode='gaussian')\n",
    "data_gaussian_noise"
   ]
  },
  {
   "cell_type": "markdown",
   "id": "1f426602-c445-4ba2-b176-0cde39554c62",
   "metadata": {},
   "source": [
    "*Salt noise* changes random pixels to high values - such noise can originate from dead pixels of the detector hardware. The median filter provides a good way to deal with this"
   ]
  },
  {
   "cell_type": "code",
   "execution_count": 23,
   "id": "73d9a34c-7447-4395-bd7b-22ff3ae7d713",
   "metadata": {},
   "outputs": [
    {
     "data": {
      "text/plain": [
       "array([[0., 0., 0., 0., 0.],\n",
       "       [0., 0., 0., 0., 0.],\n",
       "       [0., 0., 0., 0., 0.],\n",
       "       [1., 0., 0., 0., 0.],\n",
       "       [0., 0., 0., 0., 0.]])"
      ]
     },
     "execution_count": 23,
     "metadata": {},
     "output_type": "execute_result"
    }
   ],
   "source": [
    "data_salt_noise = util.random_noise(data, mode='salt')\n",
    "data_salt_noise"
   ]
  },
  {
   "cell_type": "markdown",
   "id": "e919dbfe-b73b-4ae2-a047-76b10e488b20",
   "metadata": {},
   "source": [
    "Conversely, *pepper noise* can change single pixels to very low values, which can also originate from hardware isues. The median filter also provides a good option to deal with this type of noise."
   ]
  },
  {
   "cell_type": "code",
   "execution_count": 26,
   "id": "4563219f-ea39-46c8-8e0d-17a048bd9f63",
   "metadata": {},
   "outputs": [
    {
     "data": {
      "text/plain": [
       "array([[1., 1., 1., 1., 1.],\n",
       "       [1., 1., 0., 1., 1.],\n",
       "       [1., 1., 1., 1., 1.],\n",
       "       [1., 1., 1., 1., 1.],\n",
       "       [1., 1., 1., 1., 1.]])"
      ]
     },
     "execution_count": 26,
     "metadata": {},
     "output_type": "execute_result"
    }
   ],
   "source": [
    "data = np.ones((5,5))\n",
    "data_pepper_noise = util.random_noise(data, mode='pepper')\n",
    "data_pepper_noise"
   ]
  },
  {
   "cell_type": "markdown",
   "id": "e1051565-e64b-4dce-a568-90595a4ce5d5",
   "metadata": {},
   "source": [
    "The image background represents a type of noise that affects large areas of the image, which can orginate from heterogeneous lighting at a microscope or autofluorescence of fluorescent markers. The top-hat filter provides a suitable means to address this problem."
   ]
  },
  {
   "cell_type": "markdown",
   "id": "097deff3-33fb-4494-aff7-778c1b60b3b2",
   "metadata": {},
   "source": [
    "## Excercises\n",
    "\n",
    "First, we create some data and then artifically add different kinds of noise to it - and see how we can best remove these further down the line again to make our downstream analysis more robust."
   ]
  },
  {
   "cell_type": "code",
   "execution_count": null,
   "id": "6b9d0343-1706-4169-8a19-25bb9ff54eed",
   "metadata": {},
   "outputs": [],
   "source": [
    "# First, we create some noisy data\n",
    "image = data.human_mitosis()\n",
    "plt.imshow(image, cmap='gray')"
   ]
  },
  {
   "cell_type": "markdown",
   "id": "44f9dfe2-5576-4f1c-b0f9-5c4257b6d8e2",
   "metadata": {},
   "source": [
    "## Exercise 1\n",
    "\n",
    "Let's add some pixel noise to the data. Skimage provides some [handy tools](https://scikit-image.org/docs/dev/api/skimage.util.html?highlight=utils#skimage.util.random_noise) for this. Add or remove some of the noise contributions by un-commenting some of the lines below - you can also add multiple sources of noise to the image.\n",
    "\n",
    "*Hint*: Use the `vmin` and `vmax` parameters to better visualize the brightness and contrast."
   ]
  },
  {
   "cell_type": "code",
   "execution_count": null,
   "id": "f35bc9e7-8cee-4ef3-8b35-aa574c7d94dd",
   "metadata": {},
   "outputs": [],
   "source": [
    "noisy_data = util.random_noise(image, mode='gaussian') * 255\n",
    "#noisy_data = utils.random_noise(image, mode='pepper') * 255\n",
    "#noisy_data = utils.random_noise(image, mode='s&p') * 255\n",
    "#noisy_data = utils.random_noise(image, mode='salt') * 255\n",
    "plt.imshow(noisy_data, cmap='gray', vmin=0, vmax=255)"
   ]
  },
  {
   "cell_type": "markdown",
   "id": "e145f82e-d139-4d38-9a57-7c813364e6fe",
   "metadata": {},
   "source": [
    "## Exercise 2\n",
    "\n",
    "Now, we add another type of noise - background - and add it to the noisy data from above.\n",
    "\n",
    "*Optional*: Try to understand the code below. What happens when you modify the value for `sigma` in line 3?"
   ]
  },
  {
   "cell_type": "code",
   "execution_count": null,
   "id": "b931fab2-d9df-4b07-a7a2-f982b9ae4ed0",
   "metadata": {},
   "outputs": [],
   "source": [
    "bg = np.zeros_like(noisy_data)\n",
    "bg[50,50] = 255\n",
    "bg_blur = filters.gaussian(bg, sigma=300)\n",
    "bg_blur = 255*bg_blur/bg_blur.max()\n",
    "noisy_data += bg_blur\n",
    "plt.imshow(noisy_data, cmap='gray')  # adjust the values for vmin and vmax to get a better impression!"
   ]
  },
  {
   "cell_type": "markdown",
   "id": "b12ee603-872e-4d1b-80bc-64d6ffc94915",
   "metadata": {},
   "source": [
    "## Exercise 3:\n",
    "\n",
    "In order to clear the added noise to the raw image in variable `noisy_data`, you need to apply **noise removal** and **background subtraction**. \n",
    "\n",
    "*Hint 1*: The `morphology.white_tophat()` and `filters.gaussian()` may provide the correct means to remove some types of noise in the image - but make sure to pass suitable parameters to these functions!\n",
    "\n",
    "- background subtraction with `morphology.white_tophat()`: Have a look at the footprint parameter!\n",
    "- Noise removal with `filters.gaussian()`: Have a look at the sigma parameters!\n",
    "\n",
    "*Hint 2*: Look up the [documentation](https://scikit-image.org/docs/dev/api/skimage.util.html?highlight=utils#skimage.util.random_noise) for `salt & pepper` noise - how are pixel values changed if this type of noise is applied? Which filter operation could be suitable to deal with single pixels with high grey values? "
   ]
  },
  {
   "cell_type": "code",
   "execution_count": null,
   "id": "97719834-21ba-4365-a4f0-ef5c0fc8e1df",
   "metadata": {},
   "outputs": [],
   "source": [
    "footprint = morphology.disk(7)\n",
    "background_subtracted = morphology.white_tophat(noisy_data, footprint=footprint)\n",
    "plt.imshow(background_subtracted, cmap='gray')"
   ]
  },
  {
   "cell_type": "code",
   "execution_count": null,
   "id": "bb85b7d4-5fec-48e6-9dce-883218196c80",
   "metadata": {},
   "outputs": [],
   "source": [
    "clean_image = filters.gaussian(background_subtracted, sigma=2)\n",
    "plt.imshow(clean_image, cmap='gray')"
   ]
  },
  {
   "cell_type": "markdown",
   "id": "1b3bef6e-bac7-4355-8387-f5f403cb73ea",
   "metadata": {},
   "source": [
    "## Exercise 4\n",
    "\n",
    "Now, apply thresholds from `skimage` to the image data! Hint: You can find them under `filters.threshold_...` - use the `tab` key or the [documentation](https://scikit-image.org/docs/stable/api/skimage.filters.html?highlight=filters#module-skimage.filters) to find out how to use the implemented threshold functions."
   ]
  },
  {
   "cell_type": "code",
   "execution_count": null,
   "id": "2168ef40-5913-4d44-815b-6b328262b2e0",
   "metadata": {},
   "outputs": [],
   "source": [
    "binary = filters.threshold_otsu"
   ]
  },
  {
   "cell_type": "markdown",
   "id": "ee9147cf-4773-4a01-9da4-5f5867b35ed5",
   "metadata": {},
   "source": [
    "## Exercise 5\n",
    "\n",
    "Lastly, perform a connected-component-analysis to create a label image from the previously generated binary image with `measure.label()`. "
   ]
  },
  {
   "cell_type": "code",
   "execution_count": null,
   "id": "23ed60a0-9cb6-48d7-949a-8d572f693f9c",
   "metadata": {},
   "outputs": [],
   "source": []
  },
  {
   "cell_type": "markdown",
   "id": "82f5717f-2fad-495f-84eb-f0ba543b0922",
   "metadata": {},
   "source": [
    "Use both `plt.imshow()` and Napari (`viewer.add_labels()`) to visualize the label image - why do the results *look* completely different?"
   ]
  },
  {
   "cell_type": "code",
   "execution_count": null,
   "id": "98936696-e963-4f08-9a97-74d5fdd3a75d",
   "metadata": {},
   "outputs": [],
   "source": [
    "viewer = napari.Viewer()"
   ]
  }
 ],
 "metadata": {
  "kernelspec": {
   "display_name": "Python 3 (ipykernel)",
   "language": "python",
   "name": "python3"
  },
  "language_info": {
   "codemirror_mode": {
    "name": "ipython",
    "version": 3
   },
   "file_extension": ".py",
   "mimetype": "text/x-python",
   "name": "python",
   "nbconvert_exporter": "python",
   "pygments_lexer": "ipython3",
   "version": "3.9.12"
  }
 },
 "nbformat": 4,
 "nbformat_minor": 5
}
