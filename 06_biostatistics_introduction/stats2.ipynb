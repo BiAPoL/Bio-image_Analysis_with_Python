{
 "cells": [
  {
   "cell_type": "markdown",
   "id": "ebba3979",
   "metadata": {},
   "source": [
    "# Descriptive statistics"
   ]
  },
  {
   "cell_type": "code",
   "execution_count": null,
   "id": "14d033e3",
   "metadata": {},
   "outputs": [],
   "source": [
    "import numpy as np\n",
    "import seaborn as sns\n",
    "import scipy.stats as st\n",
    "import matplotlib.pyplot as plt\n",
    "import matplotlib.mlab as mlab\n",
    "import pandas as pd\n",
    "import statsmodels.api as sm\n",
    "import statistics\n",
    "import os \n",
    "from scipy.stats import norm"
   ]
  },
  {
   "cell_type": "markdown",
   "id": "c8d38e7d",
   "metadata": {},
   "source": [
    "## Probability data, binomial distribution"
   ]
  },
  {
   "cell_type": "markdown",
   "id": "f86314ba",
   "metadata": {},
   "source": [
    "We already got to know data that follow a binomial distribution, but we actually had not looked at the distribution. We will do this now. 10% of the 100 cells we count have deformed nuclei. To illustrate the distribution we will count repeatedly....  "
   ]
  },
  {
   "cell_type": "code",
   "execution_count": null,
   "id": "a8ab9333",
   "metadata": {},
   "outputs": [],
   "source": [
    "n = 100 # number of trials\n",
    "p = 0.1 # probability of each trial\n",
    "\n",
    "s = np.random.binomial(n, p, 1000) #simulation repeating the experiment 1000 times\n",
    "print(s)"
   ]
  },
  {
   "cell_type": "markdown",
   "id": "05e3695d",
   "metadata": {},
   "source": [
    "As you can see, the result of the distribution is in absolute counts, not proportions - they can easyly be converted by deviding with n, but they dont have to...  "
   ]
  },
  {
   "cell_type": "code",
   "execution_count": null,
   "id": "6838ca38",
   "metadata": {},
   "outputs": [],
   "source": [
    "props = s/n\n",
    "print(props)"
   ]
  },
  {
   "cell_type": "markdown",
   "id": "b8319386",
   "metadata": {},
   "source": [
    "Now we plot the distribution. The easiest first look is a histogram. "
   ]
  },
  {
   "cell_type": "code",
   "execution_count": null,
   "id": "e5d59aa7",
   "metadata": {},
   "outputs": [],
   "source": [
    "plt.hist(props, bins = 50)\n",
    "plt.xlabel(\"proportion\")\n",
    "plt.ylabel(\"frequency\")\n",
    "plt.show()"
   ]
  },
  {
   "cell_type": "markdown",
   "id": "a4af1103",
   "metadata": {},
   "source": [
    "The resolution is a bit inappropriate, given that we deal with integers. To increase the bin number would be a good idea. Maybe we should also plot a confidence interval."
   ]
  },
  {
   "cell_type": "code",
   "execution_count": null,
   "id": "c3e2eada",
   "metadata": {},
   "outputs": [],
   "source": [
    "CI= sm.stats.proportion_confint(n*p, n, alpha=0.05)\n",
    "print(CI)\n",
    "\n",
    "plt.axvspan(CI[0],CI[1], alpha=0.2, color='yellow')\n",
    "plt.hist(props, bins = 50)\n",
    "plt.xlabel(\"proportion\")\n",
    "plt.ylabel(\"frequency\")\n",
    "plt.axvline(p, color=\"black\")"
   ]
  },
  {
   "cell_type": "markdown",
   "id": "91992b7d",
   "metadata": {},
   "source": [
    "In a binomial distribution, the distribution is given by the proportion and the sample size. Therefore we could calculate a confidence interval from one measurement.    "
   ]
  },
  {
   "cell_type": "markdown",
   "id": "1425b96a",
   "metadata": {},
   "source": [
    "#### How can we now describe the distribution? \n",
    "Summary statistics:"
   ]
  },
  {
   "cell_type": "code",
   "execution_count": null,
   "id": "c9a9fc18",
   "metadata": {},
   "outputs": [],
   "source": [
    "print(\"the minimum is:\",  min(props))\n",
    "print(\"the maximum is:\",  max(props))"
   ]
  },
  {
   "cell_type": "code",
   "execution_count": null,
   "id": "41e032e7",
   "metadata": {},
   "outputs": [],
   "source": []
  },
  {
   "cell_type": "code",
   "execution_count": null,
   "id": "296731b2",
   "metadata": {},
   "outputs": [],
   "source": [
    "print(statistics.mean(props))"
   ]
  },
  {
   "cell_type": "markdown",
   "id": "2f07dc17",
   "metadata": {},
   "source": [
    "Is the mean a good way to look at our distribution? "
   ]
  },
  {
   "cell_type": "code",
   "execution_count": null,
   "id": "625d0792",
   "metadata": {},
   "outputs": [],
   "source": [
    "n = 50 # number of trials\n",
    "p = 0.02 # probability of each trial\n",
    "\n",
    "s = np.random.binomial(n, p, 1000) #simulation repeating the experiment 1000 times\n",
    "props = s/n\n",
    "\n",
    "CI= sm.stats.proportion_confint(n*p, n, alpha=0.05)\n",
    "print(CI)\n",
    "\n",
    "plt.axvspan(CI[0],CI[1], alpha=0.2, color='yellow')\n",
    "plt.hist(props, bins = 20)\n",
    "plt.xlabel(\"proportion\")\n",
    "plt.ylabel(\"frequency\")\n",
    "plt.axvline(p, color=\"black\")\n",
    "plt.axvline(statistics.mean(props), color=\"red\")\n",
    "\n",
    "print(statistics.mean(props))"
   ]
  },
  {
   "cell_type": "code",
   "execution_count": null,
   "id": "8c5b0684",
   "metadata": {},
   "outputs": [],
   "source": [
    "n = 500 # number of trials\n",
    "p = 0.02 # probability of each trial\n",
    "\n",
    "s = np.random.binomial(n, p, 1000) #simulation repeating the experiment 1000 times\n",
    "props = s/n\n",
    "\n",
    "CI= sm.stats.proportion_confint(n*p, n, alpha=0.05)\n",
    "print(CI)\n",
    "\n",
    "plt.axvspan(CI[0],CI[1], alpha=0.2, color='yellow')\n",
    "plt.hist(props, bins = 50)\n",
    "plt.xlabel(\"proportion\")\n",
    "plt.ylabel(\"frequency\")\n",
    "plt.axvline(p, color=\"black\")\n",
    "plt.axvline(statistics.mean(props), color=\"red\")\n",
    "\n",
    "print(statistics.mean(props))"
   ]
  },
  {
   "cell_type": "markdown",
   "id": "82127114",
   "metadata": {},
   "source": [
    "## Count data/ the Poisson distribution"
   ]
  },
  {
   "cell_type": "markdown",
   "id": "09df97ec",
   "metadata": {},
   "source": [
    "The Poisson distribution is built on count data, e.g. the numbers of raisins in a Dresdner Christstollen, the number of geese at any given day between Blaues Wunder and Waldschlösschenbrücke, or radioactive decay. So lets use a Geiger counter and count the numbers of decay per min.  "
   ]
  },
  {
   "cell_type": "code",
   "execution_count": null,
   "id": "f1b60d81",
   "metadata": {
    "scrolled": true
   },
   "outputs": [],
   "source": [
    "freq =1.6\n",
    "s = np.random.poisson(freq, 1000)\n",
    "\n",
    "plt.hist(s, bins = 20)\n",
    "plt.xlabel(\"counts per minute\")\n",
    "plt.ylabel(\"frequency\")\n",
    "plt.axvline(freq, color=\"black\")"
   ]
  },
  {
   "cell_type": "markdown",
   "id": "a9d9eeda",
   "metadata": {},
   "source": [
    "### Confidence intervals for a Poisson distribution"
   ]
  },
  {
   "cell_type": "markdown",
   "id": "58af026d",
   "metadata": {},
   "source": [
    "Similar to the binomial distribution, the distribution is defined by sample size and the mean.  \n",
    "Also for Poisson, one can calculate an also asymmetrical confidence interval:"
   ]
  },
  {
   "cell_type": "code",
   "execution_count": null,
   "id": "a350ab5c",
   "metadata": {},
   "outputs": [],
   "source": [
    "freq =1.6\n",
    "s = np.random.poisson(freq, 1000)\n",
    "CI = st.poisson.interval(0.95,freq)\n",
    "\n",
    "plt.axvspan(CI[0],CI[1], alpha=0.2, color='yellow')\n",
    "plt.hist(s, bins = 20)\n",
    "plt.xlabel(\"counts per minute\")\n",
    "plt.ylabel(\"frequency\")\n",
    "plt.axvline(freq, color=\"black\")\n"
   ]
  },
  {
   "cell_type": "markdown",
   "id": "4fd1d7fe",
   "metadata": {},
   "source": [
    "For a poisson distribution, poisson error can be reduced, when increasing the counting population, in our case lets count for 10 min instead of 1 min, and see what happens.   "
   ]
  },
  {
   "cell_type": "code",
   "execution_count": null,
   "id": "4c4f553f",
   "metadata": {},
   "outputs": [],
   "source": [
    "CI = np.true_divide(st.poisson.interval(0.95,freq*10),10)\n",
    "print(CI)\n",
    "s = np.true_divide(np.random.poisson(freq*10, 1000),10)\n",
    "\n",
    "plt.axvspan(CI[0],CI[1], alpha=0.2, color='yellow')\n",
    "plt.hist(s, bins = 70)\n",
    "plt.xlabel(\"counts per minute\")\n",
    "plt.ylabel(\"frequency\")\n",
    "plt.axvline(freq, color=\"black\")"
   ]
  },
  {
   "cell_type": "markdown",
   "id": "2c181ff4",
   "metadata": {},
   "source": [
    "What is the difference between Poisson and Binomial? Aren't they both kind of looking at count data?   \n",
    "Yes, BUT:   \n",
    "Binomial counts events versus another event, e.g. for the cells there are two options, normal versus deformed. A binomial distribution is about comparing the two options.   \n",
    "Poisson counts with an open end, e.g. number of mutations.  "
   ]
  },
  {
   "cell_type": "markdown",
   "id": "ec4fe5a0",
   "metadata": {},
   "source": [
    "## Continuous data"
   ]
  },
  {
   "cell_type": "markdown",
   "id": "ff3aaf04",
   "metadata": {},
   "source": [
    "Let's import the count data you have generated with Robert. When you download it from Google sheets (https://docs.google.com/spreadsheets/d/1Ek-23Soro5XZ3y1kJHpvaTaa1f4n2C7G3WX0qddD-78/edit#gid=0), it comes with spaces. Try to avoid spaces and special characters in file names, they tend to make trouble.   \n",
    "I renamed it to 'BBBC001.csv'."
   ]
  },
  {
   "cell_type": "code",
   "execution_count": null,
   "id": "21876e6a",
   "metadata": {},
   "outputs": [],
   "source": [
    "dat = pd.read_csv('https://raw.githubusercontent.com/BiAPoL/Bio-image_Analysis_with_Python/main/data/BBBC001.csv', header=1, sep=';')\n",
    "\n",
    "print(dat)"
   ]
  },
  {
   "cell_type": "code",
   "execution_count": null,
   "id": "2e15cb5f",
   "metadata": {},
   "outputs": [],
   "source": []
  },
  {
   "cell_type": "markdown",
   "id": "9738012a",
   "metadata": {},
   "source": [
    "For now we will focus on the manual counts, visualise it and perform summary statistics."
   ]
  },
  {
   "cell_type": "code",
   "execution_count": null,
   "id": "79a50c6e",
   "metadata": {},
   "outputs": [],
   "source": [
    "man_count = dat[\"BBBC001 manual count\"].values\n",
    "auto_count = dat.iloc[:,[2,3,4]].values\n",
    "\n",
    "plt.hist(man_count,bins=100)"
   ]
  },
  {
   "cell_type": "code",
   "execution_count": null,
   "id": "f36d59ee",
   "metadata": {},
   "outputs": [],
   "source": [
    "print(man_count)"
   ]
  },
  {
   "cell_type": "code",
   "execution_count": null,
   "id": "d06a680b",
   "metadata": {},
   "outputs": [],
   "source": [
    "plt.hist(auto_count,bins=100)"
   ]
  },
  {
   "cell_type": "code",
   "execution_count": null,
   "id": "242846e5",
   "metadata": {},
   "outputs": [],
   "source": [
    "sns.kdeplot(data=dat)"
   ]
  },
  {
   "cell_type": "markdown",
   "id": "d7c16eda",
   "metadata": {},
   "source": [
    "There are different alternatives of displaying such data, some of which independent of distribution. You will find documentation in the graph galery: https://www.python-graph-gallery.com/"
   ]
  },
  {
   "cell_type": "code",
   "execution_count": null,
   "id": "fb39c76c",
   "metadata": {},
   "outputs": [],
   "source": [
    "sns.kdeplot(man_count)"
   ]
  },
  {
   "cell_type": "markdown",
   "id": "2f0fdfe5",
   "metadata": {},
   "source": [
    "A density plot is sometimes helpful to see the distribution, but be aware of the smoothing and that you loose the information on sample size. "
   ]
  },
  {
   "cell_type": "code",
   "execution_count": null,
   "id": "00cbc2e3",
   "metadata": {},
   "outputs": [],
   "source": [
    "sns.stripplot(data=auto_count)"
   ]
  },
  {
   "cell_type": "code",
   "execution_count": null,
   "id": "9bfffc1a",
   "metadata": {},
   "outputs": [],
   "source": [
    "sns.swarmplot(y=man_count)"
   ]
  },
  {
   "cell_type": "code",
   "execution_count": null,
   "id": "bd8646e2",
   "metadata": {},
   "outputs": [],
   "source": [
    "sns.violinplot(y=man_count)"
   ]
  },
  {
   "cell_type": "markdown",
   "id": "bdf227be",
   "metadata": {},
   "source": [
    "this plot is useful, but the density function can sometimes be misleading and lead to artefacts dependent on the sample size. Unless explicitely stated, sample sizes are usually normalised and therefore hidden!"
   ]
  },
  {
   "cell_type": "code",
   "execution_count": null,
   "id": "c5f247e0",
   "metadata": {},
   "outputs": [],
   "source": [
    "sns.boxplot(y=man_count)"
   ]
  },
  {
   "cell_type": "markdown",
   "id": "45262ac2",
   "metadata": {},
   "source": [
    "Be aware that boxplots hide the underlying distribution and the sample size.  \n",
    "So the \"safest\" plot, when in doubt, is to combine boxplot and jitter:"
   ]
  },
  {
   "cell_type": "code",
   "execution_count": null,
   "id": "58c5049b",
   "metadata": {},
   "outputs": [],
   "source": [
    "ax = sns.swarmplot(y=man_count, color=\"black\")\n",
    "ax = sns.boxplot(y=man_count,color=\"lightgrey\")\n",
    "ax.grid()"
   ]
  },
  {
   "cell_type": "markdown",
   "id": "8d0ccde5",
   "metadata": {},
   "source": [
    "The boxplot is very useful, because it directly provides non-parametric summary statistics:  \n",
    "Min, Max, Median, Quartiles and therefore the inter-quartile range (IQR). The whiskers are usually the highest point that is within 1.5x the quartile plus the IQR. Everything beyond that is considered an outlier. Whiskers are however not always used in this way! \n",
    "The mean and standard diviation are not visible in a boxplot, because it is only meaningful in distributions that center around the mean. It is however a part of summary statistics:"
   ]
  },
  {
   "cell_type": "code",
   "execution_count": null,
   "id": "95d4ab80",
   "metadata": {},
   "outputs": [],
   "source": [
    "dat[\"BBBC001 manual count\"].describe()"
   ]
  },
  {
   "cell_type": "markdown",
   "id": "2150dc8d",
   "metadata": {},
   "source": [
    "## Normal distribution"
   ]
  },
  {
   "cell_type": "markdown",
   "id": "3cedc18e",
   "metadata": {},
   "source": [
    "We assume that our distribution is \"normal\".  \n",
    "First we fit a normal distribution to our data. "
   ]
  },
  {
   "cell_type": "code",
   "execution_count": null,
   "id": "ef3c8512",
   "metadata": {},
   "outputs": [],
   "source": [
    "(mu, sigma) = norm.fit(man_count)\n",
    "n, bins, patches = plt.hist(man_count, 100,density=1)\n",
    "\n",
    "\n",
    "# add a 'best fit' line\n",
    "y = norm.pdf(bins, mu, sigma)\n",
    "l = plt.plot(bins, y, 'r--', linewidth=2)\n",
    "\n",
    "#plot\n",
    "plt.xlabel('manual counts counts')\n",
    "plt.ylabel('binned counts')\n",
    "plt.title(r'$\\mathrm{Histogram\\ of\\ manual\\ counts:}\\ \\mu=%.3f,\\ \\sigma=%.3f$' %(mu, sigma))\n",
    "\n",
    "plt.show()"
   ]
  },
  {
   "cell_type": "markdown",
   "id": "ca9c0ab4",
   "metadata": {},
   "source": [
    "Is it really normally distributed? What we see here is already one of the most problematic properties of a normal distribution: The susceptibility to outliers. "
   ]
  },
  {
   "cell_type": "markdown",
   "id": "e667c3a5",
   "metadata": {},
   "source": [
    "In normal distributions the confidence interval is determined by the standard diviation. A confidence level of 95% equals 1.96 x sigma.  "
   ]
  },
  {
   "cell_type": "code",
   "execution_count": null,
   "id": "89d7d6fd",
   "metadata": {},
   "outputs": [],
   "source": [
    "#plot\n",
    "\n",
    "(mu, sigma) = norm.fit(man_count)\n",
    "n, bins, patches = plt.hist(man_count, 100,density=1)\n",
    "\n",
    "# add a 'best fit' line\n",
    "y = norm.pdf(bins, mu, sigma)\n",
    "l = plt.plot(bins, y, 'r--', linewidth=2)\n",
    "\n",
    "\n",
    "plt.xlabel('manual counts counts')\n",
    "plt.ylabel('binned counts')\n",
    "plt.title(r'$\\mathrm{Histogram\\ of\\ manual\\ counts:}\\ \\mu=%.3f,\\ \\sigma=%.3f$' %(mu, sigma))\n",
    "plt.axvspan((mu-1.96*sigma),(mu+1.96*sigma), alpha=0.2, color='yellow')\n",
    "plt.axvline(mu, color=\"black\")\n",
    "\n",
    "\n",
    "plt.show()"
   ]
  },
  {
   "cell_type": "markdown",
   "id": "25d0ba3c",
   "metadata": {},
   "source": [
    "This shows even nicer that our outlier messes up the distribution :-)  \n",
    "How can we solve this in practise?  \n",
    "1. Ignore the problem and continue with the knowledge that we are overestimating the width of the distribution and underestimating the mean.  \n",
    "2. Censor the outlier. \n",
    "3. Decide that we cannot assume normality and move to either a different distribution or non-parametric statistics. "
   ]
  },
  {
   "cell_type": "markdown",
   "id": "184aa620",
   "metadata": {},
   "source": [
    "## Other distributions   \n",
    "Of course there are many more distributions, e.g.  \n",
    "Lognormal is a distribution that becomes normal, when log transformed. It is important for the \"geometric mean\".  \n",
    "Bimodal distributions may arise from imaging data with background signal, or DNA methylation data.   \n",
    "Negative binomial distributions are very important in genomics, especially RNA-Seq analysis. "
   ]
  },
  {
   "cell_type": "markdown",
   "id": "71772060",
   "metadata": {},
   "source": [
    "## Exercise"
   ]
  },
  {
   "cell_type": "markdown",
   "id": "796f70d9",
   "metadata": {},
   "source": [
    "1. We had imported the total table with also the automated counts. Visualise the distribution of the data next to each other\n",
    "2. Generate the summary statistics and compare the different distributions\n",
    "3. Two weeks ago you learned how to analyze a folder of images and measured the average size of beads:\n",
    "https://nbviewer.jupyter.org/github/BiAPoL/Bio-image_Analysis_with_Python/blob/main/image_processing/12_process_folders.ipynb\n",
    "\n",
    "Go back to the bead-analysis two weeks ago and measure the intensity of the individual beads (do not average over the image). Plot the beads' intensities as different plots. Which one do you find most approproiate for these data?\n",
    "\n"
   ]
  },
  {
   "cell_type": "code",
   "execution_count": null,
   "id": "1004bff1",
   "metadata": {},
   "outputs": [],
   "source": []
  },
  {
   "cell_type": "code",
   "execution_count": null,
   "id": "952e2424",
   "metadata": {},
   "outputs": [],
   "source": []
  }
 ],
 "metadata": {
  "kernelspec": {
   "display_name": "Python 3 (ipykernel)",
   "language": "python",
   "name": "python3"
  },
  "language_info": {
   "codemirror_mode": {
    "name": "ipython",
    "version": 3
   },
   "file_extension": ".py",
   "mimetype": "text/x-python",
   "name": "python",
   "nbconvert_exporter": "python",
   "pygments_lexer": "ipython3",
   "version": "3.9.5"
  }
 },
 "nbformat": 4,
 "nbformat_minor": 5
}
