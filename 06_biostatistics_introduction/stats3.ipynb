{
 "cells": [
  {
   "cell_type": "markdown",
   "id": "0599a8cf",
   "metadata": {},
   "source": [
    "# Testing statistics"
   ]
  },
  {
   "cell_type": "code",
   "execution_count": 1,
   "id": "f8516976",
   "metadata": {},
   "outputs": [],
   "source": [
    "import numpy as np\n",
    "import seaborn as sns\n",
    "import scipy.stats as st\n",
    "import matplotlib.pyplot as plt\n",
    "import matplotlib.mlab as mlab\n",
    "import pandas as pd\n",
    "import statsmodels.api as sm\n",
    "import statistics\n",
    "import os \n",
    "from scipy.stats import norm"
   ]
  },
  {
   "cell_type": "markdown",
   "id": "000e5f15",
   "metadata": {},
   "source": [
    "## The irreproducibility of p-values"
   ]
  },
  {
   "cell_type": "markdown",
   "id": "b1c845fa",
   "metadata": {},
   "source": [
    "P-values are themselves rather irreproducible. This is a bit hard to imagine, so we will have a look t that.  "
   ]
  },
  {
   "cell_type": "markdown",
   "id": "3a8a8922",
   "metadata": {},
   "source": [
    "First, lets simulate data. We want to have two normal distributions, which are supposed to be borderline significantly different with a significance level of alpha = 0.05  "
   ]
  },
  {
   "cell_type": "code",
   "execution_count": 2,
   "id": "84b33a73",
   "metadata": {},
   "outputs": [
    {
     "data": {
      "text/plain": [
       "Ttest_indResult(statistic=-1.1671662020672113, pvalue=0.2583731851948654)"
      ]
     },
     "execution_count": 2,
     "metadata": {},
     "output_type": "execute_result"
    },
    {
     "data": {
      "image/png": "[encoded data removed]",
      "text/plain": [
       "<Figure size 432x288 with 1 Axes>"
      ]
     },
     "metadata": {
      "needs_background": "light"
     },
     "output_type": "display_data"
    }
   ],
   "source": [
    "mean1 = 0\n",
    "mean2 = 10\n",
    "sd= 10 \n",
    "n=10\n",
    "\n",
    "s1 = np.random.normal(mean1, sd,n)\n",
    "s2 = np.random.normal(mean2, sd,n)\n",
    "\n",
    "plt.hist(s1,alpha=0.5)\n",
    "plt.hist(s2,alpha=0.5)\n",
    "plt.xlabel(\"value\")\n",
    "plt.ylabel(\"density\")\n",
    "plt.axvline(statistics.mean(s1), color=\"blue\")\n",
    "plt.axvline(statistics.mean(s2), color=\"red\")\n",
    "\n",
    "st.ttest_ind(s1,s2)"
   ]
  },
  {
   "cell_type": "markdown",
   "id": "f59bafc9",
   "metadata": {},
   "source": [
    "Now lets do this many times to have a look how often we get the p-value."
   ]
  },
  {
   "cell_type": "code",
   "execution_count": 3,
   "id": "dc4d9b57",
   "metadata": {},
   "outputs": [
    {
     "data": {
      "text/plain": [
       "Text(0.5, 0, '-log10(p)')"
      ]
     },
     "execution_count": 3,
     "metadata": {},
     "output_type": "execute_result"
    },
    {
     "data": {
      "image/png": "[encoded data removed]",
      "text/plain": [
       "<Figure size 432x288 with 1 Axes>"
      ]
     },
     "metadata": {
      "needs_background": "light"
     },
     "output_type": "display_data"
    }
   ],
   "source": [
    "pvals = []\n",
    "\n",
    "for _ in range (1000):\n",
    "    np.random.seed()\n",
    "    samp1 = np.random.normal(mean1, sd, n)\n",
    "    samp2 = np.random.normal(mean2, sd, n)\n",
    "    new_test = st.ttest_ind(samp1,samp2) \n",
    "    pvals.append(new_test[1])\n",
    "\n",
    "#Can you simplify the loop?     \n",
    "    \n",
    "#Lets plot this\n",
    "plt.hist(-np.log10(pvals),bins=50)\n",
    "plt.axvline(-np.log10(0.05), color=\"black\")\n",
    "plt.xlabel(\"-log10(p)\")\n"
   ]
  },
  {
   "cell_type": "markdown",
   "id": "a9235287",
   "metadata": {},
   "source": [
    "We are indeed at the significance level most of the time, but at the same time we would frquently call our results \"not significant\" and sometimes \"highly significant\".  \n",
    "Does this become better with increased sample size? "
   ]
  },
  {
   "cell_type": "code",
   "execution_count": 4,
   "id": "74c88bb2",
   "metadata": {},
   "outputs": [
    {
     "data": {
      "text/plain": [
       "<matplotlib.lines.Line2D at 0x7fcdf0ccbe80>"
      ]
     },
     "execution_count": 4,
     "metadata": {},
     "output_type": "execute_result"
    },
    {
     "data": {
      "image/png": "[encoded data removed]",
      "text/plain": [
       "<Figure size 432x288 with 1 Axes>"
      ]
     },
     "metadata": {
      "needs_background": "light"
     },
     "output_type": "display_data"
    }
   ],
   "source": [
    "n=20\n",
    "\n",
    "s1 = np.random.normal(mean1, sd,n)\n",
    "s2 = np.random.normal(mean2, sd,n)\n",
    "\n",
    "plt.hist(s1,alpha=0.5)\n",
    "plt.hist(s2,alpha=0.5)\n",
    "plt.xlabel(\"value\")\n",
    "plt.ylabel(\"density\")\n",
    "plt.axvline(statistics.mean(s1), color=\"blue\")\n",
    "plt.axvline(statistics.mean(s2), color=\"red\")"
   ]
  },
  {
   "cell_type": "code",
   "execution_count": 5,
   "id": "3d960ff4",
   "metadata": {},
   "outputs": [
    {
     "data": {
      "text/plain": [
       "Text(0.5, 0, '-log10(p)')"
      ]
     },
     "execution_count": 5,
     "metadata": {},
     "output_type": "execute_result"
    },
    {
     "data": {
      "image/png": "[encoded data removed]",
      "text/plain": [
       "<Figure size 432x288 with 1 Axes>"
      ]
     },
     "metadata": {
      "needs_background": "light"
     },
     "output_type": "display_data"
    }
   ],
   "source": [
    "pvals = []\n",
    "\n",
    "for _ in range (1000):\n",
    "    np.random.seed()\n",
    "    samp1 = np.random.normal(mean1, sd, n)\n",
    "    samp2 = np.random.normal(mean2, sd, n)\n",
    "    new_test = st.ttest_ind(samp1,samp2) \n",
    "    pvals.append(new_test[1])\n",
    "\n",
    "    \n",
    "    \n",
    "#Lets plot this\n",
    "plt.hist(-np.log10(pvals),bins=50)\n",
    "plt.axvline(-np.log10(0.05), color=\"black\")\n",
    "plt.xlabel(\"-log10(p)\")"
   ]
  },
  {
   "cell_type": "markdown",
   "id": "7dda1758",
   "metadata": {},
   "source": [
    "Indeed it does. The \"power\" of our analysis increases, but the range is still very wide. And this does not really change! "
   ]
  },
  {
   "cell_type": "code",
   "execution_count": 6,
   "id": "3b6adf03",
   "metadata": {},
   "outputs": [
    {
     "data": {
      "text/plain": [
       "<matplotlib.lines.Line2D at 0x7fcdf0ccbc10>"
      ]
     },
     "execution_count": 6,
     "metadata": {},
     "output_type": "execute_result"
    },
    {
     "data": {
      "image/png": "[encoded data removed]",
      "text/plain": [
       "<Figure size 432x288 with 1 Axes>"
      ]
     },
     "metadata": {
      "needs_background": "light"
     },
     "output_type": "display_data"
    }
   ],
   "source": [
    "n=100\n",
    "\n",
    "s1 = np.random.normal(mean1, sd,n)\n",
    "s2 = np.random.normal(mean2, sd,n)\n",
    "\n",
    "plt.hist(s1,alpha=0.5)\n",
    "plt.hist(s2,alpha=0.5)\n",
    "plt.xlabel(\"value\")\n",
    "plt.ylabel(\"density\")\n",
    "plt.axvline(statistics.mean(s1), color=\"blue\")\n",
    "plt.axvline(statistics.mean(s2), color=\"red\")\n",
    "\n"
   ]
  },
  {
   "cell_type": "code",
   "execution_count": 7,
   "id": "d3c9838e",
   "metadata": {},
   "outputs": [
    {
     "data": {
      "text/plain": [
       "Text(0.5, 0, '-log10(p)')"
      ]
     },
     "execution_count": 7,
     "metadata": {},
     "output_type": "execute_result"
    },
    {
     "data": {
      "image/png": "[encoded data removed]",
      "text/plain": [
       "<Figure size 432x288 with 1 Axes>"
      ]
     },
     "metadata": {
      "needs_background": "light"
     },
     "output_type": "display_data"
    }
   ],
   "source": [
    "pvals = []\n",
    "\n",
    "for _ in range (1000):\n",
    "    np.random.seed()\n",
    "    samp1 = np.random.normal(mean1, sd, n)\n",
    "    samp2 = np.random.normal(mean2, sd, n)\n",
    "    new_test = st.ttest_ind(samp1,samp2) \n",
    "    pvals.append(new_test[1])\n",
    "\n",
    "   \n",
    "    \n",
    "#Lets plot this\n",
    "plt.hist(-np.log10(pvals),bins=50)\n",
    "plt.axvline(-np.log10(0.05), color=\"black\")\n",
    "plt.xlabel(\"-log10(p)\")"
   ]
  },
  {
   "cell_type": "markdown",
   "id": "7e2d3815",
   "metadata": {},
   "source": [
    "A good way to visualise this is by plotting the the p-value AND the effect size. In our case the difference between the mean "
   ]
  },
  {
   "cell_type": "code",
   "execution_count": 8,
   "id": "84d211c6",
   "metadata": {},
   "outputs": [
    {
     "name": "stdout",
     "output_type": "stream",
     "text": [
      "          diff     pvals\n",
      "0    12.506341  0.011016\n",
      "1    14.662580  0.002660\n",
      "2    10.404086  0.004000\n",
      "3     4.744997  0.226458\n",
      "4     9.432388  0.078833\n",
      "..         ...       ...\n",
      "995  15.139399  0.000505\n",
      "996  13.137859  0.024085\n",
      "997   7.136308  0.138756\n",
      "998   7.702210  0.111803\n",
      "999   4.310660  0.325577\n",
      "\n",
      "[1000 rows x 2 columns]\n"
     ]
    },
    {
     "data": {
      "text/plain": [
       "<matplotlib.lines.Line2D at 0x7fce4111be50>"
      ]
     },
     "execution_count": 8,
     "metadata": {},
     "output_type": "execute_result"
    },
    {
     "data": {
      "image/png": "[encoded data removed]",
      "text/plain": [
       "<Figure size 432x288 with 1 Axes>"
      ]
     },
     "metadata": {
      "needs_background": "light"
     },
     "output_type": "display_data"
    }
   ],
   "source": [
    "n=10\n",
    "\n",
    "pvals = []\n",
    "diffs = []\n",
    "\n",
    "for _ in range (1000):\n",
    "    np.random.seed()\n",
    "    samp1 = np.random.normal(mean1, sd, n)\n",
    "    samp2 = np.random.normal(mean2, sd, n)\n",
    "    new_test = st.ttest_ind(samp1,samp2) \n",
    "    diff = statistics.mean(samp2)-statistics.mean(samp1)\n",
    "    diffs.append(diff)\n",
    "    pvals.append(new_test[1])\n",
    "\n",
    "df = pd.DataFrame({'diff': diffs, 'pvals': pvals})\n",
    "\n",
    "print(df)\n",
    "    \n",
    "#Lets plot this\n",
    "plt.scatter(df[\"diff\"], -np.log10(df[\"pvals\"]),  alpha=0.5)\n",
    "plt.xlabel(\"difference of the mean\")\n",
    "plt.ylabel(\"-log10(p)\")\n",
    "plt.axhline(-np.log10(0.05), color=\"grey\")\n",
    "plt.axvline(0, color=\"grey\")\n",
    "\n"
   ]
  },
  {
   "cell_type": "code",
   "execution_count": null,
   "id": "e072eaa3",
   "metadata": {},
   "outputs": [],
   "source": []
  },
  {
   "cell_type": "markdown",
   "id": "cb19b52a",
   "metadata": {},
   "source": [
    "Such plots are called volcano plots."
   ]
  },
  {
   "cell_type": "markdown",
   "id": "44a5e925",
   "metadata": {},
   "source": [
    "## Leukocyte counts "
   ]
  },
  {
   "cell_type": "markdown",
   "id": "1eb6c897",
   "metadata": {},
   "source": [
    "![blood.jpg](attachment:blood.jpg)  \n",
    "\n",
    "Adapted from A. Rad and M. Häggström. CC-BY-SA 3.0 license"
   ]
  },
  {
   "cell_type": "markdown",
   "id": "5bccbef2",
   "metadata": {},
   "source": [
    "We are doing an experiment to see whether a COVID-19 infection changes the white blood cell counts in comparison to normal. \n",
    "From the literature (i.e. internet) we know that a \"normal\" whilte blood cell count is between 4000 and 11000 white blood cells per microliter. We measure this in 100 patients and 100 controls and note down the data in \"white blood cell counts per microliter\"  \n",
    "Another disease where we expect a difference is chronic lymphocytic leukemia (CLL), so we decide to also collect these data from 100 patients.  "
   ]
  },
  {
   "cell_type": "markdown",
   "id": "0a8851c1",
   "metadata": {},
   "source": [
    "Lets import these data:"
   ]
  },
  {
   "cell_type": "code",
   "execution_count": 9,
   "id": "466051fe",
   "metadata": {},
   "outputs": [
    {
     "name": "stdout",
     "output_type": "stream",
     "text": [
      "        healthy      COVID19          CLL\n",
      "0   8112.953628  7938.261511  7995.138663\n",
      "1   8049.767571  8815.331615  7169.552971\n",
      "2   8092.332735  7830.310038  6780.272875\n",
      "3   7498.168785  6240.226527  9962.335281\n",
      "4   7143.005306  7745.239515  7786.586473\n",
      "..          ...          ...          ...\n",
      "95  7034.384604  6599.861270  6572.275825\n",
      "96  7745.826977  8654.514650  8934.513929\n",
      "97  8604.575198  8732.430100  7879.404564\n",
      "98  7131.230127  7676.868854  7464.286189\n",
      "99  7734.212640  7591.721753  6862.094897\n",
      "\n",
      "[100 rows x 3 columns]\n"
     ]
    }
   ],
   "source": [
    "dat = pd.read_csv('https://raw.githubusercontent.com/BiAPoL/Bio-image_Analysis_with_Python/main/data/leukocyte_counts.csv')\n",
    "\n",
    "print(dat)"
   ]
  },
  {
   "cell_type": "markdown",
   "id": "99128b37",
   "metadata": {},
   "source": [
    "Lets first focus on COVID19 and the first step: Visualising the data and summary statistics"
   ]
  },
  {
   "cell_type": "code",
   "execution_count": 10,
   "id": "6cfb54e0",
   "metadata": {},
   "outputs": [
    {
     "data": {
      "text/plain": [
       "<matplotlib.lines.Line2D at 0x7fcdf0db5040>"
      ]
     },
     "execution_count": 10,
     "metadata": {},
     "output_type": "execute_result"
    },
    {
     "data": {
      "image/png": "[encoded data removed]",
      "text/plain": [
       "<Figure size 432x288 with 1 Axes>"
      ]
     },
     "metadata": {
      "needs_background": "light"
     },
     "output_type": "display_data"
    }
   ],
   "source": [
    "plt.hist(dat['healthy'],bins = 50,alpha=0.5)\n",
    "plt.hist(dat['COVID19'],bins = 50,alpha=0.5)\n",
    "plt.xlabel(\"value\")\n",
    "plt.ylabel(\"density\")\n",
    "plt.axvline(statistics.mean(dat['healthy']), color=\"blue\")\n",
    "plt.axvline(statistics.mean(dat['COVID19']), color=\"red\")"
   ]
  },
  {
   "cell_type": "markdown",
   "id": "2a58eb81",
   "metadata": {},
   "source": [
    "How are these data distributed?"
   ]
  },
  {
   "cell_type": "code",
   "execution_count": 11,
   "id": "d7affae2",
   "metadata": {},
   "outputs": [
    {
     "data": {
      "text/plain": [
       "count     100.000000\n",
       "mean     7536.429388\n",
       "std       615.775587\n",
       "min      6109.265314\n",
       "25%      7120.765598\n",
       "50%      7595.581039\n",
       "75%      7966.730934\n",
       "max      9042.361051\n",
       "Name: healthy, dtype: float64"
      ]
     },
     "execution_count": 11,
     "metadata": {},
     "output_type": "execute_result"
    }
   ],
   "source": [
    "dat[\"healthy\"].describe()"
   ]
  },
  {
   "cell_type": "code",
   "execution_count": 12,
   "id": "d0425bc1",
   "metadata": {},
   "outputs": [
    {
     "data": {
      "text/plain": [
       "count     100.000000\n",
       "mean     7605.989209\n",
       "std       841.092948\n",
       "min      5313.659358\n",
       "25%      6968.453179\n",
       "50%      7638.540803\n",
       "75%      8151.393516\n",
       "max      9652.651211\n",
       "Name: COVID19, dtype: float64"
      ]
     },
     "execution_count": 12,
     "metadata": {},
     "output_type": "execute_result"
    }
   ],
   "source": [
    "dat[\"COVID19\"].describe()"
   ]
  },
  {
   "cell_type": "markdown",
   "id": "9573fd77",
   "metadata": {},
   "source": [
    "Can we perform a t-test on these data?"
   ]
  },
  {
   "cell_type": "code",
   "execution_count": 13,
   "id": "4ea43604",
   "metadata": {},
   "outputs": [
    {
     "data": {
      "text/plain": [
       "Ttest_indResult(statistic=-0.6672986139650978, pvalue=0.5053583624156102)"
      ]
     },
     "execution_count": 13,
     "metadata": {},
     "output_type": "execute_result"
    }
   ],
   "source": [
    "st.ttest_ind(dat['healthy'],dat['COVID19'])"
   ]
  },
  {
   "cell_type": "markdown",
   "id": "141e544c",
   "metadata": {},
   "source": [
    "How do you interpret this result?  \n",
    "Were you allowed to perform a t-test in the first place?   \n",
    "If yes, why? If not, why not? What would be an alternative?\n"
   ]
  },
  {
   "cell_type": "markdown",
   "id": "184c5f61",
   "metadata": {},
   "source": [
    "Is there a difference in Leukocyte counts in chronic lymphocytic leukemia? \n",
    "\n",
    "For the COVID cases you are still unsure, whether you had to reject H0, because you were just not looking at enough patients. Therefore you decide on a little simulation experiment: If the effect size and distributions were true, how many patients and controls would you estimate to look at for it to become significant with a significance level of alpha = 0.05?   "
   ]
  }
 ],
 "metadata": {
  "kernelspec": {
   "display_name": "Python 3 (ipykernel)",
   "language": "python",
   "name": "python3"
  },
  "language_info": {
   "codemirror_mode": {
    "name": "ipython",
    "version": 3
   },
   "file_extension": ".py",
   "mimetype": "text/x-python",
   "name": "python",
   "nbconvert_exporter": "python",
   "pygments_lexer": "ipython3",
   "version": "3.9.5"
  }
 },
 "nbformat": 4,
 "nbformat_minor": 5
}
