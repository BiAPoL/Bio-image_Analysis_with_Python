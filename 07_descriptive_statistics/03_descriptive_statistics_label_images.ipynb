{
 "cells": [
  {
   "cell_type": "markdown",
   "metadata": {},
   "source": [
    "# Descriptive statistics of labeled images\n",
    "Using [pandas](https://pandas.pydata.org/) and [numpy](https://numpy.org), we can do basic descriptive statistics. Before we start, we derive some measurements from an labeled image."
   ]
  },
  {
   "cell_type": "code",
   "execution_count": 1,
   "metadata": {},
   "outputs": [],
   "source": [
    "import pandas as pd\n",
    "import numpy as np\n",
    "from skimage.io import imread, imshow\n",
    "from napari_segment_blobs_and_things_with_membranes import gauss_otsu_labeling\n",
    "from skimage.measure import regionprops_table"
   ]
  },
  {
   "cell_type": "markdown",
   "metadata": {},
   "source": [
    "We load the image using [scikit-image's `imread`](https://scikit-image.org/docs/dev/api/skimage.io.html#skimage.io.imread) and segment it using [Gauss-Otsu-Labeling](Image_segmentation.Gauss-Otsu-Labeling). "
   ]
  },
  {
   "cell_type": "code",
   "execution_count": 2,
   "metadata": {},
   "outputs": [
    {
     "name": "stderr",
     "output_type": "stream",
     "text": [
      "C:\\Users\\rober\\miniconda3\\envs\\bio_39\\lib\\site-packages\\skimage\\io\\_plugins\\matplotlib_plugin.py:150: UserWarning: Low image data range; displaying image with stretched contrast.\n",
      "  lo, hi, cmap = _get_display_range(image)\n"
     ]
    },
    {
     "data": {
      "text/plain": [
       "<matplotlib.image.AxesImage at 0x1c4d02a6d00>"
      ]
     },
     "execution_count": 2,
     "metadata": {},
     "output_type": "execute_result"
    },
    {
     "data": {
      "image/png": "[encoded data removed]",
      "text/plain": [
       "<Figure size 432x288 with 2 Axes>"
      ]
     },
     "metadata": {
      "needs_background": "light"
     },
     "output_type": "display_data"
    }
   ],
   "source": [
    "image = imread('../data/blobs.tif')\n",
    "labels = gauss_otsu_labeling(image)\n",
    "imshow(labels)"
   ]
  },
  {
   "cell_type": "markdown",
   "metadata": {},
   "source": [
    "From the labeled image we can derive descriptive intensity, size and shape statistics using [scikit-image's `regionprops_table`](https://scikit-image.org/docs/dev/api/skimage.measure.html#skimage.measure.regionprops_table). \n",
    "For post-processing the measurements, we turn them into a [pandas Dataframe](https://pandas.pydata.org/docs/reference/api/pandas.DataFrame.html)."
   ]
  },
  {
   "cell_type": "code",
   "execution_count": 3,
   "metadata": {},
   "outputs": [
    {
     "data": {
      "text/html": [
       "<div>\n",
       "<style scoped>\n",
       "    .dataframe tbody tr th:only-of-type {\n",
       "        vertical-align: middle;\n",
       "    }\n",
       "\n",
       "    .dataframe tbody tr th {\n",
       "        vertical-align: top;\n",
       "    }\n",
       "\n",
       "    .dataframe thead th {\n",
       "        text-align: right;\n",
       "    }\n",
       "</style>\n",
       "<table border=\"1\" class=\"dataframe\">\n",
       "  <thead>\n",
       "    <tr style=\"text-align: right;\">\n",
       "      <th></th>\n",
       "      <th>area</th>\n",
       "      <th>minor_axis_length</th>\n",
       "      <th>major_axis_length</th>\n",
       "      <th>eccentricity</th>\n",
       "      <th>feret_diameter_max</th>\n",
       "    </tr>\n",
       "  </thead>\n",
       "  <tbody>\n",
       "    <tr>\n",
       "      <th>0</th>\n",
       "      <td>422</td>\n",
       "      <td>16.488550</td>\n",
       "      <td>34.566789</td>\n",
       "      <td>0.878900</td>\n",
       "      <td>35.227830</td>\n",
       "    </tr>\n",
       "    <tr>\n",
       "      <th>1</th>\n",
       "      <td>182</td>\n",
       "      <td>11.736074</td>\n",
       "      <td>20.802697</td>\n",
       "      <td>0.825665</td>\n",
       "      <td>21.377558</td>\n",
       "    </tr>\n",
       "    <tr>\n",
       "      <th>2</th>\n",
       "      <td>661</td>\n",
       "      <td>28.409502</td>\n",
       "      <td>30.208433</td>\n",
       "      <td>0.339934</td>\n",
       "      <td>32.756679</td>\n",
       "    </tr>\n",
       "    <tr>\n",
       "      <th>3</th>\n",
       "      <td>437</td>\n",
       "      <td>23.143996</td>\n",
       "      <td>24.606130</td>\n",
       "      <td>0.339576</td>\n",
       "      <td>26.925824</td>\n",
       "    </tr>\n",
       "    <tr>\n",
       "      <th>4</th>\n",
       "      <td>476</td>\n",
       "      <td>19.852882</td>\n",
       "      <td>31.075106</td>\n",
       "      <td>0.769317</td>\n",
       "      <td>31.384710</td>\n",
       "    </tr>\n",
       "    <tr>\n",
       "      <th>...</th>\n",
       "      <td>...</td>\n",
       "      <td>...</td>\n",
       "      <td>...</td>\n",
       "      <td>...</td>\n",
       "      <td>...</td>\n",
       "    </tr>\n",
       "    <tr>\n",
       "      <th>56</th>\n",
       "      <td>211</td>\n",
       "      <td>14.522762</td>\n",
       "      <td>18.489138</td>\n",
       "      <td>0.618893</td>\n",
       "      <td>18.973666</td>\n",
       "    </tr>\n",
       "    <tr>\n",
       "      <th>57</th>\n",
       "      <td>78</td>\n",
       "      <td>6.028638</td>\n",
       "      <td>17.579799</td>\n",
       "      <td>0.939361</td>\n",
       "      <td>18.027756</td>\n",
       "    </tr>\n",
       "    <tr>\n",
       "      <th>58</th>\n",
       "      <td>86</td>\n",
       "      <td>5.426871</td>\n",
       "      <td>21.261427</td>\n",
       "      <td>0.966876</td>\n",
       "      <td>22.000000</td>\n",
       "    </tr>\n",
       "    <tr>\n",
       "      <th>59</th>\n",
       "      <td>51</td>\n",
       "      <td>5.032414</td>\n",
       "      <td>13.742079</td>\n",
       "      <td>0.930534</td>\n",
       "      <td>14.035669</td>\n",
       "    </tr>\n",
       "    <tr>\n",
       "      <th>60</th>\n",
       "      <td>46</td>\n",
       "      <td>3.803982</td>\n",
       "      <td>15.948714</td>\n",
       "      <td>0.971139</td>\n",
       "      <td>15.033296</td>\n",
       "    </tr>\n",
       "  </tbody>\n",
       "</table>\n",
       "<p>61 rows × 5 columns</p>\n",
       "</div>"
      ],
      "text/plain": [
       "    area  minor_axis_length  major_axis_length  eccentricity  \\\n",
       "0    422          16.488550          34.566789      0.878900   \n",
       "1    182          11.736074          20.802697      0.825665   \n",
       "2    661          28.409502          30.208433      0.339934   \n",
       "3    437          23.143996          24.606130      0.339576   \n",
       "4    476          19.852882          31.075106      0.769317   \n",
       "..   ...                ...                ...           ...   \n",
       "56   211          14.522762          18.489138      0.618893   \n",
       "57    78           6.028638          17.579799      0.939361   \n",
       "58    86           5.426871          21.261427      0.966876   \n",
       "59    51           5.032414          13.742079      0.930534   \n",
       "60    46           3.803982          15.948714      0.971139   \n",
       "\n",
       "    feret_diameter_max  \n",
       "0            35.227830  \n",
       "1            21.377558  \n",
       "2            32.756679  \n",
       "3            26.925824  \n",
       "4            31.384710  \n",
       "..                 ...  \n",
       "56           18.973666  \n",
       "57           18.027756  \n",
       "58           22.000000  \n",
       "59           14.035669  \n",
       "60           15.033296  \n",
       "\n",
       "[61 rows x 5 columns]"
      ]
     },
     "execution_count": 3,
     "metadata": {},
     "output_type": "execute_result"
    }
   ],
   "source": [
    "table = regionprops_table(labels, image, properties=['area', 'minor_axis_length', 'major_axis_length', 'eccentricity', 'feret_diameter_max'])\n",
    "data_frame = pd.DataFrame(table)\n",
    "data_frame"
   ]
  },
  {
   "cell_type": "markdown",
   "metadata": {},
   "source": [
    "You can _take_ a column out of the DataFrame. In this context it works like a Python dictionary."
   ]
  },
  {
   "cell_type": "code",
   "execution_count": 4,
   "metadata": {},
   "outputs": [
    {
     "data": {
      "text/plain": [
       "0     422\n",
       "1     182\n",
       "2     661\n",
       "3     437\n",
       "4     476\n",
       "     ... \n",
       "56    211\n",
       "57     78\n",
       "58     86\n",
       "59     51\n",
       "60     46\n",
       "Name: area, Length: 61, dtype: int32"
      ]
     },
     "execution_count": 4,
     "metadata": {},
     "output_type": "execute_result"
    }
   ],
   "source": [
    "data_frame[\"area\"]"
   ]
  },
  {
   "cell_type": "markdown",
   "metadata": {},
   "source": [
    "Even though this data structure appears more than just a vector, numpy is capable of applying basic descriptive statistics functions:"
   ]
  },
  {
   "cell_type": "code",
   "execution_count": 5,
   "metadata": {},
   "outputs": [
    {
     "data": {
      "text/plain": [
       "358.42622950819674"
      ]
     },
     "execution_count": 5,
     "metadata": {},
     "output_type": "execute_result"
    }
   ],
   "source": [
    "np.mean(data_frame[\"area\"])"
   ]
  },
  {
   "cell_type": "code",
   "execution_count": 6,
   "metadata": {},
   "outputs": [
    {
     "data": {
      "text/plain": [
       "5"
      ]
     },
     "execution_count": 6,
     "metadata": {},
     "output_type": "execute_result"
    }
   ],
   "source": [
    "np.min(data_frame[\"area\"])"
   ]
  },
  {
   "cell_type": "code",
   "execution_count": 7,
   "metadata": {},
   "outputs": [
    {
     "data": {
      "text/plain": [
       "899"
      ]
     },
     "execution_count": 7,
     "metadata": {},
     "output_type": "execute_result"
    }
   ],
   "source": [
    "np.max(data_frame[\"area\"])"
   ]
  },
  {
   "cell_type": "markdown",
   "metadata": {},
   "source": [
    "Individual cells of the DataFrame can be accessed like this:"
   ]
  },
  {
   "cell_type": "code",
   "execution_count": 8,
   "metadata": {},
   "outputs": [
    {
     "data": {
      "text/plain": [
       "422"
      ]
     },
     "execution_count": 8,
     "metadata": {},
     "output_type": "execute_result"
    }
   ],
   "source": [
    "data_frame[\"area\"][0]"
   ]
  },
  {
   "cell_type": "markdown",
   "metadata": {},
   "source": [
    "For loops can also iterate over table columns like this:"
   ]
  },
  {
   "cell_type": "code",
   "execution_count": 9,
   "metadata": {},
   "outputs": [
    {
     "name": "stdout",
     "output_type": "stream",
     "text": [
      "422\n",
      "182\n",
      "661\n",
      "437\n",
      "476\n",
      "277\n",
      "259\n",
      "219\n",
      "67\n",
      "19\n",
      "486\n",
      "630\n",
      "221\n",
      "78\n",
      "449\n",
      "516\n",
      "390\n",
      "419\n",
      "267\n",
      "353\n",
      "151\n",
      "400\n",
      "426\n",
      "246\n",
      "503\n",
      "278\n",
      "681\n",
      "176\n",
      "358\n",
      "544\n",
      "597\n",
      "181\n",
      "629\n",
      "596\n",
      "5\n",
      "263\n",
      "899\n",
      "476\n",
      "233\n",
      "164\n",
      "394\n",
      "411\n",
      "235\n",
      "375\n",
      "654\n",
      "376\n",
      "579\n",
      "64\n",
      "161\n",
      "457\n",
      "625\n",
      "535\n",
      "205\n",
      "562\n",
      "845\n",
      "280\n",
      "211\n",
      "78\n",
      "86\n",
      "51\n",
      "46\n"
     ]
    }
   ],
   "source": [
    "for area_value in data_frame[\"area\"]:\n",
    "    print(area_value)"
   ]
  },
  {
   "cell_type": "markdown",
   "metadata": {},
   "source": [
    "## Summary statistics with Pandas\n",
    "Pandas also allows you to visualize summary statistics of measurement using [the `describe()` function](https://pandas.pydata.org/docs/reference/api/pandas.DataFrame.describe.html)."
   ]
  },
  {
   "cell_type": "code",
   "execution_count": 10,
   "metadata": {},
   "outputs": [
    {
     "data": {
      "text/html": [
       "<div>\n",
       "<style scoped>\n",
       "    .dataframe tbody tr th:only-of-type {\n",
       "        vertical-align: middle;\n",
       "    }\n",
       "\n",
       "    .dataframe tbody tr th {\n",
       "        vertical-align: top;\n",
       "    }\n",
       "\n",
       "    .dataframe thead th {\n",
       "        text-align: right;\n",
       "    }\n",
       "</style>\n",
       "<table border=\"1\" class=\"dataframe\">\n",
       "  <thead>\n",
       "    <tr style=\"text-align: right;\">\n",
       "      <th></th>\n",
       "      <th>area</th>\n",
       "      <th>minor_axis_length</th>\n",
       "      <th>major_axis_length</th>\n",
       "      <th>eccentricity</th>\n",
       "      <th>feret_diameter_max</th>\n",
       "    </tr>\n",
       "  </thead>\n",
       "  <tbody>\n",
       "    <tr>\n",
       "      <th>count</th>\n",
       "      <td>61.000000</td>\n",
       "      <td>61.000000</td>\n",
       "      <td>61.000000</td>\n",
       "      <td>61.000000</td>\n",
       "      <td>61.000000</td>\n",
       "    </tr>\n",
       "    <tr>\n",
       "      <th>mean</th>\n",
       "      <td>358.426230</td>\n",
       "      <td>17.127032</td>\n",
       "      <td>24.796851</td>\n",
       "      <td>0.657902</td>\n",
       "      <td>25.323368</td>\n",
       "    </tr>\n",
       "    <tr>\n",
       "      <th>std</th>\n",
       "      <td>210.446942</td>\n",
       "      <td>6.587838</td>\n",
       "      <td>9.074265</td>\n",
       "      <td>0.189669</td>\n",
       "      <td>8.732456</td>\n",
       "    </tr>\n",
       "    <tr>\n",
       "      <th>min</th>\n",
       "      <td>5.000000</td>\n",
       "      <td>1.788854</td>\n",
       "      <td>3.098387</td>\n",
       "      <td>0.312788</td>\n",
       "      <td>3.162278</td>\n",
       "    </tr>\n",
       "    <tr>\n",
       "      <th>25%</th>\n",
       "      <td>205.000000</td>\n",
       "      <td>14.319400</td>\n",
       "      <td>18.630719</td>\n",
       "      <td>0.503830</td>\n",
       "      <td>19.313208</td>\n",
       "    </tr>\n",
       "    <tr>\n",
       "      <th>50%</th>\n",
       "      <td>375.000000</td>\n",
       "      <td>17.523565</td>\n",
       "      <td>23.768981</td>\n",
       "      <td>0.645844</td>\n",
       "      <td>24.698178</td>\n",
       "    </tr>\n",
       "    <tr>\n",
       "      <th>75%</th>\n",
       "      <td>503.000000</td>\n",
       "      <td>21.753901</td>\n",
       "      <td>30.208433</td>\n",
       "      <td>0.825665</td>\n",
       "      <td>31.384710</td>\n",
       "    </tr>\n",
       "    <tr>\n",
       "      <th>max</th>\n",
       "      <td>899.000000</td>\n",
       "      <td>28.409502</td>\n",
       "      <td>54.500296</td>\n",
       "      <td>0.984887</td>\n",
       "      <td>52.201533</td>\n",
       "    </tr>\n",
       "  </tbody>\n",
       "</table>\n",
       "</div>"
      ],
      "text/plain": [
       "             area  minor_axis_length  major_axis_length  eccentricity  \\\n",
       "count   61.000000          61.000000          61.000000     61.000000   \n",
       "mean   358.426230          17.127032          24.796851      0.657902   \n",
       "std    210.446942           6.587838           9.074265      0.189669   \n",
       "min      5.000000           1.788854           3.098387      0.312788   \n",
       "25%    205.000000          14.319400          18.630719      0.503830   \n",
       "50%    375.000000          17.523565          23.768981      0.645844   \n",
       "75%    503.000000          21.753901          30.208433      0.825665   \n",
       "max    899.000000          28.409502          54.500296      0.984887   \n",
       "\n",
       "       feret_diameter_max  \n",
       "count           61.000000  \n",
       "mean            25.323368  \n",
       "std              8.732456  \n",
       "min              3.162278  \n",
       "25%             19.313208  \n",
       "50%             24.698178  \n",
       "75%             31.384710  \n",
       "max             52.201533  "
      ]
     },
     "execution_count": 10,
     "metadata": {},
     "output_type": "execute_result"
    }
   ],
   "source": [
    "data_frame.describe()"
   ]
  },
  {
   "cell_type": "markdown",
   "metadata": {},
   "source": [
    "## Correlation matrix\n",
    "If you want to learn which parameters are correlated with other parameters, you can visualize that using [pandas's `corr()`](https://pandas.pydata.org/docs/reference/api/pandas.DataFrame.corr.html)."
   ]
  },
  {
   "cell_type": "code",
   "execution_count": 11,
   "metadata": {},
   "outputs": [
    {
     "data": {
      "text/html": [
       "<div>\n",
       "<style scoped>\n",
       "    .dataframe tbody tr th:only-of-type {\n",
       "        vertical-align: middle;\n",
       "    }\n",
       "\n",
       "    .dataframe tbody tr th {\n",
       "        vertical-align: top;\n",
       "    }\n",
       "\n",
       "    .dataframe thead th {\n",
       "        text-align: right;\n",
       "    }\n",
       "</style>\n",
       "<table border=\"1\" class=\"dataframe\">\n",
       "  <thead>\n",
       "    <tr style=\"text-align: right;\">\n",
       "      <th></th>\n",
       "      <th>area</th>\n",
       "      <th>minor_axis_length</th>\n",
       "      <th>major_axis_length</th>\n",
       "      <th>eccentricity</th>\n",
       "      <th>feret_diameter_max</th>\n",
       "    </tr>\n",
       "  </thead>\n",
       "  <tbody>\n",
       "    <tr>\n",
       "      <th>area</th>\n",
       "      <td>1.000000</td>\n",
       "      <td>0.890649</td>\n",
       "      <td>0.895282</td>\n",
       "      <td>-0.192147</td>\n",
       "      <td>0.916652</td>\n",
       "    </tr>\n",
       "    <tr>\n",
       "      <th>minor_axis_length</th>\n",
       "      <td>0.890649</td>\n",
       "      <td>1.000000</td>\n",
       "      <td>0.664507</td>\n",
       "      <td>-0.566486</td>\n",
       "      <td>0.716706</td>\n",
       "    </tr>\n",
       "    <tr>\n",
       "      <th>major_axis_length</th>\n",
       "      <td>0.895282</td>\n",
       "      <td>0.664507</td>\n",
       "      <td>1.000000</td>\n",
       "      <td>0.168454</td>\n",
       "      <td>0.995196</td>\n",
       "    </tr>\n",
       "    <tr>\n",
       "      <th>eccentricity</th>\n",
       "      <td>-0.192147</td>\n",
       "      <td>-0.566486</td>\n",
       "      <td>0.168454</td>\n",
       "      <td>1.000000</td>\n",
       "      <td>0.103529</td>\n",
       "    </tr>\n",
       "    <tr>\n",
       "      <th>feret_diameter_max</th>\n",
       "      <td>0.916652</td>\n",
       "      <td>0.716706</td>\n",
       "      <td>0.995196</td>\n",
       "      <td>0.103529</td>\n",
       "      <td>1.000000</td>\n",
       "    </tr>\n",
       "  </tbody>\n",
       "</table>\n",
       "</div>"
      ],
      "text/plain": [
       "                        area  minor_axis_length  major_axis_length  \\\n",
       "area                1.000000           0.890649           0.895282   \n",
       "minor_axis_length   0.890649           1.000000           0.664507   \n",
       "major_axis_length   0.895282           0.664507           1.000000   \n",
       "eccentricity       -0.192147          -0.566486           0.168454   \n",
       "feret_diameter_max  0.916652           0.716706           0.995196   \n",
       "\n",
       "                    eccentricity  feret_diameter_max  \n",
       "area                   -0.192147            0.916652  \n",
       "minor_axis_length      -0.566486            0.716706  \n",
       "major_axis_length       0.168454            0.995196  \n",
       "eccentricity            1.000000            0.103529  \n",
       "feret_diameter_max      0.103529            1.000000  "
      ]
     },
     "execution_count": 11,
     "metadata": {},
     "output_type": "execute_result"
    }
   ],
   "source": [
    "data_frame.corr()"
   ]
  },
  {
   "cell_type": "markdown",
   "metadata": {},
   "source": [
    "## Exercise\n",
    "Process the banana dataset, e.g. using a for-loop that goes through the folder `../../data/banana/` and processes all the images. Segment all objects in the banana slice images and print out the larges area found for each slice. Collect these values in a list and visualize it as pandas DataFrame."
   ]
  },
  {
   "cell_type": "code",
   "execution_count": null,
   "metadata": {},
   "outputs": [],
   "source": []
  }
 ],
 "metadata": {
  "kernelspec": {
   "display_name": "Python 3 (ipykernel)",
   "language": "python",
   "name": "python3"
  },
  "language_info": {
   "codemirror_mode": {
    "name": "ipython",
    "version": 3
   },
   "file_extension": ".py",
   "mimetype": "text/x-python",
   "name": "python",
   "nbconvert_exporter": "python",
   "pygments_lexer": "ipython3",
   "version": "3.9.7"
  },
  "toc": {
   "base_numbering": 1,
   "nav_menu": {},
   "number_sections": false,
   "sideBar": false,
   "skip_h1_title": false,
   "title_cell": "Table of Contents",
   "title_sidebar": "Contents",
   "toc_cell": false,
   "toc_position": {},
   "toc_section_display": false,
   "toc_window_display": false
  }
 },
 "nbformat": 4,
 "nbformat_minor": 4
}
