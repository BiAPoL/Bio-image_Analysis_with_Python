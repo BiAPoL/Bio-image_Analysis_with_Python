{
 "cells": [
  {
   "cell_type": "markdown",
   "id": "63d5b8f0",
   "metadata": {},
   "source": [
    "# Testing statistics"
   ]
  },
  {
   "cell_type": "code",
   "execution_count": 1,
   "id": "a631868a",
   "metadata": {},
   "outputs": [],
   "source": [
    "import numpy as np\n",
    "import seaborn as sns\n",
    "import scipy.stats as st\n",
    "import matplotlib.pyplot as plt\n",
    "import matplotlib.mlab as mlab\n",
    "import pandas as pd\n",
    "import statsmodels.api as sm\n",
    "import statistics\n",
    "import os \n",
    "from scipy.stats import norm"
   ]
  },
  {
   "cell_type": "markdown",
   "id": "a989495b",
   "metadata": {},
   "source": [
    "The irreproducibility of p-values"
   ]
  },
  {
   "cell_type": "markdown",
   "id": "623bd11b",
   "metadata": {},
   "source": [
    "First, lets simulate data. We want to have two normal distributions, which are supposed to be borderline significantly different with a significance level of alpha = 0.05  "
   ]
  },
  {
   "cell_type": "code",
   "execution_count": 10,
   "id": "fa2e23ac",
   "metadata": {},
   "outputs": [
    {
     "data": {
      "text/plain": [
       "Ttest_indResult(statistic=-1.5562112636446432, pvalue=0.13706508189463618)"
      ]
     },
     "execution_count": 10,
     "metadata": {},
     "output_type": "execute_result"
    },
    {
     "data": {
      "image/png": "[encoded data removed]",
      "text/plain": [
       "<Figure size 432x288 with 1 Axes>"
      ]
     },
     "metadata": {
      "needs_background": "light"
     },
     "output_type": "display_data"
    }
   ],
   "source": [
    "mean1 = 0\n",
    "mean2 = 10\n",
    "sd= 10 \n",
    "n=10\n",
    "\n",
    "s1 = np.random.normal(mean1, sd,n)\n",
    "s2 = np.random.normal(mean2, sd,n)\n",
    "\n",
    "plt.hist(s1,alpha=0.5)\n",
    "plt.hist(s2,alpha=0.5)\n",
    "plt.xlabel(\"value\")\n",
    "plt.ylabel(\"density\")\n",
    "plt.axvline(statistics.mean(s1), color=\"blue\")\n",
    "plt.axvline(statistics.mean(s2), color=\"red\")\n",
    "\n",
    "st.ttest_ind(s1,s2)"
   ]
  },
  {
   "cell_type": "code",
   "execution_count": 13,
   "id": "76d898d0",
   "metadata": {},
   "outputs": [
    {
     "data": {
      "text/plain": [
       "Text(0.5, 0, '-log10(p)')"
      ]
     },
     "execution_count": 13,
     "metadata": {},
     "output_type": "execute_result"
    },
    {
     "data": {
      "image/png": "[encoded data removed]",
      "text/plain": [
       "<Figure size 432x288 with 1 Axes>"
      ]
     },
     "metadata": {
      "needs_background": "light"
     },
     "output_type": "display_data"
    }
   ],
   "source": [
    "pvals = []\n",
    "\n",
    "for _ in range (1000):\n",
    "    np.random.seed()\n",
    "    samp1 = np.random.normal(mean1, sd, n)\n",
    "    samp2 = np.random.normal(mean2, sd, n)\n",
    "    new_test = st.ttest_ind(samp1,samp2) \n",
    "    pvals.append(new_test[1])\n",
    "    \n",
    "#Lets plot this\n",
    "plt.hist(-np.log10(pvals),bins=50)\n",
    "plt.axvline(-np.log10(0.05), color=\"black\")\n",
    "plt.xlabel(\"-log10(p)\")\n",
    "\n"
   ]
  },
  {
   "cell_type": "code",
   "execution_count": null,
   "id": "de89cd92",
   "metadata": {},
   "outputs": [],
   "source": [
    "We are indeed at the significance level most of the time, but at the same time we would frquently call our results \"not significant\" and sometimes \"highly significant\".  \n",
    "Does this become better with increased sample size? "
   ]
  },
  {
   "cell_type": "code",
   "execution_count": 23,
   "id": "06554dfd",
   "metadata": {},
   "outputs": [
    {
     "data": {
      "text/plain": [
       "<matplotlib.lines.Line2D at 0x7fe7d0b46490>"
      ]
     },
     "execution_count": 23,
     "metadata": {},
     "output_type": "execute_result"
    },
    {
     "data": {
      "image/png": "[encoded data removed]",
      "text/plain": [
       "<Figure size 432x288 with 1 Axes>"
      ]
     },
     "metadata": {
      "needs_background": "light"
     },
     "output_type": "display_data"
    }
   ],
   "source": [
    "n=100\n",
    "\n",
    "s1 = np.random.normal(mean1, sd,n)\n",
    "s2 = np.random.normal(mean2, sd,n)\n",
    "\n",
    "plt.hist(s1,alpha=0.5)\n",
    "plt.hist(s2,alpha=0.5)\n",
    "plt.xlabel(\"value\")\n",
    "plt.ylabel(\"density\")\n",
    "plt.axvline(statistics.mean(s1), color=\"blue\")\n",
    "plt.axvline(statistics.mean(s2), color=\"red\")"
   ]
  },
  {
   "cell_type": "code",
   "execution_count": 24,
   "id": "ae1e8875",
   "metadata": {},
   "outputs": [
    {
     "data": {
      "text/plain": [
       "Text(0.5, 0, '-log10(p)')"
      ]
     },
     "execution_count": 24,
     "metadata": {},
     "output_type": "execute_result"
    },
    {
     "data": {
      "image/png": "[encoded data removed]",
      "text/plain": [
       "<Figure size 432x288 with 1 Axes>"
      ]
     },
     "metadata": {
      "needs_background": "light"
     },
     "output_type": "display_data"
    }
   ],
   "source": [
    "pvals = []\n",
    "\n",
    "for _ in range (1000):\n",
    "    np.random.seed()\n",
    "    samp1 = np.random.normal(mean1, sd, n)\n",
    "    samp2 = np.random.normal(mean2, sd, n)\n",
    "    new_test = st.ttest_ind(samp1,samp2) \n",
    "    pvals.append(new_test[1])\n",
    "\n",
    "    \n",
    "    \n",
    "#Lets plot this\n",
    "plt.hist(-np.log10(pvals),bins=50)\n",
    "plt.axvline(-np.log10(0.05), color=\"black\")\n",
    "plt.xlabel(\"-log10(p)\")"
   ]
  },
  {
   "cell_type": "code",
   "execution_count": 25,
   "id": "c75e4711",
   "metadata": {
    "scrolled": true
   },
   "outputs": [
    {
     "name": "stdout",
     "output_type": "stream",
     "text": [
      "          diff     pvals\n",
      "0    12.384437  0.002454\n",
      "1    13.940600  0.000106\n",
      "2    13.475690  0.011483\n",
      "3     5.183612  0.184073\n",
      "4     8.479893  0.043755\n",
      "..         ...       ...\n",
      "995  10.272366  0.047794\n",
      "996  11.707786  0.010043\n",
      "997  11.560201  0.006008\n",
      "998   8.943189  0.034543\n",
      "999   8.055149  0.027501\n",
      "\n",
      "[1000 rows x 2 columns]\n"
     ]
    },
    {
     "data": {
      "text/plain": [
       "<matplotlib.lines.Line2D at 0x7fe7d0d013a0>"
      ]
     },
     "execution_count": 25,
     "metadata": {},
     "output_type": "execute_result"
    },
    {
     "data": {
      "image/png": "[encoded data removed]",
      "text/plain": [
       "<Figure size 432x288 with 1 Axes>"
      ]
     },
     "metadata": {
      "needs_background": "light"
     },
     "output_type": "display_data"
    }
   ],
   "source": [
    "n=10\n",
    "\n",
    "pvals = []\n",
    "diffs = []\n",
    "\n",
    "for _ in range (1000):\n",
    "    np.random.seed()\n",
    "    samp1 = np.random.normal(mean1, sd, n)\n",
    "    samp2 = np.random.normal(mean2, sd, n)\n",
    "    new_test = st.ttest_ind(samp1,samp2) \n",
    "    diff = statistics.mean(samp2)-statistics.mean(samp1)\n",
    "    diffs.append(diff)\n",
    "    pvals.append(new_test[1])\n",
    "\n",
    "df = pd.DataFrame({'diff': diffs, 'pvals': pvals})\n",
    "\n",
    "print(df)\n",
    "    \n",
    "#Lets plot this\n",
    "plt.scatter(df[\"diff\"], -np.log10(df[\"pvals\"]),  alpha=0.5)\n",
    "plt.xlabel(\"difference of the mean\")\n",
    "plt.ylabel(\"-log10(p)\")\n",
    "plt.axhline(-np.log10(0.05), color=\"grey\")\n",
    "plt.axvline(0, color=\"grey\")\n",
    "\n",
    "\n"
   ]
  },
  {
   "cell_type": "code",
   "execution_count": 28,
   "id": "10a0b0c8",
   "metadata": {},
   "outputs": [
    {
     "data": {
      "text/plain": [
       "Text(0.5, 0, 'diffs')"
      ]
     },
     "execution_count": 28,
     "metadata": {},
     "output_type": "execute_result"
    },
    {
     "data": {
      "image/png": "[encoded data removed]",
      "text/plain": [
       "<Figure size 432x288 with 1 Axes>"
      ]
     },
     "metadata": {
      "needs_background": "light"
     },
     "output_type": "display_data"
    }
   ],
   "source": [
    "#Lets plot this\n",
    "plt.hist(diffs,bins=50)\n",
    "plt.axvline(0, color=\"black\")\n",
    "plt.xlabel(\"diffs\")"
   ]
  },
  {
   "cell_type": "markdown",
   "id": "93698a0b",
   "metadata": {},
   "source": [
    "## Leukocyte counts \n",
    "\n",
    "![blood.jpg](attachment:blood.jpg)  \n",
    "\n",
    "Adapted from A. Rad and M. Häggström. CC-BY-SA 3.0 license\n",
    "\n",
    "We are doing an experiment to see whether a COVID-19 infection changes the white blood cell counts in comparison to normal. \n",
    "From the literature (i.e. internet) we know that a \"normal\" whilte blood cell count is between 4000 and 11000 white blood cells per microliter. We measure this in 100 patients and 100 controls and note down the data in \"white blood cell counts per microliter\"  \n",
    "Another disease where we expect a difference is chronic lymphocytic leukemia (CLL), so we decide to also collect these data from 100 patients.  "
   ]
  },
  {
   "cell_type": "code",
   "execution_count": 29,
   "id": "5b1f2fec",
   "metadata": {},
   "outputs": [
    {
     "name": "stdout",
     "output_type": "stream",
     "text": [
      "        healthy      COVID19          CLL\n",
      "0   8112.953628  7938.261511  7995.138663\n",
      "1   8049.767571  8815.331615  7169.552971\n",
      "2   8092.332735  7830.310038  6780.272875\n",
      "3   7498.168785  6240.226527  9962.335281\n",
      "4   7143.005306  7745.239515  7786.586473\n",
      "..          ...          ...          ...\n",
      "95  7034.384604  6599.861270  6572.275825\n",
      "96  7745.826977  8654.514650  8934.513929\n",
      "97  8604.575198  8732.430100  7879.404564\n",
      "98  7131.230127  7676.868854  7464.286189\n",
      "99  7734.212640  7591.721753  6862.094897\n",
      "\n",
      "[100 rows x 3 columns]\n"
     ]
    }
   ],
   "source": [
    "dat = pd.read_csv('https://raw.githubusercontent.com/BiAPoL/Bio-image_Analysis_with_Python/main/biostatistics/data/leukocyte_counts.csv')\n",
    "\n",
    "print(dat)"
   ]
  },
  {
   "cell_type": "code",
   "execution_count": 30,
   "id": "5a2db9ab",
   "metadata": {},
   "outputs": [
    {
     "data": {
      "text/plain": [
       "<matplotlib.lines.Line2D at 0x7fe7b0c14130>"
      ]
     },
     "execution_count": 30,
     "metadata": {},
     "output_type": "execute_result"
    },
    {
     "data": {
      "image/png": "[encoded data removed]",
      "text/plain": [
       "<Figure size 432x288 with 1 Axes>"
      ]
     },
     "metadata": {
      "needs_background": "light"
     },
     "output_type": "display_data"
    }
   ],
   "source": [
    "plt.hist(dat['healthy'],bins = 50,alpha=0.5)\n",
    "plt.hist(dat['COVID19'],bins = 50,alpha=0.5)\n",
    "plt.xlabel(\"value\")\n",
    "plt.ylabel(\"density\")\n",
    "plt.axvline(statistics.mean(dat['healthy']), color=\"blue\")\n",
    "plt.axvline(statistics.mean(dat['COVID19']), color=\"red\")"
   ]
  },
  {
   "cell_type": "code",
   "execution_count": 31,
   "id": "90ac9b4d",
   "metadata": {},
   "outputs": [
    {
     "data": {
      "text/plain": [
       "count     100.000000\n",
       "mean     7536.429388\n",
       "std       615.775587\n",
       "min      6109.265314\n",
       "25%      7120.765598\n",
       "50%      7595.581039\n",
       "75%      7966.730934\n",
       "max      9042.361051\n",
       "Name: healthy, dtype: float64"
      ]
     },
     "execution_count": 31,
     "metadata": {},
     "output_type": "execute_result"
    }
   ],
   "source": [
    "dat[\"healthy\"].describe()"
   ]
  },
  {
   "cell_type": "code",
   "execution_count": 32,
   "id": "bb691d5f",
   "metadata": {},
   "outputs": [
    {
     "data": {
      "text/plain": [
       "count     100.000000\n",
       "mean     7605.989209\n",
       "std       841.092948\n",
       "min      5313.659358\n",
       "25%      6968.453179\n",
       "50%      7638.540803\n",
       "75%      8151.393516\n",
       "max      9652.651211\n",
       "Name: COVID19, dtype: float64"
      ]
     },
     "execution_count": 32,
     "metadata": {},
     "output_type": "execute_result"
    }
   ],
   "source": [
    "dat[\"COVID19\"].describe()"
   ]
  },
  {
   "cell_type": "code",
   "execution_count": 33,
   "id": "ff23af23",
   "metadata": {},
   "outputs": [
    {
     "data": {
      "text/plain": [
       "Ttest_indResult(statistic=-0.6672986139650978, pvalue=0.5053583624156102)"
      ]
     },
     "execution_count": 33,
     "metadata": {},
     "output_type": "execute_result"
    }
   ],
   "source": [
    "st.ttest_ind(dat['healthy'],dat['COVID19'])"
   ]
  },
  {
   "cell_type": "markdown",
   "id": "98535fe9",
   "metadata": {},
   "source": [
    "Is there a difference in Leukocyte counts in chronic lymphocytic leukemia? \n",
    "\n",
    "For the COVID cases you are still unsure, whether you had to reject H0, because you were just not looking at enough patients. Therefore you decide on a little simulation experiment: If the effect size and distributions were true, how many patients and controls would you estimate to look at for it to become significant with a significance level of alpha = 0.05?   \n"
   ]
  }
 ],
 "metadata": {
  "kernelspec": {
   "display_name": "Python 3",
   "language": "python",
   "name": "python3"
  },
  "language_info": {
   "codemirror_mode": {
    "name": "ipython",
    "version": 3
   },
   "file_extension": ".py",
   "mimetype": "text/x-python",
   "name": "python",
   "nbconvert_exporter": "python",
   "pygments_lexer": "ipython3",
   "version": "3.9.5"
  }
 },
 "nbformat": 4,
 "nbformat_minor": 5
}
