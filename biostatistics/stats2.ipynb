{
 "cells": [
  {
   "cell_type": "markdown",
   "id": "ebba3979",
   "metadata": {},
   "source": [
    "# Descriptive statistics"
   ]
  },
  {
   "cell_type": "code",
   "execution_count": 1,
   "id": "14d033e3",
   "metadata": {},
   "outputs": [],
   "source": [
    "import numpy as np\n",
    "import seaborn as sns\n",
    "import scipy.stats as st\n",
    "import matplotlib.pyplot as plt\n",
    "import matplotlib.mlab as mlab\n",
    "import pandas as pd\n",
    "import statsmodels.api as sm\n",
    "import statistics\n",
    "import os \n",
    "from scipy.stats import norm"
   ]
  },
  {
   "cell_type": "markdown",
   "id": "c8d38e7d",
   "metadata": {},
   "source": [
    "## Probability data, binomial distribution"
   ]
  },
  {
   "cell_type": "markdown",
   "id": "f86314ba",
   "metadata": {},
   "source": [
    "We already got to know data that follow a binomial distribution, but we actually had not looked at the distribution. We will do this now. 10% of the 100 cells we count have deformed nuclei. To illustrate the distribution we will count repeatedly....  "
   ]
  },
  {
   "cell_type": "code",
   "execution_count": 2,
   "id": "a8ab9333",
   "metadata": {},
   "outputs": [
    {
     "name": "stdout",
     "output_type": "stream",
     "text": [
      "[ 8  6  9  9 12  8 14 10 18 11 10 10 13 11 12 10 11 12 10  5  6 12 13 12\n",
      "  8  9  9  6 14 12  5 11  6 10 10  9 16 11  9 15 13 12 10  9 10 10 10  9\n",
      " 11  9 10 10  9  8  9 13 10 10 12  8 11  9  6 13  6 12  7  9  7 13 10  7\n",
      " 10 12 21 10 11  9 11  8  8 11  8 11 11 19  8 13 11 11 10 16 10  9  6 11\n",
      "  9  7 13  5 12  7  6 13 10 15  8  6 10  8 12  8 10 10 11 12 11 12  8  8\n",
      " 11  8 14 11 10 10 10  7  5 13 14  9  6 13 10  7 18 12 14 12  9 13 10 13\n",
      "  8 10  9 10  9  9  8  7  6 11  8 11 10 10  7 10 21 13 16 14 10 13  9 15\n",
      " 13  7 13  6  5  8 12 11  8 11  8 11  6 12  7 11 14 13 15  6 13 11 11 11\n",
      " 15 13 14  5 11  9  8  6 14  6  8  8  8 14 12  6 14 10 13 11 16  7  8 14\n",
      "  9  7  4 11 12 14 11 12  7 13  5  8  9  9  4 13 12  6 13  7 15 11 10  9\n",
      " 15 14  9 17 10 11  9  8 15 12 12 10 12 15  8 14  9 11  9 15  9 15 12  9\n",
      "  5 11  9  7  9 14  8  9  7 11  8  6 11 13  6 16 14 12  7 15  8  9 10 10\n",
      "  9 14 11 10 16 10  9 11 12 14 18 10  5  9  9 11 12 10 10 12  9 10 11 10\n",
      " 12 10 10  9  9  5  5  7 13  7 12 10  6 10  8  9  8  6  5 13  7  4 13 13\n",
      " 11  9  5 14  6 19 13 16  9  8 15  7  8 12  8 10 11 11  9  9  7 13 13  3\n",
      "  8  8  7  5 11  7  7  9 11  7  7  9 14 11 10  9  8 15 15  8  7 10 10 10\n",
      " 17 11  7 12 12 13  7  9 12  9 10 11 11 13  9 14 10 12  8 17  9 10  7  6\n",
      "  7  9  7 11 10  6  9 14 19  8  7  6 11 14 10 10 13 10  9 16 10 12 14 10\n",
      "  6 11  6  9  9  8  8  8 11 14 10  6 13 14  7  8  8 10 11 10  7 13 10 11\n",
      "  7  5  8  9  8  7 13  6  7 12 11  8 13 15 16 12  7 14 16  8 10 10 12  8\n",
      " 16 14  6 10 13  5 13 10 13  7 15  9 11  7 12 11  6  8  6  8 10  8 14  9\n",
      " 16 11 10  5  9 13 11  9 11 10 11 10 12  9 14 14  6  4 14 12 10  9 13 11\n",
      " 11 13 11 10  8 13 12 11 12 11  7 12  7 10  7  7  9  4 12  9 10 15  9 16\n",
      " 15  7 12 13  8  7  6 10 10  9  6 12 10 10  5  7 14 12 10 10 12  8 14  7\n",
      " 10  7 12  8 12  5 11  5 15 14 10  6  9  8 12 11 10 10 10 14  8 16 10 10\n",
      "  9 11  7  7 13  4  6 16 12  7 16 11  6 12  8  4 10  7 14 11 10 10  9 14\n",
      " 14 14  8  7 11  8  5 13 15  7  5 10  7 10 10  9 12 10 15 12  9 11 10  9\n",
      "  8 16  9  8 13 10 13 12 10 10  7 10 15  9  7  8  9  8  6 10 13  8 14  8\n",
      "  6  8  9 16 10 11 11 10  8  9 14 10 14  9  7 12  9  8  7  4 11 13 19  9\n",
      " 10 11  7  9 14 10  9  8 11  9 11  8 14  8  3 12 12  8 10 14  8 13 14 17\n",
      " 10 11 13 14 15 11  9  8 14 12  8 13 13 10  8 10 10  7  9  6  7 13  9  8\n",
      "  9 12 12  6 11  6 10 11 12  7 10 14  5 11 10  8 13  5  9 11 12  8  7 12\n",
      "  8  9 10 10 10 11 15  9 11  5 14 12 18  7  6  7 11 10 10 10  8  9 11 11\n",
      "  9  4 10  9 14  7  7 15  8 10  7 10 11 10  7  4  8  9  3 11 13  8  9 12\n",
      " 15  9  9  8  9 11 10  8 12 14  8 11 10 12  8  9 10 13 13 13  9 11  7 11\n",
      "  5 11 15  6 10 10 12 13 13 13 17  7 12 15  9 13  8 11  9 10  7 15  6 10\n",
      " 11 14 13  9 11  8 10 10 13 10  9  4 14 11  8 14  6 11 14  9  8 11  6 11\n",
      " 14  9  9 10  5  6  9  7 16  6 14 13 13 11 13  6 17  9  9  6 12 10 11 10\n",
      " 15 14 12  7 12 10  8 15  9 11  8 15 13 13  6 11  9 13 13 11  8 10  9  9\n",
      " 15  9 10  8  9  7  7  6 12 10  8 12 10 10 10 10 11  9  8  9 10 15  7 12\n",
      " 10  8  9 11 13  8 12  7  9  9  9  9  6 15  8 14 13 14  4 12 12 11 14 13\n",
      "  5 13  9 12  8 11  8 12 12 10  9  7 11 10 12 10]\n"
     ]
    }
   ],
   "source": [
    "n = 100 # number of trials\n",
    "p = 0.1 # probability of each trial\n",
    "\n",
    "s = np.random.binomial(n, p, 1000) #simulation repeating the experiment 1000 times\n",
    "print(s)"
   ]
  },
  {
   "cell_type": "markdown",
   "id": "05e3695d",
   "metadata": {},
   "source": [
    "As you can see, the result of the distribution is in absolute counts, not proportions - they can easyly be converted by deviding with n, but they dont have to...  "
   ]
  },
  {
   "cell_type": "code",
   "execution_count": 3,
   "id": "6838ca38",
   "metadata": {},
   "outputs": [
    {
     "name": "stdout",
     "output_type": "stream",
     "text": [
      "[0.08 0.06 0.09 0.09 0.12 0.08 0.14 0.1  0.18 0.11 0.1  0.1  0.13 0.11\n",
      " 0.12 0.1  0.11 0.12 0.1  0.05 0.06 0.12 0.13 0.12 0.08 0.09 0.09 0.06\n",
      " 0.14 0.12 0.05 0.11 0.06 0.1  0.1  0.09 0.16 0.11 0.09 0.15 0.13 0.12\n",
      " 0.1  0.09 0.1  0.1  0.1  0.09 0.11 0.09 0.1  0.1  0.09 0.08 0.09 0.13\n",
      " 0.1  0.1  0.12 0.08 0.11 0.09 0.06 0.13 0.06 0.12 0.07 0.09 0.07 0.13\n",
      " 0.1  0.07 0.1  0.12 0.21 0.1  0.11 0.09 0.11 0.08 0.08 0.11 0.08 0.11\n",
      " 0.11 0.19 0.08 0.13 0.11 0.11 0.1  0.16 0.1  0.09 0.06 0.11 0.09 0.07\n",
      " 0.13 0.05 0.12 0.07 0.06 0.13 0.1  0.15 0.08 0.06 0.1  0.08 0.12 0.08\n",
      " 0.1  0.1  0.11 0.12 0.11 0.12 0.08 0.08 0.11 0.08 0.14 0.11 0.1  0.1\n",
      " 0.1  0.07 0.05 0.13 0.14 0.09 0.06 0.13 0.1  0.07 0.18 0.12 0.14 0.12\n",
      " 0.09 0.13 0.1  0.13 0.08 0.1  0.09 0.1  0.09 0.09 0.08 0.07 0.06 0.11\n",
      " 0.08 0.11 0.1  0.1  0.07 0.1  0.21 0.13 0.16 0.14 0.1  0.13 0.09 0.15\n",
      " 0.13 0.07 0.13 0.06 0.05 0.08 0.12 0.11 0.08 0.11 0.08 0.11 0.06 0.12\n",
      " 0.07 0.11 0.14 0.13 0.15 0.06 0.13 0.11 0.11 0.11 0.15 0.13 0.14 0.05\n",
      " 0.11 0.09 0.08 0.06 0.14 0.06 0.08 0.08 0.08 0.14 0.12 0.06 0.14 0.1\n",
      " 0.13 0.11 0.16 0.07 0.08 0.14 0.09 0.07 0.04 0.11 0.12 0.14 0.11 0.12\n",
      " 0.07 0.13 0.05 0.08 0.09 0.09 0.04 0.13 0.12 0.06 0.13 0.07 0.15 0.11\n",
      " 0.1  0.09 0.15 0.14 0.09 0.17 0.1  0.11 0.09 0.08 0.15 0.12 0.12 0.1\n",
      " 0.12 0.15 0.08 0.14 0.09 0.11 0.09 0.15 0.09 0.15 0.12 0.09 0.05 0.11\n",
      " 0.09 0.07 0.09 0.14 0.08 0.09 0.07 0.11 0.08 0.06 0.11 0.13 0.06 0.16\n",
      " 0.14 0.12 0.07 0.15 0.08 0.09 0.1  0.1  0.09 0.14 0.11 0.1  0.16 0.1\n",
      " 0.09 0.11 0.12 0.14 0.18 0.1  0.05 0.09 0.09 0.11 0.12 0.1  0.1  0.12\n",
      " 0.09 0.1  0.11 0.1  0.12 0.1  0.1  0.09 0.09 0.05 0.05 0.07 0.13 0.07\n",
      " 0.12 0.1  0.06 0.1  0.08 0.09 0.08 0.06 0.05 0.13 0.07 0.04 0.13 0.13\n",
      " 0.11 0.09 0.05 0.14 0.06 0.19 0.13 0.16 0.09 0.08 0.15 0.07 0.08 0.12\n",
      " 0.08 0.1  0.11 0.11 0.09 0.09 0.07 0.13 0.13 0.03 0.08 0.08 0.07 0.05\n",
      " 0.11 0.07 0.07 0.09 0.11 0.07 0.07 0.09 0.14 0.11 0.1  0.09 0.08 0.15\n",
      " 0.15 0.08 0.07 0.1  0.1  0.1  0.17 0.11 0.07 0.12 0.12 0.13 0.07 0.09\n",
      " 0.12 0.09 0.1  0.11 0.11 0.13 0.09 0.14 0.1  0.12 0.08 0.17 0.09 0.1\n",
      " 0.07 0.06 0.07 0.09 0.07 0.11 0.1  0.06 0.09 0.14 0.19 0.08 0.07 0.06\n",
      " 0.11 0.14 0.1  0.1  0.13 0.1  0.09 0.16 0.1  0.12 0.14 0.1  0.06 0.11\n",
      " 0.06 0.09 0.09 0.08 0.08 0.08 0.11 0.14 0.1  0.06 0.13 0.14 0.07 0.08\n",
      " 0.08 0.1  0.11 0.1  0.07 0.13 0.1  0.11 0.07 0.05 0.08 0.09 0.08 0.07\n",
      " 0.13 0.06 0.07 0.12 0.11 0.08 0.13 0.15 0.16 0.12 0.07 0.14 0.16 0.08\n",
      " 0.1  0.1  0.12 0.08 0.16 0.14 0.06 0.1  0.13 0.05 0.13 0.1  0.13 0.07\n",
      " 0.15 0.09 0.11 0.07 0.12 0.11 0.06 0.08 0.06 0.08 0.1  0.08 0.14 0.09\n",
      " 0.16 0.11 0.1  0.05 0.09 0.13 0.11 0.09 0.11 0.1  0.11 0.1  0.12 0.09\n",
      " 0.14 0.14 0.06 0.04 0.14 0.12 0.1  0.09 0.13 0.11 0.11 0.13 0.11 0.1\n",
      " 0.08 0.13 0.12 0.11 0.12 0.11 0.07 0.12 0.07 0.1  0.07 0.07 0.09 0.04\n",
      " 0.12 0.09 0.1  0.15 0.09 0.16 0.15 0.07 0.12 0.13 0.08 0.07 0.06 0.1\n",
      " 0.1  0.09 0.06 0.12 0.1  0.1  0.05 0.07 0.14 0.12 0.1  0.1  0.12 0.08\n",
      " 0.14 0.07 0.1  0.07 0.12 0.08 0.12 0.05 0.11 0.05 0.15 0.14 0.1  0.06\n",
      " 0.09 0.08 0.12 0.11 0.1  0.1  0.1  0.14 0.08 0.16 0.1  0.1  0.09 0.11\n",
      " 0.07 0.07 0.13 0.04 0.06 0.16 0.12 0.07 0.16 0.11 0.06 0.12 0.08 0.04\n",
      " 0.1  0.07 0.14 0.11 0.1  0.1  0.09 0.14 0.14 0.14 0.08 0.07 0.11 0.08\n",
      " 0.05 0.13 0.15 0.07 0.05 0.1  0.07 0.1  0.1  0.09 0.12 0.1  0.15 0.12\n",
      " 0.09 0.11 0.1  0.09 0.08 0.16 0.09 0.08 0.13 0.1  0.13 0.12 0.1  0.1\n",
      " 0.07 0.1  0.15 0.09 0.07 0.08 0.09 0.08 0.06 0.1  0.13 0.08 0.14 0.08\n",
      " 0.06 0.08 0.09 0.16 0.1  0.11 0.11 0.1  0.08 0.09 0.14 0.1  0.14 0.09\n",
      " 0.07 0.12 0.09 0.08 0.07 0.04 0.11 0.13 0.19 0.09 0.1  0.11 0.07 0.09\n",
      " 0.14 0.1  0.09 0.08 0.11 0.09 0.11 0.08 0.14 0.08 0.03 0.12 0.12 0.08\n",
      " 0.1  0.14 0.08 0.13 0.14 0.17 0.1  0.11 0.13 0.14 0.15 0.11 0.09 0.08\n",
      " 0.14 0.12 0.08 0.13 0.13 0.1  0.08 0.1  0.1  0.07 0.09 0.06 0.07 0.13\n",
      " 0.09 0.08 0.09 0.12 0.12 0.06 0.11 0.06 0.1  0.11 0.12 0.07 0.1  0.14\n",
      " 0.05 0.11 0.1  0.08 0.13 0.05 0.09 0.11 0.12 0.08 0.07 0.12 0.08 0.09\n",
      " 0.1  0.1  0.1  0.11 0.15 0.09 0.11 0.05 0.14 0.12 0.18 0.07 0.06 0.07\n",
      " 0.11 0.1  0.1  0.1  0.08 0.09 0.11 0.11 0.09 0.04 0.1  0.09 0.14 0.07\n",
      " 0.07 0.15 0.08 0.1  0.07 0.1  0.11 0.1  0.07 0.04 0.08 0.09 0.03 0.11\n",
      " 0.13 0.08 0.09 0.12 0.15 0.09 0.09 0.08 0.09 0.11 0.1  0.08 0.12 0.14\n",
      " 0.08 0.11 0.1  0.12 0.08 0.09 0.1  0.13 0.13 0.13 0.09 0.11 0.07 0.11\n",
      " 0.05 0.11 0.15 0.06 0.1  0.1  0.12 0.13 0.13 0.13 0.17 0.07 0.12 0.15\n",
      " 0.09 0.13 0.08 0.11 0.09 0.1  0.07 0.15 0.06 0.1  0.11 0.14 0.13 0.09\n",
      " 0.11 0.08 0.1  0.1  0.13 0.1  0.09 0.04 0.14 0.11 0.08 0.14 0.06 0.11\n",
      " 0.14 0.09 0.08 0.11 0.06 0.11 0.14 0.09 0.09 0.1  0.05 0.06 0.09 0.07\n",
      " 0.16 0.06 0.14 0.13 0.13 0.11 0.13 0.06 0.17 0.09 0.09 0.06 0.12 0.1\n",
      " 0.11 0.1  0.15 0.14 0.12 0.07 0.12 0.1  0.08 0.15 0.09 0.11 0.08 0.15\n",
      " 0.13 0.13 0.06 0.11 0.09 0.13 0.13 0.11 0.08 0.1  0.09 0.09 0.15 0.09\n",
      " 0.1  0.08 0.09 0.07 0.07 0.06 0.12 0.1  0.08 0.12 0.1  0.1  0.1  0.1\n",
      " 0.11 0.09 0.08 0.09 0.1  0.15 0.07 0.12 0.1  0.08 0.09 0.11 0.13 0.08\n",
      " 0.12 0.07 0.09 0.09 0.09 0.09 0.06 0.15 0.08 0.14 0.13 0.14 0.04 0.12\n",
      " 0.12 0.11 0.14 0.13 0.05 0.13 0.09 0.12 0.08 0.11 0.08 0.12 0.12 0.1\n",
      " 0.09 0.07 0.11 0.1  0.12 0.1 ]\n"
     ]
    }
   ],
   "source": [
    "props = s/n\n",
    "print(props)"
   ]
  },
  {
   "cell_type": "markdown",
   "id": "b8319386",
   "metadata": {},
   "source": [
    "Now we plot the distribution. The easiest first look is a histogram. "
   ]
  },
  {
   "cell_type": "code",
   "execution_count": 4,
   "id": "e5d59aa7",
   "metadata": {},
   "outputs": [
    {
     "data": {
      "image/png": "[encoded data removed]",
      "text/plain": [
       "<Figure size 432x288 with 1 Axes>"
      ]
     },
     "metadata": {
      "needs_background": "light"
     },
     "output_type": "display_data"
    }
   ],
   "source": [
    "plt.hist(props, bins = 5)\n",
    "plt.xlabel(\"proportion\")\n",
    "plt.ylabel(\"frequency\")\n",
    "plt.show()"
   ]
  },
  {
   "cell_type": "markdown",
   "id": "a4af1103",
   "metadata": {},
   "source": [
    "The resolution is a bit inappropriate, given that we deal with integers. To increase the bin number would be a good idea. Maybe we should also plot a confidence interval."
   ]
  },
  {
   "cell_type": "code",
   "execution_count": 5,
   "id": "c3e2eada",
   "metadata": {},
   "outputs": [
    {
     "name": "stdout",
     "output_type": "stream",
     "text": [
      "(0.04120108046379837, 0.15879891953620165)\n"
     ]
    },
    {
     "data": {
      "text/plain": [
       "<matplotlib.lines.Line2D at 0x7f8cc822ae20>"
      ]
     },
     "execution_count": 5,
     "metadata": {},
     "output_type": "execute_result"
    },
    {
     "data": {
      "image/png": "[encoded data removed]",
      "text/plain": [
       "<Figure size 432x288 with 1 Axes>"
      ]
     },
     "metadata": {
      "needs_background": "light"
     },
     "output_type": "display_data"
    }
   ],
   "source": [
    "CI= sm.stats.proportion_confint(n*p, n, alpha=0.05)\n",
    "print(CI)\n",
    "\n",
    "plt.axvspan(CI[0],CI[1], alpha=0.2, color='yellow')\n",
    "plt.hist(props, bins = 50)\n",
    "plt.xlabel(\"proportion\")\n",
    "plt.ylabel(\"frequency\")\n",
    "plt.axvline(p, color=\"black\")"
   ]
  },
  {
   "cell_type": "markdown",
   "id": "91992b7d",
   "metadata": {},
   "source": [
    "In a binomial distribution, the distribution is given by the proportion and the sample size. Therefore we could calculate a confidence interval from one measurement.    "
   ]
  },
  {
   "cell_type": "markdown",
   "id": "1425b96a",
   "metadata": {},
   "source": [
    "#### How can we now describe the distribution? \n",
    "Summary statistics:"
   ]
  },
  {
   "cell_type": "code",
   "execution_count": 6,
   "id": "c9a9fc18",
   "metadata": {},
   "outputs": [
    {
     "name": "stdout",
     "output_type": "stream",
     "text": [
      "the minimum is: 0.03\n",
      "the maximum is: 0.21\n"
     ]
    }
   ],
   "source": [
    "print(\"the minimum is:\",  min(props))\n",
    "print(\"the maximum is:\",  max(props))"
   ]
  },
  {
   "cell_type": "code",
   "execution_count": null,
   "id": "41e032e7",
   "metadata": {},
   "outputs": [],
   "source": []
  },
  {
   "cell_type": "code",
   "execution_count": 7,
   "id": "296731b2",
   "metadata": {},
   "outputs": [
    {
     "name": "stdout",
     "output_type": "stream",
     "text": [
      "0.10157000000000001\n"
     ]
    }
   ],
   "source": [
    "print(statistics.mean(props))"
   ]
  },
  {
   "cell_type": "markdown",
   "id": "2f07dc17",
   "metadata": {},
   "source": [
    "Is the mean a good way to look at our distribution? "
   ]
  },
  {
   "cell_type": "code",
   "execution_count": 8,
   "id": "625d0792",
   "metadata": {},
   "outputs": [
    {
     "name": "stdout",
     "output_type": "stream",
     "text": [
      "(0.0, 0.05880530708179099)\n",
      "0.019880000000000002\n"
     ]
    },
    {
     "data": {
      "image/png": "[encoded data removed]",
      "text/plain": [
       "<Figure size 432x288 with 1 Axes>"
      ]
     },
     "metadata": {
      "needs_background": "light"
     },
     "output_type": "display_data"
    }
   ],
   "source": [
    "n = 50 # number of trials\n",
    "p = 0.02 # probability of each trial\n",
    "\n",
    "s = np.random.binomial(n, p, 1000) #simulation repeating the experiment 1000 times\n",
    "props = s/n\n",
    "\n",
    "CI= sm.stats.proportion_confint(n*p, n, alpha=0.05)\n",
    "print(CI)\n",
    "\n",
    "plt.axvspan(CI[0],CI[1], alpha=0.2, color='yellow')\n",
    "plt.hist(props, bins = 20)\n",
    "plt.xlabel(\"proportion\")\n",
    "plt.ylabel(\"frequency\")\n",
    "plt.axvline(p, color=\"black\")\n",
    "plt.axvline(statistics.mean(props), color=\"red\")\n",
    "\n",
    "print(statistics.mean(props))"
   ]
  },
  {
   "cell_type": "markdown",
   "id": "82127114",
   "metadata": {},
   "source": [
    "## Count data/ the Poisson distribution"
   ]
  },
  {
   "cell_type": "markdown",
   "id": "09df97ec",
   "metadata": {},
   "source": [
    "The Poisson distribution is built on count data, e.g. the numbers of raisins in a Dresdner Christstollen, the number of geese at any given day between Blaues Wunder and Waldschlösschenbrücke, or radioactive decay. So lets use a Geiger counter and count the numbers of decay per min.  "
   ]
  },
  {
   "cell_type": "code",
   "execution_count": 9,
   "id": "f1b60d81",
   "metadata": {
    "scrolled": true
   },
   "outputs": [
    {
     "data": {
      "text/plain": [
       "<matplotlib.lines.Line2D at 0x7f8cc827edf0>"
      ]
     },
     "execution_count": 9,
     "metadata": {},
     "output_type": "execute_result"
    },
    {
     "data": {
      "image/png": "[encoded data removed]",
      "text/plain": [
       "<Figure size 432x288 with 1 Axes>"
      ]
     },
     "metadata": {
      "needs_background": "light"
     },
     "output_type": "display_data"
    }
   ],
   "source": [
    "freq =1.6\n",
    "s = np.random.poisson(freq, 1000)\n",
    "\n",
    "plt.hist(s, bins = 20)\n",
    "plt.xlabel(\"counts per minute\")\n",
    "plt.ylabel(\"frequency\")\n",
    "plt.axvline(freq, color=\"black\")"
   ]
  },
  {
   "cell_type": "markdown",
   "id": "a9d9eeda",
   "metadata": {},
   "source": [
    "### Confidence intervals for a Poisson distribution"
   ]
  },
  {
   "cell_type": "markdown",
   "id": "58af026d",
   "metadata": {},
   "source": [
    "Similar to the binomial distribution, the distribution is defined by sample size and the mean.  \n",
    "Also for Poisson, one can calculate an also asymmetrical confidence interval:"
   ]
  },
  {
   "cell_type": "code",
   "execution_count": 10,
   "id": "a350ab5c",
   "metadata": {},
   "outputs": [
    {
     "data": {
      "text/plain": [
       "<matplotlib.lines.Line2D at 0x7f8cb832bb80>"
      ]
     },
     "execution_count": 10,
     "metadata": {},
     "output_type": "execute_result"
    },
    {
     "data": {
      "image/png": "[encoded data removed]",
      "text/plain": [
       "<Figure size 432x288 with 1 Axes>"
      ]
     },
     "metadata": {
      "needs_background": "light"
     },
     "output_type": "display_data"
    }
   ],
   "source": [
    "freq =1.6\n",
    "s = np.random.poisson(freq, 1000)\n",
    "CI = st.poisson.interval(0.95,freq)\n",
    "\n",
    "plt.axvspan(CI[0],CI[1], alpha=0.2, color='yellow')\n",
    "plt.hist(s, bins = 20)\n",
    "plt.xlabel(\"counts per minute\")\n",
    "plt.ylabel(\"frequency\")\n",
    "plt.axvline(freq, color=\"black\")\n"
   ]
  },
  {
   "cell_type": "markdown",
   "id": "4fd1d7fe",
   "metadata": {},
   "source": [
    "For a poisson distribution, poisson error can be reduced, when increasing the counting population, in our case lets count for 10 min instead of 1 min, and see what happens.   "
   ]
  },
  {
   "cell_type": "code",
   "execution_count": 11,
   "id": "4c4f553f",
   "metadata": {},
   "outputs": [
    {
     "name": "stdout",
     "output_type": "stream",
     "text": [
      "[0.9 2.4]\n"
     ]
    },
    {
     "data": {
      "text/plain": [
       "<matplotlib.lines.Line2D at 0x7f8cb09127f0>"
      ]
     },
     "execution_count": 11,
     "metadata": {},
     "output_type": "execute_result"
    },
    {
     "data": {
      "image/png": "[encoded data removed]",
      "text/plain": [
       "<Figure size 432x288 with 1 Axes>"
      ]
     },
     "metadata": {
      "needs_background": "light"
     },
     "output_type": "display_data"
    }
   ],
   "source": [
    "CI = np.true_divide(st.poisson.interval(0.95,freq*10),10)\n",
    "print(CI)\n",
    "s = np.true_divide(np.random.poisson(freq*10, 1000),10)\n",
    "\n",
    "plt.axvspan(CI[0],CI[1], alpha=0.2, color='yellow')\n",
    "plt.hist(s, bins = 70)\n",
    "plt.xlabel(\"counts per minute\")\n",
    "plt.ylabel(\"frequency\")\n",
    "plt.axvline(freq, color=\"black\")"
   ]
  },
  {
   "cell_type": "markdown",
   "id": "2c181ff4",
   "metadata": {},
   "source": [
    "What is the difference between Poisson and Binomial? Aren't they both kind of looking at count data?   \n",
    "Yes, BUT:   \n",
    "Binomial counts events versus another event, e.g. for the cells there are two options, normal versus deformed. A binomial distribution is about comparing the two options.   \n",
    "Poisson counts with an open end, e.g. number of mutations.  "
   ]
  },
  {
   "cell_type": "markdown",
   "id": "ec4fe5a0",
   "metadata": {},
   "source": [
    "## Continuous data"
   ]
  },
  {
   "cell_type": "markdown",
   "id": "ff3aaf04",
   "metadata": {},
   "source": [
    "Let's import the count data you have generated with Robert. When you download it from Google sheets (https://docs.google.com/spreadsheets/d/1Ek-23Soro5XZ3y1kJHpvaTaa1f4n2C7G3WX0qddD-78/edit#gid=0), it comes with spaces. Try to avoid spaces and special characters in file names, they tend to make trouble.   \n",
    "I renamed it to 'BBBC001.csv'."
   ]
  },
  {
   "cell_type": "code",
   "execution_count": 14,
   "id": "0bc455fc",
   "metadata": {},
   "outputs": [
    {
     "name": "stdout",
     "output_type": "stream",
     "text": [
      "   Annotator name (pseudonym is ok)  BBBC001 manual count  \\\n",
      "0                            Robert                   370   \n",
      "1                          Lenka B.                   365   \n",
      "2                          Jozef F.                   390   \n",
      "3                         Lukas M..                   370   \n",
      "4                          Luisa W.                   383   \n",
      "..                              ...                   ...   \n",
      "83                         Lucas V.                   356   \n",
      "84                          Lara L.                   368   \n",
      "85                         Laura M.                   367   \n",
      "86                           Julia                    367   \n",
      "87                            Marie                   367   \n",
      "\n",
      "    BBBC001 CLIJ Voronoi Otsu Labeling  BBBC001 StarDist  BBBC001 Find Maxima  \n",
      "0                                367.0             379.0                  NaN  \n",
      "1                                360.0             373.0                375.0  \n",
      "2                                367.0             379.0                426.0  \n",
      "3                                367.0               NaN                  NaN  \n",
      "4                                  NaN               NaN                  NaN  \n",
      "..                                 ...               ...                  ...  \n",
      "83                               367.0               NaN                  NaN  \n",
      "84                               367.0               NaN                  NaN  \n",
      "85                               367.0               NaN                  NaN  \n",
      "86                                 NaN               NaN                  NaN  \n",
      "87                                 NaN               NaN                  NaN  \n",
      "\n",
      "[88 rows x 5 columns]\n"
     ]
    }
   ],
   "source": [
    "dat = pd.read_csv(os.path.join('data','BBBC001.csv'), header=1, sep=';')\n",
    "\n",
    "print(dat)"
   ]
  },
  {
   "cell_type": "markdown",
   "id": "9738012a",
   "metadata": {},
   "source": [
    "For now we will focus on the manual counts, visualise it and perform summary statistics."
   ]
  },
  {
   "cell_type": "code",
   "execution_count": 15,
   "id": "79a50c6e",
   "metadata": {},
   "outputs": [
    {
     "data": {
      "text/plain": [
       "(array([ 1.,  0.,  0.,  0.,  0.,  0.,  0.,  0.,  0.,  0.,  0.,  0.,  0.,\n",
       "         0.,  0.,  0.,  0.,  0.,  0.,  0.,  0.,  0.,  0.,  0.,  0.,  0.,\n",
       "         0.,  0.,  0.,  0.,  0.,  0.,  0.,  0.,  0.,  0.,  0.,  0.,  0.,\n",
       "         0.,  0.,  0.,  0.,  0.,  0.,  0.,  0.,  0.,  0.,  0.,  0.,  0.,\n",
       "         0.,  0.,  0.,  0.,  0.,  0.,  0.,  0.,  0.,  0.,  0.,  0.,  0.,\n",
       "         0.,  0.,  0.,  0.,  0.,  0.,  1.,  0.,  1.,  0.,  3.,  0.,  3.,\n",
       "         8., 15.,  6.,  7., 12., 13.,  9.,  6.,  1.,  0.,  0.,  0.,  0.,\n",
       "         0.,  0.,  0.,  0.,  1.,  0.,  0.,  0.,  1.]),\n",
       " array([ 52.  ,  56.01,  60.02,  64.03,  68.04,  72.05,  76.06,  80.07,\n",
       "         84.08,  88.09,  92.1 ,  96.11, 100.12, 104.13, 108.14, 112.15,\n",
       "        116.16, 120.17, 124.18, 128.19, 132.2 , 136.21, 140.22, 144.23,\n",
       "        148.24, 152.25, 156.26, 160.27, 164.28, 168.29, 172.3 , 176.31,\n",
       "        180.32, 184.33, 188.34, 192.35, 196.36, 200.37, 204.38, 208.39,\n",
       "        212.4 , 216.41, 220.42, 224.43, 228.44, 232.45, 236.46, 240.47,\n",
       "        244.48, 248.49, 252.5 , 256.51, 260.52, 264.53, 268.54, 272.55,\n",
       "        276.56, 280.57, 284.58, 288.59, 292.6 , 296.61, 300.62, 304.63,\n",
       "        308.64, 312.65, 316.66, 320.67, 324.68, 328.69, 332.7 , 336.71,\n",
       "        340.72, 344.73, 348.74, 352.75, 356.76, 360.77, 364.78, 368.79,\n",
       "        372.8 , 376.81, 380.82, 384.83, 388.84, 392.85, 396.86, 400.87,\n",
       "        404.88, 408.89, 412.9 , 416.91, 420.92, 424.93, 428.94, 432.95,\n",
       "        436.96, 440.97, 444.98, 448.99, 453.  ]),\n",
       " <BarContainer object of 100 artists>)"
      ]
     },
     "execution_count": 15,
     "metadata": {},
     "output_type": "execute_result"
    },
    {
     "data": {
      "image/png": "[encoded data removed]",
      "text/plain": [
       "<Figure size 432x288 with 1 Axes>"
      ]
     },
     "metadata": {
      "needs_background": "light"
     },
     "output_type": "display_data"
    }
   ],
   "source": [
    "man_count = dat.iloc[:,1].values\n",
    "\n",
    "\n",
    "plt.hist(man_count,bins=100)"
   ]
  },
  {
   "cell_type": "markdown",
   "id": "d7c16eda",
   "metadata": {},
   "source": [
    "There are different alternatives of displaying such data, some of which independent of distribution. You will find documentation in the graph galery: https://www.python-graph-gallery.com/"
   ]
  },
  {
   "cell_type": "code",
   "execution_count": 16,
   "id": "fb39c76c",
   "metadata": {},
   "outputs": [
    {
     "data": {
      "text/plain": [
       "<AxesSubplot:ylabel='Density'>"
      ]
     },
     "execution_count": 16,
     "metadata": {},
     "output_type": "execute_result"
    },
    {
     "data": {
      "image/png": "[encoded data removed]",
      "text/plain": [
       "<Figure size 432x288 with 1 Axes>"
      ]
     },
     "metadata": {
      "needs_background": "light"
     },
     "output_type": "display_data"
    }
   ],
   "source": [
    "sns.kdeplot(man_count)"
   ]
  },
  {
   "cell_type": "markdown",
   "id": "2f0fdfe5",
   "metadata": {},
   "source": [
    "A density plot is sometimes helpful to see the distribution, but be aware of the smoothing and that you loose the information on sample size. "
   ]
  },
  {
   "cell_type": "code",
   "execution_count": 17,
   "id": "00cbc2e3",
   "metadata": {},
   "outputs": [
    {
     "data": {
      "text/plain": [
       "<AxesSubplot:>"
      ]
     },
     "execution_count": 17,
     "metadata": {},
     "output_type": "execute_result"
    },
    {
     "data": {
      "image/png": "[encoded data removed]",
      "text/plain": [
       "<Figure size 432x288 with 1 Axes>"
      ]
     },
     "metadata": {
      "needs_background": "light"
     },
     "output_type": "display_data"
    }
   ],
   "source": [
    "sns.stripplot(y=man_count)"
   ]
  },
  {
   "cell_type": "code",
   "execution_count": 18,
   "id": "9bfffc1a",
   "metadata": {},
   "outputs": [
    {
     "data": {
      "text/plain": [
       "<AxesSubplot:>"
      ]
     },
     "execution_count": 18,
     "metadata": {},
     "output_type": "execute_result"
    },
    {
     "data": {
      "image/png": "[encoded data removed]",
      "text/plain": [
       "<Figure size 432x288 with 1 Axes>"
      ]
     },
     "metadata": {
      "needs_background": "light"
     },
     "output_type": "display_data"
    }
   ],
   "source": [
    "sns.swarmplot(y=man_count)"
   ]
  },
  {
   "cell_type": "code",
   "execution_count": 19,
   "id": "bd8646e2",
   "metadata": {},
   "outputs": [
    {
     "data": {
      "text/plain": [
       "<AxesSubplot:>"
      ]
     },
     "execution_count": 19,
     "metadata": {},
     "output_type": "execute_result"
    },
    {
     "data": {
      "image/png": "[encoded data removed]",
      "text/plain": [
       "<Figure size 432x288 with 1 Axes>"
      ]
     },
     "metadata": {
      "needs_background": "light"
     },
     "output_type": "display_data"
    }
   ],
   "source": [
    "sns.violinplot(y=man_count)"
   ]
  },
  {
   "cell_type": "markdown",
   "id": "bdf227be",
   "metadata": {},
   "source": [
    "this plot is useful, but the density function can sometimes be misleading and lead to artefacts dependent on the sample size. Unless explicitely stated, sample sizes are usually normalised and therefore hidden!"
   ]
  },
  {
   "cell_type": "code",
   "execution_count": 20,
   "id": "c5f247e0",
   "metadata": {},
   "outputs": [
    {
     "data": {
      "text/plain": [
       "<AxesSubplot:>"
      ]
     },
     "execution_count": 20,
     "metadata": {},
     "output_type": "execute_result"
    },
    {
     "data": {
      "image/png": "[encoded data removed]",
      "text/plain": [
       "<Figure size 432x288 with 1 Axes>"
      ]
     },
     "metadata": {
      "needs_background": "light"
     },
     "output_type": "display_data"
    }
   ],
   "source": [
    "sns.boxplot(y=man_count)"
   ]
  },
  {
   "cell_type": "markdown",
   "id": "45262ac2",
   "metadata": {},
   "source": [
    "Be aware that boxplots hide the underlying distribution and the sample size.  \n",
    "So the \"safest\" plot, when in doubt, is to combine boxplot and jitter:"
   ]
  },
  {
   "cell_type": "code",
   "execution_count": 21,
   "id": "58c5049b",
   "metadata": {},
   "outputs": [
    {
     "data": {
      "image/png": "[encoded data removed]",
      "text/plain": [
       "<Figure size 432x288 with 1 Axes>"
      ]
     },
     "metadata": {
      "needs_background": "light"
     },
     "output_type": "display_data"
    }
   ],
   "source": [
    "\n",
    "ax = sns.swarmplot(y=man_count, color=\"black\")\n",
    "ax = sns.boxplot(y=man_count,color=\"lightgrey\")"
   ]
  },
  {
   "cell_type": "markdown",
   "id": "8d0ccde5",
   "metadata": {},
   "source": [
    "The boxplot is very useful, because it directly provides non-parametric summary statistics:  \n",
    "Min, Max, Median, Quartiles and therefore the inter-quartile range (IQR). The whiskers are usually the highest point that is within 1.5x the quartile plus the IQR. Everything beyond that is considered an outlier. Whiskers are however not always used in this way! \n",
    "The mean and standard diviation are not visible in a boxplot, because it is only meaningful in distributions that center around the mean. It is however a part of summary statistics:"
   ]
  },
  {
   "cell_type": "code",
   "execution_count": 22,
   "id": "95d4ab80",
   "metadata": {},
   "outputs": [
    {
     "data": {
      "text/plain": [
       "count     88.000000\n",
       "mean     375.715909\n",
       "std       37.985463\n",
       "min       52.000000\n",
       "25%      370.000000\n",
       "50%      380.000000\n",
       "75%      387.000000\n",
       "max      453.000000\n",
       "Name: BBBC001 manual count, dtype: float64"
      ]
     },
     "execution_count": 22,
     "metadata": {},
     "output_type": "execute_result"
    }
   ],
   "source": [
    "dat[\"BBBC001 manual count\"].describe()"
   ]
  },
  {
   "cell_type": "markdown",
   "id": "2150dc8d",
   "metadata": {},
   "source": [
    "## Normal distribution"
   ]
  },
  {
   "cell_type": "markdown",
   "id": "3cedc18e",
   "metadata": {},
   "source": [
    "We assume that our distribution is \"normal\".  \n",
    "First we fit a normal distribution to our data. "
   ]
  },
  {
   "cell_type": "code",
   "execution_count": 23,
   "id": "ef3c8512",
   "metadata": {},
   "outputs": [
    {
     "data": {
      "image/png": "[encoded data removed]",
      "text/plain": [
       "<Figure size 432x288 with 1 Axes>"
      ]
     },
     "metadata": {
      "needs_background": "light"
     },
     "output_type": "display_data"
    }
   ],
   "source": [
    "(mu, sigma) = norm.fit(man_count)\n",
    "n, bins, patches = plt.hist(man_count, 100,density=1)\n",
    "\n",
    "\n",
    "# add a 'best fit' line\n",
    "y = norm.pdf(bins, mu, sigma)\n",
    "l = plt.plot(bins, y, 'r--', linewidth=2)\n",
    "\n",
    "#plot\n",
    "plt.xlabel('manual counts counts')\n",
    "plt.ylabel('binned counts')\n",
    "plt.title(r'$\\mathrm{Histogram\\ of\\ manual\\ counts:}\\ \\mu=%.3f,\\ \\sigma=%.3f$' %(mu, sigma))\n",
    "\n",
    "plt.show()"
   ]
  },
  {
   "cell_type": "markdown",
   "id": "ca9c0ab4",
   "metadata": {},
   "source": [
    "Is it really normally distributed? What we see here is already one of the most problematic properties of a normal distribution: The susceptibility to outliers. "
   ]
  },
  {
   "cell_type": "markdown",
   "id": "e667c3a5",
   "metadata": {},
   "source": [
    "In normal distributions the confidence interval is determined by the standard diviation. A confidence level of 95% equals 1.96 x sigma.  "
   ]
  },
  {
   "cell_type": "code",
   "execution_count": 25,
   "id": "89d7d6fd",
   "metadata": {},
   "outputs": [
    {
     "data": {
      "image/png": "[encoded data removed]",
      "text/plain": [
       "<Figure size 432x288 with 1 Axes>"
      ]
     },
     "metadata": {
      "needs_background": "light"
     },
     "output_type": "display_data"
    }
   ],
   "source": [
    "#plot\n",
    "\n",
    "(mu, sigma) = norm.fit(man_count)\n",
    "n, bins, patches = plt.hist(man_count, 100,density=1)\n",
    "\n",
    "# add a 'best fit' line\n",
    "y = norm.pdf(bins, mu, sigma)\n",
    "l = plt.plot(bins, y, 'r--', linewidth=2)\n",
    "\n",
    "\n",
    "plt.xlabel('manual counts counts')\n",
    "plt.ylabel('binned counts')\n",
    "plt.title(r'$\\mathrm{Histogram\\ of\\ manual\\ counts:}\\ \\mu=%.3f,\\ \\sigma=%.3f$' %(mu, sigma))\n",
    "plt.axvspan((mu-1.96*sigma),(mu+1.96*sigma), alpha=0.2, color='yellow')\n",
    "plt.axvline(mu, color=\"black\")\n",
    "\n",
    "\n",
    "plt.show()"
   ]
  },
  {
   "cell_type": "markdown",
   "id": "25d0ba3c",
   "metadata": {},
   "source": [
    "This shows even nicer that our outlier messes up the distribution :-)  \n",
    "How can we solve this in practise?  \n",
    "1. Ignore the problem and continue with the knowledge that we are overestimating the width of the distribution and underestimating the mean.  \n",
    "2. Censor the outlier. \n",
    "3. Decide that we cannot assume normality and move to either a different distribution or non-parametric statistics. "
   ]
  },
  {
   "cell_type": "markdown",
   "id": "184aa620",
   "metadata": {},
   "source": [
    "## Other distributions   \n",
    "Of course there are many more distributions, e.g.  \n",
    "Lognormal is a distribution that becomes normal, when log transformed. It is important for the \"geometric mean\".  \n",
    "Bimodal distributions may arise from imaging data with background signal, or DNA methylation data. \n",
    "Negative binomial distributions are very important in genomics, especially RNA-Seq analysis. "
   ]
  },
  {
   "cell_type": "markdown",
   "id": "71772060",
   "metadata": {},
   "source": [
    "## Exercise"
   ]
  },
  {
   "cell_type": "markdown",
   "id": "796f70d9",
   "metadata": {},
   "source": [
    "1. Provide the results for the automatic counts from the image analysis part of the course, if you have not already done so.  \n",
    "2. Import the updated table and visualise the distribution of the data next to each other\n",
    "3. Generate the summary statistics and compare the different distributions\n"
   ]
  }
 ],
 "metadata": {
  "kernelspec": {
   "display_name": "Python 3",
   "language": "python",
   "name": "python3"
  },
  "language_info": {
   "codemirror_mode": {
    "name": "ipython",
    "version": 3
   },
   "file_extension": ".py",
   "mimetype": "text/x-python",
   "name": "python",
   "nbconvert_exporter": "python",
   "pygments_lexer": "ipython3",
   "version": "3.9.5"
  }
 },
 "nbformat": 4,
 "nbformat_minor": 5
}
