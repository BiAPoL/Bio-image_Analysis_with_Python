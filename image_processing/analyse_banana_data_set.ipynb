{
 "cells": [
  {
   "cell_type": "code",
   "execution_count": 10,
   "id": "coral-quantum",
   "metadata": {},
   "outputs": [],
   "source": [
    "from skimage.filters import threshold_otsu, threshold_yen\n",
    "\n",
    "data_folder = '../data/banana/'"
   ]
  },
  {
   "cell_type": "code",
   "execution_count": 20,
   "id": "dutch-artwork",
   "metadata": {},
   "outputs": [
    {
     "data": {
      "text/plain": [
       "['banana0002.tif',\n",
       " 'banana0003.tif',\n",
       " 'banana0004.tif',\n",
       " 'banana0005.tif',\n",
       " 'banana0006.tif',\n",
       " 'banana0007.tif',\n",
       " 'banana0008.tif',\n",
       " 'banana0009.tif',\n",
       " 'banana0010.tif',\n",
       " 'banana0011.tif',\n",
       " 'banana0012.tif',\n",
       " 'banana0013.tif',\n",
       " 'banana0014.tif',\n",
       " 'banana0015.tif',\n",
       " 'banana0016.tif',\n",
       " 'banana0017.tif',\n",
       " 'banana0018.tif',\n",
       " 'banana0019.tif',\n",
       " 'banana0020.tif',\n",
       " 'banana0021.tif',\n",
       " 'banana0022.tif',\n",
       " 'banana0023.tif',\n",
       " 'banana0024.tif',\n",
       " 'banana0025.tif',\n",
       " 'banana0026.tif']"
      ]
     },
     "execution_count": 20,
     "metadata": {},
     "output_type": "execute_result"
    }
   ],
   "source": [
    "import os\n",
    "\n",
    "# get a list of files in that folder\n",
    "file_list = os.listdir(data_folder)\n",
    "\n",
    "# filter the list so that only tif images remain\n",
    "image_file_list = [file for file in file_list if file.endswith(\".tif\")]\n",
    "image_file_list"
   ]
  },
  {
   "cell_type": "code",
   "execution_count": 12,
   "id": "metallic-punch",
   "metadata": {},
   "outputs": [
    {
     "data": {
      "text/plain": [
       "840"
      ]
     },
     "execution_count": 12,
     "metadata": {},
     "output_type": "execute_result"
    }
   ],
   "source": [
    "def process_image(filename, threshold_function):\n",
    "    \"\"\"\n",
    "    Process a given image file name \n",
    "    \"\"\"\n",
    "    \n",
    "    # load data\n",
    "    from skimage.io import imread\n",
    "    image = imread(filename)\n",
    "    \n",
    "    # segment it\n",
    "    binary_image = image > threshold_function(image)\n",
    "    \n",
    "    from skimage.measure import label\n",
    "    labels = label(binary_image)\n",
    "    \n",
    "    # measure radius\n",
    "    from skimage.measure import regionprops\n",
    "    statistics = regionprops(labels)\n",
    "    areas = [s.area for s in statistics]\n",
    "     \n",
    "    import numpy as np\n",
    "    return np.max(areas)\n",
    "\n",
    "process_image('../data/banana/banana0026.tif', threshold_otsu)"
   ]
  },
  {
   "cell_type": "code",
   "execution_count": 17,
   "id": "answering-dispute",
   "metadata": {},
   "outputs": [
    {
     "name": "stdout",
     "output_type": "stream",
     "text": [
      "[1302, 3072, 5127, 6486, 7208, 7540, 7689, 7761, 7800, 7767, 7793, 7812, 7908, 8145, 8367, 8581, 8744, 8989, 9010, 8618, 7682, 6012, 3846, 1468, 840]\n"
     ]
    }
   ],
   "source": [
    "slice_areas = [process_image(data_folder + file, threshold_otsu) for file in image_file_list]\n",
    "print(slice_areas)"
   ]
  },
  {
   "cell_type": "code",
   "execution_count": 19,
   "id": "alien-choir",
   "metadata": {},
   "outputs": [
    {
     "name": "stdout",
     "output_type": "stream",
     "text": [
      "[1833, 4199, 6074, 7312, 8012, 8379, 8473, 8461, 8382, 8307, 8257, 8300, 8442, 8681, 8967, 9247, 9592, 9880, 9976, 9757, 8886, 7468, 5478, 2203, 1255]\n"
     ]
    }
   ],
   "source": [
    "slice_areas = [process_image(data_folder + file, threshold_yen) for file in image_file_list]\n",
    "print(slice_areas)"
   ]
  },
  {
   "cell_type": "code",
   "execution_count": null,
   "id": "1322c391",
   "metadata": {},
   "outputs": [],
   "source": []
  }
 ],
 "metadata": {
  "kernelspec": {
   "display_name": "Python 3",
   "language": "python",
   "name": "python3"
  },
  "language_info": {
   "codemirror_mode": {
    "name": "ipython",
    "version": 3
   },
   "file_extension": ".py",
   "mimetype": "text/x-python",
   "name": "python",
   "nbconvert_exporter": "python",
   "pygments_lexer": "ipython3",
   "version": "3.9.4"
  }
 },
 "nbformat": 4,
 "nbformat_minor": 5
}
