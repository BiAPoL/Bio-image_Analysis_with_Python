{
 "cells": [
  {
   "cell_type": "code",
   "execution_count": 2,
   "id": "coral-quantum",
   "metadata": {},
   "outputs": [],
   "source": [
    "data_folder = '../data/banana/'\n",
    "\n"
   ]
  },
  {
   "cell_type": "code",
   "execution_count": 3,
   "id": "dutch-artwork",
   "metadata": {},
   "outputs": [
    {
     "name": "stdout",
     "output_type": "stream",
     "text": [
      "../data/banana/ [] ['banana0002.tif', 'banana0003.tif', 'banana0004.tif', 'banana0005.tif', 'banana0006.tif', 'banana0007.tif', 'banana0008.tif', 'banana0009.tif', 'banana0010.tif', 'banana0011.tif', 'banana0012.tif', 'banana0013.tif', 'banana0014.tif', 'banana0015.tif', 'banana0016.tif', 'banana0017.tif', 'banana0018.tif', 'banana0019.tif', 'banana0020.tif', 'banana0021.tif', 'banana0022.tif', 'banana0023.tif', 'banana0024.tif', 'banana0025.tif', 'banana0026.tif', 'image_source.txt']\n"
     ]
    }
   ],
   "source": [
    "import os\n",
    "for root, dirs, files in os.walk(data_folder):\n",
    "    print(root, dirs, files)"
   ]
  },
  {
   "cell_type": "code",
   "execution_count": 5,
   "id": "still-taiwan",
   "metadata": {},
   "outputs": [
    {
     "name": "stdout",
     "output_type": "stream",
     "text": [
      "../data/banana/ [] banana0002.tif\n",
      "../data/banana/ [] banana0003.tif\n",
      "../data/banana/ [] banana0004.tif\n",
      "../data/banana/ [] banana0005.tif\n",
      "../data/banana/ [] banana0006.tif\n",
      "../data/banana/ [] banana0007.tif\n",
      "../data/banana/ [] banana0008.tif\n",
      "../data/banana/ [] banana0009.tif\n",
      "../data/banana/ [] banana0010.tif\n",
      "../data/banana/ [] banana0011.tif\n",
      "../data/banana/ [] banana0012.tif\n",
      "../data/banana/ [] banana0013.tif\n",
      "../data/banana/ [] banana0014.tif\n",
      "../data/banana/ [] banana0015.tif\n",
      "../data/banana/ [] banana0016.tif\n",
      "../data/banana/ [] banana0017.tif\n",
      "../data/banana/ [] banana0018.tif\n",
      "../data/banana/ [] banana0019.tif\n",
      "../data/banana/ [] banana0020.tif\n",
      "../data/banana/ [] banana0021.tif\n",
      "../data/banana/ [] banana0022.tif\n",
      "../data/banana/ [] banana0023.tif\n",
      "../data/banana/ [] banana0024.tif\n",
      "../data/banana/ [] banana0025.tif\n",
      "../data/banana/ [] banana0026.tif\n",
      "../data/banana/ [] image_source.txt\n"
     ]
    }
   ],
   "source": [
    "for root, dirs, files in os.walk(data_folder):\n",
    "    for file in files:\n",
    "        print(root, dirs, file)"
   ]
  },
  {
   "cell_type": "code",
   "execution_count": 7,
   "id": "consecutive-landscape",
   "metadata": {},
   "outputs": [
    {
     "name": "stdout",
     "output_type": "stream",
     "text": [
      "../data/banana/ [] banana0002.tif\n",
      "../data/banana/ [] banana0003.tif\n",
      "../data/banana/ [] banana0004.tif\n",
      "../data/banana/ [] banana0005.tif\n",
      "../data/banana/ [] banana0006.tif\n",
      "../data/banana/ [] banana0007.tif\n",
      "../data/banana/ [] banana0008.tif\n",
      "../data/banana/ [] banana0009.tif\n",
      "../data/banana/ [] banana0010.tif\n",
      "../data/banana/ [] banana0011.tif\n",
      "../data/banana/ [] banana0012.tif\n",
      "../data/banana/ [] banana0013.tif\n",
      "../data/banana/ [] banana0014.tif\n",
      "../data/banana/ [] banana0015.tif\n",
      "../data/banana/ [] banana0016.tif\n",
      "../data/banana/ [] banana0017.tif\n",
      "../data/banana/ [] banana0018.tif\n",
      "../data/banana/ [] banana0019.tif\n",
      "../data/banana/ [] banana0020.tif\n",
      "../data/banana/ [] banana0021.tif\n",
      "../data/banana/ [] banana0022.tif\n",
      "../data/banana/ [] banana0023.tif\n",
      "../data/banana/ [] banana0024.tif\n",
      "../data/banana/ [] banana0025.tif\n",
      "../data/banana/ [] banana0026.tif\n"
     ]
    }
   ],
   "source": [
    "for root, dirs, files in os.walk(data_folder):\n",
    "    for file in files:\n",
    "        if file.endswith('tif'):\n",
    "            print(root, dirs, file)"
   ]
  },
  {
   "cell_type": "code",
   "execution_count": 15,
   "id": "metallic-punch",
   "metadata": {},
   "outputs": [
    {
     "data": {
      "text/plain": [
       "840"
      ]
     },
     "execution_count": 15,
     "metadata": {},
     "output_type": "execute_result"
    }
   ],
   "source": [
    "def process_image(filename):\n",
    "    # load data\n",
    "    from skimage.io import imread\n",
    "    image = imread(filename)\n",
    "    \n",
    "    # segment it\n",
    "    from skimage.filters import threshold_otsu\n",
    "    binary_image = image > threshold_otsu(image)\n",
    "    \n",
    "    from skimage.measure import label\n",
    "    labels = label(binary_image)\n",
    "    \n",
    "    # measure radius\n",
    "    from skimage.measure import regionprops\n",
    "    statistics = regionprops(labels)\n",
    "    areas = [s.area for s in statistics]\n",
    "     \n",
    "    import numpy as np\n",
    "    return np.max(areas)\n",
    "\n",
    "process_image('../data/banana/banana0026.tif')"
   ]
  },
  {
   "cell_type": "code",
   "execution_count": 16,
   "id": "answering-dispute",
   "metadata": {},
   "outputs": [
    {
     "name": "stdout",
     "output_type": "stream",
     "text": [
      "[1302, 3072, 5127, 6486, 7208, 7540, 7689, 7761, 7800, 7767, 7793, 7812, 7908, 8145, 8367, 8581, 8744, 8989, 9010, 8618, 7682, 6012, 3846, 1468, 840]\n"
     ]
    }
   ],
   "source": [
    "slice_areas = []\n",
    "for root, dirs, files in os.walk(data_folder):\n",
    "    for file in files:\n",
    "        if file.endswith('tif'):\n",
    "            slice_areas.append(process_image(root + file))\n",
    "print(slice_areas)"
   ]
  },
  {
   "cell_type": "code",
   "execution_count": 18,
   "id": "raised-polls",
   "metadata": {},
   "outputs": [
    {
     "name": "stdout",
     "output_type": "stream",
     "text": [
      "[1302, 3072, 5127, 6486, 7208, 7540, 7689, 7761, 7800, 7767, 7793, 7812, 7908, 8145, 8367, 8581, 8744, 8989, 9010, 8618, 7682, 6012, 3846, 1468, 840]\n"
     ]
    }
   ],
   "source": [
    "slice_areas = []\n",
    "for root, dirs, files in os.walk(data_folder):\n",
    "    for file in files:\n",
    "        if file.endswith('tif'):\n",
    "            \n",
    "            # load data\n",
    "            from skimage.io import imread\n",
    "            image = imread(root + file)\n",
    "\n",
    "            # segment it\n",
    "            from skimage.filters import threshold_otsu\n",
    "            binary_image = image > threshold_otsu(image)\n",
    "\n",
    "            from skimage.measure import label\n",
    "            labels = label(binary_image)\n",
    "\n",
    "            # measure radius\n",
    "            from skimage.measure import regionprops\n",
    "            statistics = regionprops(labels)\n",
    "            areas = [s.area for s in statistics]\n",
    "\n",
    "            # store result in array\n",
    "            import numpy as np\n",
    "            slice_areas.append(np.max(areas))\n",
    "            \n",
    "print(slice_areas)\n"
   ]
  },
  {
   "cell_type": "code",
   "execution_count": null,
   "id": "alien-choir",
   "metadata": {},
   "outputs": [],
   "source": []
  }
 ],
 "metadata": {
  "kernelspec": {
   "display_name": "Python 3",
   "language": "python",
   "name": "python3"
  },
  "language_info": {
   "codemirror_mode": {
    "name": "ipython",
    "version": 3
   },
   "file_extension": ".py",
   "mimetype": "text/x-python",
   "name": "python",
   "nbconvert_exporter": "python",
   "pygments_lexer": "ipython3",
   "version": "3.8.8"
  }
 },
 "nbformat": 4,
 "nbformat_minor": 5
}
