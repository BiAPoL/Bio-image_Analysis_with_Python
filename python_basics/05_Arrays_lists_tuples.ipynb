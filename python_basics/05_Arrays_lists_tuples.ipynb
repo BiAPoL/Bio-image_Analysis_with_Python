{
 "cells": [
  {
   "cell_type": "markdown",
   "id": "ranging-theology",
   "metadata": {},
   "source": [
    "# Arrays, lists and tuples\n",
    "In python, there are variables which can contain multiple entry of different kinds. In programming, we call them arrays; arrays of values. We already know one kind of arrays, strings. Strings are arrays of characters.\n",
    "\n",
    "See also\n",
    "* [Arrays](https://physics.nyu.edu/pine/pymanual/html/chap3/chap3_arrays.html)\n",
    "* [Average is list](https://www.geeksforgeeks.org/find-average-list-python/)\n",
    "\n",
    "You can access elements in an array using square brackets `[]` which allow you access an element at a given index. Indexing starts at 0. Thus, the first element of an array is element number 0. The following string contains 5 characters and thus, element with index 0, 1, 2, 3 and 4 can be accessed:"
   ]
  },
  {
   "cell_type": "code",
   "execution_count": 2,
   "id": "divine-cartoon",
   "metadata": {},
   "outputs": [],
   "source": [
    "word = \"Hello\""
   ]
  },
  {
   "cell_type": "code",
   "execution_count": 3,
   "id": "mental-height",
   "metadata": {},
   "outputs": [
    {
     "data": {
      "text/plain": [
       "'H'"
      ]
     },
     "execution_count": 3,
     "metadata": {},
     "output_type": "execute_result"
    }
   ],
   "source": [
    "word[0]"
   ]
  },
  {
   "cell_type": "code",
   "execution_count": 4,
   "id": "medical-beverage",
   "metadata": {},
   "outputs": [
    {
     "data": {
      "text/plain": [
       "'e'"
      ]
     },
     "execution_count": 4,
     "metadata": {},
     "output_type": "execute_result"
    }
   ],
   "source": [
    "word[1]"
   ]
  },
  {
   "cell_type": "code",
   "execution_count": 5,
   "id": "collected-cleaning",
   "metadata": {},
   "outputs": [
    {
     "data": {
      "text/plain": [
       "'l'"
      ]
     },
     "execution_count": 5,
     "metadata": {},
     "output_type": "execute_result"
    }
   ],
   "source": [
    "word[2]"
   ]
  },
  {
   "cell_type": "code",
   "execution_count": 6,
   "id": "honest-tribe",
   "metadata": {},
   "outputs": [
    {
     "data": {
      "text/plain": [
       "'l'"
      ]
     },
     "execution_count": 6,
     "metadata": {},
     "output_type": "execute_result"
    }
   ],
   "source": [
    "word[3]"
   ]
  },
  {
   "cell_type": "code",
   "execution_count": 7,
   "id": "electronic-sauce",
   "metadata": {},
   "outputs": [
    {
     "data": {
      "text/plain": [
       "'o'"
      ]
     },
     "execution_count": 7,
     "metadata": {},
     "output_type": "execute_result"
    }
   ],
   "source": [
    "word[4]"
   ]
  },
  {
   "cell_type": "code",
   "execution_count": 8,
   "id": "former-balloon",
   "metadata": {},
   "outputs": [
    {
     "ename": "IndexError",
     "evalue": "string index out of range",
     "output_type": "error",
     "traceback": [
      "\u001b[1;31m---------------------------------------------------------------------------\u001b[0m",
      "\u001b[1;31mIndexError\u001b[0m                                Traceback (most recent call last)",
      "\u001b[1;32m<ipython-input-8-bab53c65d0ff>\u001b[0m in \u001b[0;36m<module>\u001b[1;34m\u001b[0m\n\u001b[1;32m----> 1\u001b[1;33m \u001b[0mword\u001b[0m\u001b[1;33m[\u001b[0m\u001b[1;36m5\u001b[0m\u001b[1;33m]\u001b[0m\u001b[1;33m\u001b[0m\u001b[1;33m\u001b[0m\u001b[0m\n\u001b[0m",
      "\u001b[1;31mIndexError\u001b[0m: string index out of range"
     ]
    }
   ],
   "source": [
    "word[5]"
   ]
  },
  {
   "cell_type": "markdown",
   "id": "robust-therapist",
   "metadata": {},
   "source": [
    "# Numeric lists\n",
    "Another type of array are numeric lists. They are common to store measurements of experiments for example:"
   ]
  },
  {
   "cell_type": "code",
   "execution_count": 9,
   "id": "critical-hearing",
   "metadata": {},
   "outputs": [],
   "source": [
    "measurements = [5.5, 6.3, 7.2, 8.0, 8.8]"
   ]
  },
  {
   "cell_type": "code",
   "execution_count": 10,
   "id": "presidential-brush",
   "metadata": {},
   "outputs": [
    {
     "data": {
      "text/plain": [
       "5.5"
      ]
     },
     "execution_count": 10,
     "metadata": {},
     "output_type": "execute_result"
    }
   ],
   "source": [
    "measurements[0]"
   ]
  },
  {
   "cell_type": "code",
   "execution_count": 12,
   "id": "sweet-munich",
   "metadata": {},
   "outputs": [
    {
     "data": {
      "text/plain": [
       "6.3"
      ]
     },
     "execution_count": 12,
     "metadata": {},
     "output_type": "execute_result"
    }
   ],
   "source": [
    "measurements[1]"
   ]
  },
  {
   "cell_type": "markdown",
   "id": "military-vision",
   "metadata": {},
   "source": [
    "Changing entries in lists works like this:"
   ]
  },
  {
   "cell_type": "code",
   "execution_count": 35,
   "id": "hairy-tomato",
   "metadata": {},
   "outputs": [],
   "source": [
    "measurements[1] = 25"
   ]
  },
  {
   "cell_type": "code",
   "execution_count": 36,
   "id": "usual-leeds",
   "metadata": {},
   "outputs": [
    {
     "data": {
      "text/plain": [
       "25"
      ]
     },
     "execution_count": 36,
     "metadata": {},
     "output_type": "execute_result"
    }
   ],
   "source": [
    "measurements[1]"
   ]
  },
  {
   "cell_type": "markdown",
   "id": "antique-collins",
   "metadata": {},
   "source": [
    "You can also append entries to lists:"
   ]
  },
  {
   "cell_type": "code",
   "execution_count": 42,
   "id": "multiple-coffee",
   "metadata": {},
   "outputs": [],
   "source": [
    "measurements.append(10.2)"
   ]
  },
  {
   "cell_type": "markdown",
   "id": "moved-consultation",
   "metadata": {},
   "source": [
    "Lists can also be reversed:"
   ]
  },
  {
   "cell_type": "code",
   "execution_count": 43,
   "id": "fitting-december",
   "metadata": {},
   "outputs": [
    {
     "data": {
      "text/plain": [
       "[5.5, 25, 7.2, 8.0, 8.8, 10.2]"
      ]
     },
     "execution_count": 43,
     "metadata": {},
     "output_type": "execute_result"
    }
   ],
   "source": [
    "measurements"
   ]
  },
  {
   "cell_type": "code",
   "execution_count": 45,
   "id": "literary-designation",
   "metadata": {},
   "outputs": [],
   "source": [
    "measurements.reverse()"
   ]
  },
  {
   "cell_type": "code",
   "execution_count": 46,
   "id": "united-joint",
   "metadata": {},
   "outputs": [
    {
     "data": {
      "text/plain": [
       "[10.2, 8.8, 8.0, 7.2, 25, 5.5]"
      ]
     },
     "execution_count": 46,
     "metadata": {},
     "output_type": "execute_result"
    }
   ],
   "source": [
    "measurements"
   ]
  },
  {
   "cell_type": "markdown",
   "id": "periodic-toyota",
   "metadata": {},
   "source": [
    "Just like strings, you can also concatenate arrays:"
   ]
  },
  {
   "cell_type": "code",
   "execution_count": 55,
   "id": "gorgeous-harbor",
   "metadata": {},
   "outputs": [],
   "source": [
    "more_measurements = [12.3, 14.5, 28.3]"
   ]
  },
  {
   "cell_type": "code",
   "execution_count": 56,
   "id": "latest-rachel",
   "metadata": {},
   "outputs": [
    {
     "data": {
      "text/plain": [
       "[10.2, 8.8, 8.0, 7.2, 25, 5.5, 12.3, 14.5, 28.3]"
      ]
     },
     "execution_count": 56,
     "metadata": {},
     "output_type": "execute_result"
    }
   ],
   "source": [
    "measurements + more_measurements"
   ]
  },
  {
   "cell_type": "markdown",
   "id": "tested-literature",
   "metadata": {},
   "source": [
    "When working with numeric lists, you can use some of python's built-in functions to do basic statistics on your measurements"
   ]
  },
  {
   "cell_type": "code",
   "execution_count": 37,
   "id": "entitled-incident",
   "metadata": {},
   "outputs": [
    {
     "data": {
      "text/plain": [
       "5.5"
      ]
     },
     "execution_count": 37,
     "metadata": {},
     "output_type": "execute_result"
    }
   ],
   "source": [
    "# minimum value in the list\n",
    "min(measurements)"
   ]
  },
  {
   "cell_type": "code",
   "execution_count": 38,
   "id": "checked-factor",
   "metadata": {},
   "outputs": [
    {
     "data": {
      "text/plain": [
       "25"
      ]
     },
     "execution_count": 38,
     "metadata": {},
     "output_type": "execute_result"
    }
   ],
   "source": [
    "# maximum value in the list\n",
    "max(measurements)"
   ]
  },
  {
   "cell_type": "code",
   "execution_count": 39,
   "id": "irish-space",
   "metadata": {},
   "outputs": [
    {
     "data": {
      "text/plain": [
       "54.5"
      ]
     },
     "execution_count": 39,
     "metadata": {},
     "output_type": "execute_result"
    }
   ],
   "source": [
    "# sum of all elements in the list\n",
    "sum(measurements)"
   ]
  },
  {
   "cell_type": "code",
   "execution_count": 40,
   "id": "established-school",
   "metadata": {},
   "outputs": [
    {
     "data": {
      "text/plain": [
       "5"
      ]
     },
     "execution_count": 40,
     "metadata": {},
     "output_type": "execute_result"
    }
   ],
   "source": [
    "# number of elements in the list\n",
    "len(measurements)"
   ]
  },
  {
   "cell_type": "code",
   "execution_count": 41,
   "id": "spectacular-blocking",
   "metadata": {},
   "outputs": [
    {
     "data": {
      "text/plain": [
       "10.9"
      ]
     },
     "execution_count": 41,
     "metadata": {},
     "output_type": "execute_result"
    }
   ],
   "source": [
    "# average of all elements in the list\n",
    "sum(measurements) / len(measurements)"
   ]
  },
  {
   "cell_type": "markdown",
   "id": "favorite-canvas",
   "metadata": {},
   "source": [
    "# Mixed type lists\n",
    "You can also store values of different types in a list"
   ]
  },
  {
   "cell_type": "code",
   "execution_count": 27,
   "id": "chief-people",
   "metadata": {},
   "outputs": [],
   "source": [
    "mixed_list = [22, 5.6, \"Cat\", 'Dog']"
   ]
  },
  {
   "cell_type": "code",
   "execution_count": 31,
   "id": "listed-shape",
   "metadata": {},
   "outputs": [
    {
     "data": {
      "text/plain": [
       "22"
      ]
     },
     "execution_count": 31,
     "metadata": {},
     "output_type": "execute_result"
    }
   ],
   "source": [
    "mixed_list[0]"
   ]
  },
  {
   "cell_type": "code",
   "execution_count": 32,
   "id": "exclusive-correction",
   "metadata": {},
   "outputs": [
    {
     "data": {
      "text/plain": [
       "'Dog'"
      ]
     },
     "execution_count": 32,
     "metadata": {},
     "output_type": "execute_result"
    }
   ],
   "source": [
    "mixed_list[3]"
   ]
  },
  {
   "cell_type": "code",
   "execution_count": 33,
   "id": "geographic-allah",
   "metadata": {},
   "outputs": [
    {
     "data": {
      "text/plain": [
       "str"
      ]
     },
     "execution_count": 33,
     "metadata": {},
     "output_type": "execute_result"
    }
   ],
   "source": [
    "type(mixed_list[3])"
   ]
  },
  {
   "cell_type": "markdown",
   "id": "sublime-naples",
   "metadata": {},
   "source": [
    "# Tuples\n",
    "Tuples are lists which cannot be changed:"
   ]
  },
  {
   "cell_type": "code",
   "execution_count": 47,
   "id": "ambient-institution",
   "metadata": {},
   "outputs": [],
   "source": [
    "immutable = (4, 3, 7.8)"
   ]
  },
  {
   "cell_type": "code",
   "execution_count": 48,
   "id": "careful-shell",
   "metadata": {},
   "outputs": [
    {
     "data": {
      "text/plain": [
       "3"
      ]
     },
     "execution_count": 48,
     "metadata": {},
     "output_type": "execute_result"
    }
   ],
   "source": [
    "immutable[1]"
   ]
  },
  {
   "cell_type": "code",
   "execution_count": 49,
   "id": "confused-sympathy",
   "metadata": {},
   "outputs": [
    {
     "ename": "TypeError",
     "evalue": "'tuple' object does not support item assignment",
     "output_type": "error",
     "traceback": [
      "\u001b[1;31m---------------------------------------------------------------------------\u001b[0m",
      "\u001b[1;31mTypeError\u001b[0m                                 Traceback (most recent call last)",
      "\u001b[1;32m<ipython-input-49-a01b13633c23>\u001b[0m in \u001b[0;36m<module>\u001b[1;34m\u001b[0m\n\u001b[1;32m----> 1\u001b[1;33m \u001b[0mimmutable\u001b[0m\u001b[1;33m[\u001b[0m\u001b[1;36m1\u001b[0m\u001b[1;33m]\u001b[0m \u001b[1;33m=\u001b[0m \u001b[1;36m5\u001b[0m\u001b[1;33m\u001b[0m\u001b[1;33m\u001b[0m\u001b[0m\n\u001b[0m",
      "\u001b[1;31mTypeError\u001b[0m: 'tuple' object does not support item assignment"
     ]
    }
   ],
   "source": [
    "immutable[1] = 5"
   ]
  },
  {
   "cell_type": "markdown",
   "id": "civic-cameroon",
   "metadata": {},
   "source": [
    "You can convert tubles to lists and lists to tuples:"
   ]
  },
  {
   "cell_type": "code",
   "execution_count": 50,
   "id": "stone-continuity",
   "metadata": {},
   "outputs": [
    {
     "data": {
      "text/plain": [
       "tuple"
      ]
     },
     "execution_count": 50,
     "metadata": {},
     "output_type": "execute_result"
    }
   ],
   "source": [
    "type(immutable)"
   ]
  },
  {
   "cell_type": "code",
   "execution_count": 51,
   "id": "equal-european",
   "metadata": {},
   "outputs": [],
   "source": [
    "mutable = list(immutable)"
   ]
  },
  {
   "cell_type": "code",
   "execution_count": 52,
   "id": "turned-cemetery",
   "metadata": {},
   "outputs": [
    {
     "data": {
      "text/plain": [
       "list"
      ]
     },
     "execution_count": 52,
     "metadata": {},
     "output_type": "execute_result"
    }
   ],
   "source": [
    "type(mutable)"
   ]
  },
  {
   "cell_type": "code",
   "execution_count": 53,
   "id": "upset-bandwidth",
   "metadata": {},
   "outputs": [],
   "source": [
    "again_immuntable = tuple(mutable)"
   ]
  },
  {
   "cell_type": "code",
   "execution_count": 54,
   "id": "tested-contrary",
   "metadata": {},
   "outputs": [
    {
     "data": {
      "text/plain": [
       "tuple"
      ]
     },
     "execution_count": 54,
     "metadata": {},
     "output_type": "execute_result"
    }
   ],
   "source": [
    "type(again_immuntable)"
   ]
  },
  {
   "cell_type": "markdown",
   "id": "supreme-proceeding",
   "metadata": {},
   "source": [
    "# Exercise\n",
    "Assume you did measurements on multiple days. Compute average measurement of this week?"
   ]
  },
  {
   "cell_type": "code",
   "execution_count": 58,
   "id": "sublime-unemployment",
   "metadata": {},
   "outputs": [],
   "source": [
    "measurements_monday = [2.3, 3.1, 5.6]\n",
    "measurements_tuesday = [1.8, 7.0]\n",
    "measurements_wednesday = [4.5, 1.5, 6.4, 3.2]\n",
    "measurements_thursday = [1.9, 2.0]\n",
    "measurements_friday = [4.4]"
   ]
  },
  {
   "cell_type": "markdown",
   "id": "stable-stage",
   "metadata": {},
   "source": []
  }
 ],
 "metadata": {
  "kernelspec": {
   "display_name": "Python 3",
   "language": "python",
   "name": "python3"
  },
  "language_info": {
   "codemirror_mode": {
    "name": "ipython",
    "version": 3
   },
   "file_extension": ".py",
   "mimetype": "text/x-python",
   "name": "python",
   "nbconvert_exporter": "python",
   "pygments_lexer": "ipython3",
   "version": "3.9.2"
  }
 },
 "nbformat": 4,
 "nbformat_minor": 5
}
