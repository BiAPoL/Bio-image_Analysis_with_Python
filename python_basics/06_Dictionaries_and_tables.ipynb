{
 "cells": [
  {
   "cell_type": "markdown",
   "id": "strange-soundtrack",
   "metadata": {},
   "source": [
    "# Dictionaries\n",
    "Dictionaries are data structures that hold key-value pairs, written as `key:value`. \n",
    "\n",
    "See also\n",
    "* [Dictionaries in python](https://www.w3schools.com/python/python_dictionaries.asp)\n",
    "* [Dictionary keys as list](https://stackoverflow.com/questions/16819222/how-to-return-dictionary-keys-as-a-list-in-python)\n",
    "\n",
    "You can define dictionary like this:"
   ]
  },
  {
   "cell_type": "code",
   "execution_count": 2,
   "id": "transparent-external",
   "metadata": {},
   "outputs": [],
   "source": [
    "german_english_dictionary = {'Vorlesung':'Lecture', 'Gleichung':'Equation'}"
   ]
  },
  {
   "cell_type": "markdown",
   "id": "premier-address",
   "metadata": {},
   "source": [
    "For readers convenience, consider writing them like this:"
   ]
  },
  {
   "cell_type": "code",
   "execution_count": 3,
   "id": "constitutional-civilian",
   "metadata": {},
   "outputs": [],
   "source": [
    "german_english_dictionary = {\n",
    "    'Vorlesung':'Lecture', \n",
    "    'Gleichung':'Equation'\n",
    "}"
   ]
  },
  {
   "cell_type": "code",
   "execution_count": 4,
   "id": "fitted-mirror",
   "metadata": {},
   "outputs": [
    {
     "data": {
      "text/plain": [
       "{'Vorlesung': 'Lecture', 'Gleichung': 'Equation'}"
      ]
     },
     "execution_count": 4,
     "metadata": {},
     "output_type": "execute_result"
    }
   ],
   "source": [
    "german_english_dictionary"
   ]
  },
  {
   "cell_type": "markdown",
   "id": "accepted-inspection",
   "metadata": {},
   "source": [
    "If you want to access a given entry in the dictionary, you can address it using square brackets and the key:"
   ]
  },
  {
   "cell_type": "code",
   "execution_count": 5,
   "id": "varying-machine",
   "metadata": {},
   "outputs": [
    {
     "data": {
      "text/plain": [
       "'Lecture'"
      ]
     },
     "execution_count": 5,
     "metadata": {},
     "output_type": "execute_result"
    }
   ],
   "source": [
    "german_english_dictionary['Vorlesung']"
   ]
  },
  {
   "cell_type": "markdown",
   "id": "secure-seventh",
   "metadata": {},
   "source": [
    "You can add elements to the dictionary:"
   ]
  },
  {
   "cell_type": "code",
   "execution_count": 6,
   "id": "aboriginal-shareware",
   "metadata": {},
   "outputs": [],
   "source": [
    "german_english_dictionary['Tag'] = 'Day'"
   ]
  },
  {
   "cell_type": "code",
   "execution_count": 7,
   "id": "motivated-immune",
   "metadata": {},
   "outputs": [
    {
     "data": {
      "text/plain": [
       "{'Vorlesung': 'Lecture', 'Gleichung': 'Equation', 'Tag': 'Day'}"
      ]
     },
     "execution_count": 7,
     "metadata": {},
     "output_type": "execute_result"
    }
   ],
   "source": [
    "german_english_dictionary"
   ]
  },
  {
   "cell_type": "markdown",
   "id": "lovely-investment",
   "metadata": {},
   "source": [
    "You can also retrieve a list of all keys in the dictionary:"
   ]
  },
  {
   "cell_type": "code",
   "execution_count": 14,
   "id": "certain-devon",
   "metadata": {},
   "outputs": [],
   "source": [
    "keys = list(german_english_dictionary.keys())"
   ]
  },
  {
   "cell_type": "code",
   "execution_count": 15,
   "id": "middle-homeless",
   "metadata": {},
   "outputs": [
    {
     "data": {
      "text/plain": [
       "'Vorlesung'"
      ]
     },
     "execution_count": 15,
     "metadata": {},
     "output_type": "execute_result"
    }
   ],
   "source": [
    "keys[0]"
   ]
  },
  {
   "cell_type": "code",
   "execution_count": 16,
   "id": "novel-overall",
   "metadata": {},
   "outputs": [
    {
     "data": {
      "text/plain": [
       "'Gleichung'"
      ]
     },
     "execution_count": 16,
     "metadata": {},
     "output_type": "execute_result"
    }
   ],
   "source": [
    "keys[1]"
   ]
  },
  {
   "cell_type": "markdown",
   "id": "modified-mambo",
   "metadata": {},
   "source": [
    "# Tables\n",
    "Tables *can* be expressed as dictionaries with arrays as elements."
   ]
  },
  {
   "cell_type": "code",
   "execution_count": 21,
   "id": "acceptable-cornell",
   "metadata": {},
   "outputs": [],
   "source": [
    "measurements_week = {\n",
    "    'Monday':[2.3, 3.1, 5.6],\n",
    "    'Tuesday':[1.8, 7.0, 4.3],\n",
    "    'Wednesday':[4.5, 1.5, 3.2],\n",
    "    'Thursday':[1.9, 2.0, 6.4],\n",
    "    'Friday':[4.4, 2.3, 5.4]\n",
    "}"
   ]
  },
  {
   "cell_type": "code",
   "execution_count": 22,
   "id": "expired-ambassador",
   "metadata": {},
   "outputs": [
    {
     "data": {
      "text/plain": [
       "{'Monday': [2.3, 3.1, 5.6],\n",
       " 'Tuesday': [1.8, 7.0, 4.3],\n",
       " 'Wednesday': [4.5, 1.5, 3.2],\n",
       " 'Thursday': [1.9, 2.0, 6.4],\n",
       " 'Friday': [4.4, 2.3, 5.4]}"
      ]
     },
     "execution_count": 22,
     "metadata": {},
     "output_type": "execute_result"
    }
   ],
   "source": [
    "measurements_week"
   ]
  },
  {
   "cell_type": "code",
   "execution_count": 20,
   "id": "permanent-judges",
   "metadata": {},
   "outputs": [
    {
     "data": {
      "text/plain": [
       "[2.3, 3.1, 5.6]"
      ]
     },
     "execution_count": 20,
     "metadata": {},
     "output_type": "execute_result"
    }
   ],
   "source": [
    "measurements_week['monday']"
   ]
  },
  {
   "cell_type": "markdown",
   "id": "positive-motel",
   "metadata": {},
   "source": [
    "You can also store variables in tables:"
   ]
  },
  {
   "cell_type": "code",
   "execution_count": 25,
   "id": "announced-smart",
   "metadata": {},
   "outputs": [],
   "source": [
    "w1 = 5\n",
    "h1 = 3\n",
    "area1 = w1 * h1\n",
    "\n",
    "w2 = 2\n",
    "h2 = 4\n",
    "area2 = w2 * h2\n",
    "\n",
    "rectangles = {\n",
    "    \"width\": [w1, w2],\n",
    "    \"height\": [h1, h2],\n",
    "    \"area\": [area1, area2]\n",
    "}"
   ]
  },
  {
   "cell_type": "code",
   "execution_count": 26,
   "id": "happy-advisory",
   "metadata": {},
   "outputs": [
    {
     "data": {
      "text/plain": [
       "{'width': [5, 2], 'height': [3, 4], 'area': [15, 8]}"
      ]
     },
     "execution_count": 26,
     "metadata": {},
     "output_type": "execute_result"
    }
   ],
   "source": [
    "rectangles"
   ]
  },
  {
   "cell_type": "markdown",
   "id": "alike-leisure",
   "metadata": {},
   "source": [
    "# Exercise\n",
    "You just measured the radius of three circles. Write them into a table and add a column with corresponding circlea area measurements."
   ]
  },
  {
   "cell_type": "code",
   "execution_count": 27,
   "id": "distinguished-simulation",
   "metadata": {},
   "outputs": [],
   "source": [
    "r1 = 12\n",
    "r2 = 8\n",
    "r3 = 15"
   ]
  },
  {
   "cell_type": "code",
   "execution_count": null,
   "id": "compound-crawford",
   "metadata": {},
   "outputs": [],
   "source": []
  }
 ],
 "metadata": {
  "kernelspec": {
   "display_name": "Python 3",
   "language": "python",
   "name": "python3"
  },
  "language_info": {
   "codemirror_mode": {
    "name": "ipython",
    "version": 3
   },
   "file_extension": ".py",
   "mimetype": "text/x-python",
   "name": "python",
   "nbconvert_exporter": "python",
   "pygments_lexer": "ipython3",
   "version": "3.9.2"
  }
 },
 "nbformat": 4,
 "nbformat_minor": 5
}
