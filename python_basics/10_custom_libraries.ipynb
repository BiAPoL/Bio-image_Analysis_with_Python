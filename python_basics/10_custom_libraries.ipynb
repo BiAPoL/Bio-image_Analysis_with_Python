{
 "cells": [
  {
   "cell_type": "markdown",
   "id": "directed-compensation",
   "metadata": {},
   "source": [
    "# Custom libraries\n",
    "When programming python for some time, you may be using again and again the same code. You could copy&paste it from jupyter notebook to jupyter notebook. However, notebooks are not meant to hold many functions. Notebooks are meant to show short and concise examples of code. Thus, in order to organize our code, we can put function we use more often into a python file, a custom library, and then import the functions.\n",
    "\n",
    "See also:\n",
    "* [The import system](https://docs.python.org/3/reference/import.html)\n",
    "\n",
    "Within the same folder, there exists a [my_library.py](my_library.py) file. It contains two functions. Let's import them and use them:"
   ]
  },
  {
   "cell_type": "code",
   "execution_count": 1,
   "id": "collaborative-leisure",
   "metadata": {},
   "outputs": [],
   "source": [
    "from my_library import square"
   ]
  },
  {
   "cell_type": "code",
   "execution_count": 2,
   "id": "compressed-chassis",
   "metadata": {},
   "outputs": [
    {
     "data": {
      "text/plain": [
       "25"
      ]
     },
     "execution_count": 2,
     "metadata": {},
     "output_type": "execute_result"
    }
   ],
   "source": [
    "square(5)"
   ]
  },
  {
   "cell_type": "code",
   "execution_count": 4,
   "id": "coastal-franklin",
   "metadata": {},
   "outputs": [],
   "source": [
    "from my_library import *"
   ]
  },
  {
   "cell_type": "code",
   "execution_count": 5,
   "id": "defensive-small",
   "metadata": {},
   "outputs": [
    {
     "data": {
      "text/plain": [
       "2.449489742783178"
      ]
     },
     "execution_count": 5,
     "metadata": {},
     "output_type": "execute_result"
    }
   ],
   "source": [
    "wuzzle(5)"
   ]
  },
  {
   "cell_type": "markdown",
   "id": "aggregate-invalid",
   "metadata": {},
   "source": [
    "When maintaining your own library of functions, make sure that the functions have reasonable names and useful docstrings. You may otherwise be confused about your own code later on.\n",
    "\n",
    "This is a good example:"
   ]
  },
  {
   "cell_type": "code",
   "execution_count": 6,
   "id": "catholic-afternoon",
   "metadata": {},
   "outputs": [
    {
     "name": "stdout",
     "output_type": "stream",
     "text": [
      "\n",
      "    Squares a number by multiplying it with itself  and returns its result.\n",
      "    \n"
     ]
    }
   ],
   "source": [
    "print(square.__doc__)"
   ]
  },
  {
   "cell_type": "markdown",
   "id": "textile-cricket",
   "metadata": {},
   "source": [
    "This is a bad example:"
   ]
  },
  {
   "cell_type": "code",
   "execution_count": 8,
   "id": "lesbian-candy",
   "metadata": {},
   "outputs": [
    {
     "name": "stdout",
     "output_type": "stream",
     "text": [
      "\n",
      "    The wuzzle function manipulates a number in a magic way and returns the result.\n",
      "    \n"
     ]
    }
   ],
   "source": [
    "print(wuzzle.__doc__)"
   ]
  },
  {
   "cell_type": "markdown",
   "id": "approved-violence",
   "metadata": {},
   "source": [
    "## Modifying code in custom libraries\n",
    "If you modify code in a python library file side-by-side with the code in a notebook, you may have restart your notebook after modifying the library file. You can do this in the menu `Kernel > Restart & Run All`."
   ]
  },
  {
   "cell_type": "markdown",
   "id": "liable-press",
   "metadata": {},
   "source": [
    "# Exercise\n",
    "Create an own library and write a function that can compute the [Euclidean distance](https://en.wikipedia.org/wiki/Euclidean_distance) between two points. The point coordinates are given as tuples. Hint: You will need a for-loop in this function that iterates pair-wise over the two coordinates:"
   ]
  },
  {
   "cell_type": "code",
   "execution_count": 9,
   "id": "worse-reggae",
   "metadata": {},
   "outputs": [],
   "source": [
    "p = (1.5, 6.4, 7.3)\n",
    "q = (3.4, 1.0, 0.9)"
   ]
  },
  {
   "cell_type": "code",
   "execution_count": null,
   "id": "confident-incidence",
   "metadata": {},
   "outputs": [],
   "source": []
  }
 ],
 "metadata": {
  "kernelspec": {
   "display_name": "Python 3",
   "language": "python",
   "name": "python3"
  },
  "language_info": {
   "codemirror_mode": {
    "name": "ipython",
    "version": 3
   },
   "file_extension": ".py",
   "mimetype": "text/x-python",
   "name": "python",
   "nbconvert_exporter": "python",
   "pygments_lexer": "ipython3",
   "version": "3.9.4"
  }
 },
 "nbformat": 4,
 "nbformat_minor": 5
}
